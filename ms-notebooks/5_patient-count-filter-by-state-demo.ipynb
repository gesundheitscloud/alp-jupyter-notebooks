{
 "cells": [
  {
   "cell_type": "markdown",
   "metadata": {},
   "source": [
    "## Fetch count of patients from state California (CA) or Florida (FL)"
   ]
  },
  {
   "cell_type": "markdown",
   "metadata": {},
   "source": [
    "Setup the imports."
   ]
  },
  {
   "cell_type": "code",
   "execution_count": null,
   "metadata": {},
   "outputs": [],
   "source": [
    "from pyqe import *"
   ]
  },
  {
   "cell_type": "markdown",
   "metadata": {},
   "source": [
    "Always start with creating a query object. \n",
    "\n",
    "Apart from creating Query object, it does the following that are required for setting up your profile:\n",
    "- Ask for username and password for login"
   ]
  },
  {
   "cell_type": "code",
   "execution_count": null,
   "metadata": {},
   "outputs": [],
   "source": [
    "# Always begin your script by creating Query object\n",
    "query_patients_in_CA_or_FL = Query(\"query_patients_in_CA_or_FL\")"
   ]
  },
  {
   "cell_type": "markdown",
   "metadata": {},
   "source": [
    "Use get_study_list() method to fetch all available studies that you have access to.\n",
    "\n",
    "Use set_study() method to select a study that you are interested in (by passing the study ID)."
   ]
  },
  {
   "cell_type": "code",
   "execution_count": null,
   "metadata": {},
   "outputs": [],
   "source": [
    "query_patients_in_CA_or_FL.get_study_list()\n",
    "\n",
    "# any STUDY_ID from above list\n",
    "query_patients_in_CA_or_FL.set_study('703c5d8a-a1d9-4d42-a314-5b9aad513390') "
   ]
  },
  {
   "cell_type": "markdown",
   "metadata": {},
   "source": [
    "Similar to above step, use get_config_list() method to fetch all available configurations corresponding to the study.\n",
    "\n",
    "Use set_study_config() method to select a config (by passing the config ID)."
   ]
  },
  {
   "cell_type": "code",
   "execution_count": null,
   "metadata": {},
   "outputs": [],
   "source": [
    "query_patients_in_CA_or_FL.get_config_list()\n",
    "\n",
    "# any CONFIG_ID from above list\n",
    "query_patients_in_CA_or_FL.set_study_config('088791fd-cac7-4281-9d61-6f4efd92d2f5') "
   ]
  },
  {
   "cell_type": "markdown",
   "metadata": {},
   "source": [
    "Create Constraint object using by using a California value expression:\n",
    "- Use the operator ComparisonOperator.EQUAL (equal to) on the value 'CA'"
   ]
  },
  {
   "cell_type": "code",
   "execution_count": null,
   "metadata": {},
   "outputs": [],
   "source": [
    "## 5.1 create Constraint object for CA\n",
    "constraint_state_CA = Constraint()\n",
    "constraint_state_CA.add(Expression(ComparisonOperator.EQUAL, 'CA'))"
   ]
  },
  {
   "cell_type": "markdown",
   "metadata": {},
   "source": [
    "Create Constraint object by using a Florida value expression:\n",
    "- Use the operator ComparisonOperator.EQUAL (equal to) on the value 'FL'"
   ]
  },
  {
   "cell_type": "code",
   "execution_count": null,
   "metadata": {},
   "outputs": [],
   "source": [
    "## 5.2 create Constraint object for FL\n",
    "constraint_state_FL = Constraint()\n",
    "constraint_state_FL.add(Expression(ComparisonOperator.EQUAL, 'FL'))"
   ]
  },
  {
   "cell_type": "markdown",
   "metadata": {},
   "source": [
    "Create filtercard:\n",
    "- Create a filter card of type Patient\n",
    "- Add constraint_state_FL, constraint_state_CA to the filter card using the method add_state\n",
    "\n",
    "NOTE: Adding both constraints to the filter card within a single list ensures OR operation"
   ]
  },
  {
   "cell_type": "code",
   "execution_count": null,
   "metadata": {},
   "outputs": [],
   "source": [
    "## 5.3 create Patient filtercard and add constraint_state_FL, constraint_state_CA to filtercard_patient_state_CA_or_FL with OR condition\n",
    "filtercard_patient_state_CA_or_FL = Person.Patient()\n",
    "\n",
    "# adding constraint_state_FL, constraint_state_CA in the same list will ensure OR operation\n",
    "filtercard_patient_state_CA_or_FL.add_state([constraint_state_CA, constraint_state_FL]) "
   ]
  },
  {
   "cell_type": "markdown",
   "metadata": {},
   "source": [
    "Add filter card filtercard_patient_state_CA_or_FL to the query object query_patients_in_CA_or_FL created in the first step."
   ]
  },
  {
   "cell_type": "code",
   "execution_count": null,
   "metadata": {},
   "outputs": [],
   "source": [
    "## 5.4 add filtercard to the query_patients_in_CA_or_FL\n",
    "query_patients_in_CA_or_FL.add_filters([filtercard_patient_state_CA_or_FL])"
   ]
  },
  {
   "cell_type": "markdown",
   "metadata": {},
   "source": [
    "Use the query object, call the method get_patient_count_filter() to create a request object."
   ]
  },
  {
   "cell_type": "code",
   "execution_count": null,
   "metadata": {},
   "outputs": [],
   "source": [
    "## 5.5 create request and get total patient count of patients from CA or FL\n",
    "request_total_patients_from_CA_or_FL = query_patients_in_CA_or_FL.get_patient_count_filter()"
   ]
  },
  {
   "cell_type": "markdown",
   "metadata": {},
   "source": [
    "Further create a Result class object (that does magic).\n",
    "\n",
    "In our case, get_patient_count() method is called by passing the request object created above. \n",
    "\n",
    "Returned result will be the patient count as integer value."
   ]
  },
  {
   "cell_type": "code",
   "execution_count": null,
   "metadata": {},
   "outputs": [],
   "source": [
    "total_patient_count_from_CA_or_FL = Result().get_patient_count(request_total_patients_from_CA_or_FL)\n",
    "print(f'\\nTotal participants from FL or CA: {total_patient_count_from_CA_or_FL}')"
   ]
  }
 ],
 "metadata": {
  "kernelspec": {
   "display_name": "Python 3 (ipykernel)",
   "language": "python",
   "name": "python3"
  },
  "language_info": {
   "codemirror_mode": {
    "name": "ipython",
    "version": 3
   },
   "file_extension": ".py",
   "mimetype": "text/x-python",
   "name": "python",
   "nbconvert_exporter": "python",
   "pygments_lexer": "ipython3",
   "version": "3.9.7"
  }
 },
 "nbformat": 4,
 "nbformat_minor": 4
}
