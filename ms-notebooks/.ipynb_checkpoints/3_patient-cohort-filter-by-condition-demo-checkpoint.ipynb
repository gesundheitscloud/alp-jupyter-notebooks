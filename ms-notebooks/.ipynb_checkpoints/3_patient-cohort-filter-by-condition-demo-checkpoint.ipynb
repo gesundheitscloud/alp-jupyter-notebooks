{
 "cells": [
  {
   "cell_type": "markdown",
   "metadata": {},
   "source": [
    "## Fetch the patient cohort with Low back pain AND Type 2 diabetes mellitus"
   ]
  },
  {
   "cell_type": "markdown",
   "metadata": {},
   "source": [
    "Setup the imports."
   ]
  },
  {
   "cell_type": "code",
   "execution_count": null,
   "metadata": {},
   "outputs": [],
   "source": [
    "from pyqe import *"
   ]
  },
  {
   "cell_type": "markdown",
   "metadata": {},
   "source": [
    "Always start with creating a query object. \n",
    "\n",
    "Apart from creating Query object, it does the following that are required for setting up your profile:\n",
    "- Ask for username and password for login"
   ]
  },
  {
   "cell_type": "code",
   "execution_count": null,
   "metadata": {},
   "outputs": [],
   "source": [
    "# Always begin your script by creating Query object\n",
    "query_type2_diabetes = Query('Patients_with_Type2_diabetes_mellitus_and_Low_back_pain')"
   ]
  },
  {
   "cell_type": "markdown",
   "metadata": {},
   "source": [
    "Use get_study_list() method to fetch all available studies that you have access to.\n",
    "\n",
    "Use set_study() method to select a study that you are interested in (by passing the study ID)."
   ]
  },
  {
   "cell_type": "code",
   "execution_count": null,
   "metadata": {},
   "outputs": [],
   "source": [
    "query_type2_diabetes.get_study_list()\n",
    "\n",
    "# any STUDY_ID from above list\n",
    "query_type2_diabetes.set_study('703c5d8a-a1d9-4d42-a314-5b9aad513390') "
   ]
  },
  {
   "cell_type": "markdown",
   "metadata": {},
   "source": [
    "Similar to above step, use get_config_list() method to fetch all available configurations corresponding to the study.\n",
    "\n",
    "Use set_study_config() method to select a config (by passing the config ID)."
   ]
  },
  {
   "cell_type": "code",
   "execution_count": null,
   "metadata": {},
   "outputs": [],
   "source": [
    "query_type2_diabetes.get_config_list()\n",
    "\n",
    "# any CONFIG_ID from above list\n",
    "query_type2_diabetes.set_study_config('088791fd-cac7-4281-9d61-6f4efd92d2f5') "
   ]
  },
  {
   "cell_type": "markdown",
   "metadata": {},
   "source": [
    "Create two Expression objects as described below:\n",
    "- ComparisonOperator.EQUAL (strictly match the value) and 'Low back pain' (a value that our expression relies on)\n",
    "- ComparisonOperator.EQUAL (strictly match the value) and 'Type2 Diabetes Mellitus' (a value that our expression relies on)"
   ]
  },
  {
   "cell_type": "code",
   "execution_count": null,
   "metadata": {},
   "outputs": [],
   "source": [
    "exp_equal_low_backpain = Expression(ComparisonOperator.EQUAL, 'Low back pain')\n",
    "exp_equal_type2_diabetes_mellitus = Expression(ComparisonOperator.EQUAL, 'Type 2 diabetes mellitus')"
   ]
  },
  {
   "cell_type": "markdown",
   "metadata": {},
   "source": [
    "Create a low backpain condition constraint:\n",
    "- Create a Constraint object\n",
    "- Add the exp_equal_low_backpain to the constraint"
   ]
  },
  {
   "cell_type": "code",
   "execution_count": null,
   "metadata": {},
   "outputs": [],
   "source": [
    "## 3.1 create Constraint with Low back pain\n",
    "constraint_low_back_pain = Constraint()\n",
    "constraint_low_back_pain.add(exp_equal_low_backpain)"
   ]
  },
  {
   "cell_type": "markdown",
   "metadata": {},
   "source": [
    "Create a type 2 diabetes condition constraint:\n",
    "- Create a Constraint object\n",
    "- Add the exp_equal_type2_diabetes_mellitus to the constraint"
   ]
  },
  {
   "cell_type": "code",
   "execution_count": null,
   "metadata": {},
   "outputs": [],
   "source": [
    "## 3.2 create Constraint with Type2 diabetes mellitus\n",
    "constraint_type2_diabetes_mellitus = Constraint()\n",
    "constraint_type2_diabetes_mellitus.add(exp_equal_type2_diabetes_mellitus)"
   ]
  },
  {
   "cell_type": "markdown",
   "metadata": {},
   "source": [
    "Use Interactions class to create a filtercard of type ConditionOccurrence with name 'Diabetes'\n",
    "\n",
    "Interactions is a parent class which can help to define/instantiate any filter card that is available in the study configuration. \n",
    "\n",
    "Go to Miscellaneous to find out more on how to view all filter cards."
   ]
  },
  {
   "cell_type": "code",
   "execution_count": null,
   "metadata": {},
   "outputs": [],
   "source": [
    "## 3.3 create a ConditionOccurrence interaction (filtercard)\n",
    "filtercard_diabetes_type2 = Interactions.ConditionOccurrence('Diabetes')"
   ]
  },
  {
   "cell_type": "markdown",
   "metadata": {},
   "source": [
    "Call add_condition_name() method twice to add the constraints created above.\n",
    "\n",
    "NOTE: The reason to adding the constraints separately is to ensure operation AND"
   ]
  },
  {
   "cell_type": "code",
   "execution_count": null,
   "metadata": {},
   "outputs": [],
   "source": [
    "## 3.4 add constraint_type2_diabetes_mellitus AND constraint_low_back_pain to the filtercard_diabetes_type2 (filtercard)\n",
    "## NOTE: Adding the constraints separately will ensure operation AND\n",
    "# filtercard_diabetes_type2.add_condition_name([constraint_type2_diabetes_mellitus])\n",
    "# filtercard_diabetes_type2.add_condition_name([constraint_low_back_pain])"
   ]
  },
  {
   "cell_type": "markdown",
   "metadata": {},
   "source": [
    "Adding constraints constraint_type2_diabetes_mellitus, constraint_low_back_pain together to the filtercard_diabetes_type2 (filtercard) will ensure OR operation"
   ]
  },
  {
   "cell_type": "code",
   "execution_count": null,
   "metadata": {},
   "outputs": [],
   "source": [
    "# On a side note, adding constraints constraint_type2_diabetes_mellitus, constraint_low_back_pain to filtercard_diabetes_type2 (filtercard) with OR operation will look like\n",
    "filtercard_diabetes_type2.add_condition_name([constraint_type2_diabetes_mellitus, constraint_low_back_pain])"
   ]
  },
  {
   "cell_type": "markdown",
   "metadata": {},
   "source": [
    "Create a criterial group with Match All condition with multiple filter cards"
   ]
  },
  {
   "cell_type": "code",
   "execution_count": null,
   "metadata": {},
   "outputs": [],
   "source": [
    "query_type2_diabetes.add_criteria_group(CriteriaGroup(MatchCriteria.ALL, [Person.Patient(), filtercard_diabetes_type2]))"
   ]
  },
  {
   "cell_type": "markdown",
   "metadata": {},
   "source": [
    "Use the query object, call the method get_cohort() to create a cohort object preparing for fetching dataframe. Please select the required entity when asked and rerun this step to select a different entity for a dataframe."
   ]
  },
  {
   "cell_type": "code",
   "execution_count": null,
   "metadata": {},
   "outputs": [],
   "source": [
    "req_cohort_type2_diabetes = query_type2_diabetes.get_dataframe_cohort()"
   ]
  },
  {
   "cell_type": "markdown",
   "metadata": {},
   "source": [
    "Further create a Result class object (that does magic).\n",
    "\n",
    "In our case, download_dataframe() method is called by passing the cohort object created above. \n",
    "\n",
    "Returned result will be a list of patients matching (strictly) both filter cards created above"
   ]
  },
  {
   "cell_type": "code",
   "execution_count": null,
   "metadata": {},
   "outputs": [],
   "source": [
    "## 3.6 Create Result and Get Patient Cohort\n",
    "patient_type2_diabetes = Result().download_dataframe(req_cohort_type2_diabetes)\n",
    "print(f'\\n Dataframe: {patient_type2_diabetes.head(10)}')"
   ]
  }
 ],
 "metadata": {
  "kernelspec": {
   "display_name": "Python 3 (ipykernel)",
   "language": "python",
   "name": "python3"
  },
  "language_info": {
   "codemirror_mode": {
    "name": "ipython",
    "version": 3
   },
   "file_extension": ".py",
   "mimetype": "text/x-python",
   "name": "python",
   "nbconvert_exporter": "python",
   "pygments_lexer": "ipython3",
   "version": "3.9.7"
  }
 },
 "nbformat": 4,
 "nbformat_minor": 4
}
