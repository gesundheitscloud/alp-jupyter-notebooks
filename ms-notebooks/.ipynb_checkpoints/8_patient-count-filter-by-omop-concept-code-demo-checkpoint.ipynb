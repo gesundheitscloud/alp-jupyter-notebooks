{
 "cells": [
  {
   "cell_type": "markdown",
   "metadata": {},
   "source": [
    "## Fetch total patient count with Sleep Apnea condition, device exposure & CPT4 procedure using ConceptSet (OMOP standard codes)"
   ]
  },
  {
   "cell_type": "markdown",
   "metadata": {},
   "source": [
    "Setup the imports."
   ]
  },
  {
   "cell_type": "code",
   "execution_count": null,
   "metadata": {},
   "outputs": [],
   "source": [
    "from pyqe import *"
   ]
  },
  {
   "cell_type": "markdown",
   "metadata": {},
   "source": [
    "Always start with creating a query object. \n",
    "\n",
    "Apart from creating Query object, it does the following that are required for setting up your profile:\n",
    "- Ask for username and password for login"
   ]
  },
  {
   "cell_type": "code",
   "execution_count": null,
   "metadata": {},
   "outputs": [],
   "source": [
    "# Always begin your script by creating Query object\n",
    "query_phenotype = Query('Total_Patients_With_Sleep_Apnea')"
   ]
  },
  {
   "cell_type": "markdown",
   "metadata": {},
   "source": [
    "Use get_study_list() method to fetch all available studies that you have access to.\n",
    "\n",
    "Use set_study() method to select a study that you are interested in (by passing the study ID)."
   ]
  },
  {
   "cell_type": "code",
   "execution_count": null,
   "metadata": {},
   "outputs": [],
   "source": [
    "query_phenotype.get_study_list()\n",
    "\n",
    "# any STUDY_ID from above list\n",
    "query_phenotype.set_study('703c5d8a-a1d9-4d42-a314-5b9aad513390') "
   ]
  },
  {
   "cell_type": "markdown",
   "metadata": {},
   "source": [
    "Similar to above step, use get_config_list() method to fetch all available configurations corresponding to the study.\n",
    "\n",
    "Use set_study_config() method to select a config (by passing the config ID)."
   ]
  },
  {
   "cell_type": "code",
   "execution_count": null,
   "metadata": {},
   "outputs": [],
   "source": [
    "query_phenotype.get_config_list()\n",
    "\n",
    "# any CONFIG_ID from above list\n",
    "query_phenotype.set_study_config('088791fd-cac7-4281-9d61-6f4efd92d2f5') "
   ]
  },
  {
   "cell_type": "markdown",
   "metadata": {},
   "source": [
    "Create ConceptSet object with the following parameters:\n",
    "- Name of the conceptset\n",
    "- Domain of the conceptset\n",
    "- List of standard concept codes\n",
    "\n",
    "List of concept codes will be referred to in the Condition domain."
   ]
  },
  {
   "cell_type": "code",
   "execution_count": null,
   "metadata": {},
   "outputs": [],
   "source": [
    "## 8.1 create ConceptSet with name, domain type CONDITION and list of standard concept codes \n",
    "conceptset_sleep_apnea_dx = ConceptSet('Sleep Apnea Dx', Domain.CONDITION, ['73430006', '41975002', '79280005', '78275009'])"
   ]
  },
  {
   "cell_type": "markdown",
   "metadata": {},
   "source": [
    "Create filtercard:\n",
    "- Create a filtercard with ConditionOccurrence class.\n",
    "- Add the conceptset_sleep_apnea_dx object to the filtercard using the method add_concept_set().\n",
    "\n",
    "The difference here is, filter card criteria is added in the form of ConceptSet object. (In previous examples add_condition_name() method was used)"
   ]
  },
  {
   "cell_type": "code",
   "execution_count": null,
   "metadata": {},
   "outputs": [],
   "source": [
    "## 8.2 create ConditionOccurrence filter card \n",
    "filtercard_sleep_apnea_dx_condition = Interactions.ConditionOccurrence(conceptset_sleep_apnea_dx.name)\n",
    "filtercard_sleep_apnea_dx_condition.add_concept_set(conceptset_sleep_apnea_dx)"
   ]
  },
  {
   "cell_type": "markdown",
   "metadata": {},
   "source": [
    "Create ConceptSet object with the following parameters:\n",
    "- Name of the conceptset\n",
    "- Domain of the conceptset\n",
    "- List of standard concept codes\n",
    "\n",
    "List of concept codes will be referred to in the Device domain."
   ]
  },
  {
   "cell_type": "code",
   "execution_count": null,
   "metadata": {},
   "outputs": [],
   "source": [
    "## 8.3 create ConceptSet with name, domain type Device and list of standard concept codes\n",
    "conceptset_sleep_apnea_device = ConceptSet('Sleep Apnea Device', Domain.DEVICE, ['A7034', 'A9270', 'E0470', 'E0471', 'E0601'])"
   ]
  },
  {
   "cell_type": "markdown",
   "metadata": {},
   "source": [
    "Create filtercard:\n",
    "- Create a filtercard with DeviceExposure class\n",
    "- Add the conceptset_sleep_apnea_device object to the filtercard using the method add_concept_set()"
   ]
  },
  {
   "cell_type": "code",
   "execution_count": null,
   "metadata": {},
   "outputs": [],
   "source": [
    "## 8.4 create DeviceExposure filtercard \n",
    "filtercard_sleep_apnea_device_exposure = Interactions.DeviceExposure(conceptset_sleep_apnea_device.name)\n",
    "filtercard_sleep_apnea_device_exposure.add_concept_set(conceptset_sleep_apnea_device)"
   ]
  },
  {
   "cell_type": "markdown",
   "metadata": {},
   "source": [
    "Create ConceptSet object with the following parameters:\n",
    "- name of the conceptset\n",
    "- Domain of the conceptset\n",
    "- list of standard concept codes\n",
    "\n",
    "List of concept codes will be referred to in the PROCEDURE domain."
   ]
  },
  {
   "cell_type": "code",
   "execution_count": null,
   "metadata": {},
   "outputs": [],
   "source": [
    "## 8.5 create ConceptSet with name, domain type Procedure and list of standard concept codes\n",
    "conceptset_sleep_apnea_cpt = ConceptSet('Sleep Apnea CPT4', Domain.PROCEDURE, ['95811'])"
   ]
  },
  {
   "cell_type": "markdown",
   "metadata": {},
   "source": [
    "Create filtercard:\n",
    "- Create a filtercard with ProcedureOccurrence class\n",
    "- Add the conceptset_sleep_apnea_cpt object to the filtercard using the method add_concept_set()"
   ]
  },
  {
   "cell_type": "code",
   "execution_count": null,
   "metadata": {},
   "outputs": [],
   "source": [
    "## 8.6 create ProcedureOccurrence filtercard \n",
    "filtercard_sleep_apnea_cpt_procedure = Interactions.ProcedureOccurrence(conceptset_sleep_apnea_cpt.name)\n",
    "filtercard_sleep_apnea_cpt_procedure.add_concept_set(conceptset_sleep_apnea_cpt)"
   ]
  },
  {
   "cell_type": "markdown",
   "metadata": {},
   "source": [
    "Create CriteriaGroup object criteriagroup_sleep_apnea with the following values:\n",
    "- MatchCriteria.ANY condition (ANY of the filter cards' conditions added to the CriteriaGroup must hold true)\n",
    "- List of filter cards that the MatchCriteria condition must be applied on"
   ]
  },
  {
   "cell_type": "code",
   "execution_count": null,
   "metadata": {},
   "outputs": [],
   "source": [
    "criteriagroup_sleep_apnea = CriteriaGroup(MatchCriteria.ANY, [filtercard_sleep_apnea_dx_condition, filtercard_sleep_apnea_device_exposure, filtercard_sleep_apnea_cpt_procedure])"
   ]
  },
  {
   "cell_type": "markdown",
   "metadata": {},
   "source": [
    "Add criteriagroup_sleep_apnea to the query created in step 1"
   ]
  },
  {
   "cell_type": "code",
   "execution_count": null,
   "metadata": {},
   "outputs": [],
   "source": [
    "## 8.7 create CriteriaGroup with match ANY criteria on the above filtercards\n",
    "query_phenotype.add_criteria_group(criteriagroup_sleep_apnea)"
   ]
  },
  {
   "cell_type": "markdown",
   "metadata": {},
   "source": [
    "Use the query object, call the method get_patient_count_filter() to create a request object."
   ]
  },
  {
   "cell_type": "code",
   "execution_count": null,
   "metadata": {},
   "outputs": [],
   "source": [
    "## 8.8 fetch the total patient count \n",
    "phenotype_request = query_phenotype.get_patient_count_filter()"
   ]
  },
  {
   "cell_type": "markdown",
   "metadata": {},
   "source": [
    "Further create a Result class object (that does magic).\n",
    "\n",
    "In our case, get_patient_count() method is called by passing the request object created above. \n",
    "\n",
    "Returned result will be the patient count as integer value."
   ]
  },
  {
   "cell_type": "code",
   "execution_count": null,
   "metadata": {},
   "outputs": [],
   "source": [
    "phenotype_patient_count = Result().get_patient_count(phenotype_request)\n",
    "print(f'\\nTotal patients with Sleep Apnea condition, device exposure & CPT4 procedure: {phenotype_patient_count}')"
   ]
  }
 ],
 "metadata": {
  "kernelspec": {
   "display_name": "Python 3 (ipykernel)",
   "language": "python",
   "name": "python3"
  },
  "language_info": {
   "codemirror_mode": {
    "name": "ipython",
    "version": 3
   },
   "file_extension": ".py",
   "mimetype": "text/x-python",
   "name": "python",
   "nbconvert_exporter": "python",
   "pygments_lexer": "ipython3",
   "version": "3.9.7"
  }
 },
 "nbformat": 4,
 "nbformat_minor": 4
}
