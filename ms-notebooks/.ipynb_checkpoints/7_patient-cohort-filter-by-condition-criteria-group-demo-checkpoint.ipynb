{
 "cells": [
  {
   "cell_type": "markdown",
   "metadata": {},
   "source": [
    "## CriteriaGroup is another (preferred) way to specify AND and OR conditions in the query: Fetch the female patient cohort with Low back pain OR Type 2 diabetes mellitus with living patients"
   ]
  },
  {
   "cell_type": "markdown",
   "metadata": {},
   "source": [
    "Setup the imports."
   ]
  },
  {
   "cell_type": "code",
   "execution_count": null,
   "metadata": {},
   "outputs": [],
   "source": [
    "from pyqe import *"
   ]
  },
  {
   "cell_type": "markdown",
   "metadata": {},
   "source": [
    "Always start with creating a query object. \n",
    "\n",
    "Apart from creating Query object, it does the following that are required for setting up your profile:\n",
    "- Ask for username and password for login"
   ]
  },
  {
   "cell_type": "code",
   "execution_count": null,
   "metadata": {},
   "outputs": [],
   "source": [
    "# Always begin your script by creating Query object\n",
    "query_female_patients_with_low_backpain_or_type2_diabetes_mellitus_and_alive = Query(\"female_patients_with_low_backpain_or_type2_diabetes_mellitus_and_alive\")"
   ]
  },
  {
   "cell_type": "markdown",
   "metadata": {},
   "source": [
    "Use get_study_list() method to fetch all available studies that you have access to.\n",
    "\n",
    "Use set_study() method to select a study that you are interested in (by passing the study ID)."
   ]
  },
  {
   "cell_type": "code",
   "execution_count": null,
   "metadata": {},
   "outputs": [],
   "source": [
    "query_female_patients_with_low_backpain_or_type2_diabetes_mellitus_and_alive.get_study_list()\n",
    "\n",
    "# any STUDY_ID from above list\n",
    "query_female_patients_with_low_backpain_or_type2_diabetes_mellitus_and_alive.set_study('703c5d8a-a1d9-4d42-a314-5b9aad513390') "
   ]
  },
  {
   "cell_type": "markdown",
   "metadata": {},
   "source": [
    "Similar to above step, use get_config_list() method to fetch all available configurations corresponding to the study.\n",
    "\n",
    "Use set_study_config() method to select a config (by passing the config ID)."
   ]
  },
  {
   "cell_type": "code",
   "execution_count": null,
   "metadata": {},
   "outputs": [],
   "source": [
    "query_female_patients_with_low_backpain_or_type2_diabetes_mellitus_and_alive.get_config_list()\n",
    "\n",
    "# any CONFIG_ID from above list\n",
    "query_female_patients_with_low_backpain_or_type2_diabetes_mellitus_and_alive.set_study_config('088791fd-cac7-4281-9d61-6f4efd92d2f5') "
   ]
  },
  {
   "cell_type": "markdown",
   "metadata": {},
   "source": [
    "Create two Expression objects as described below:\n",
    "- ComparisonOperator.EQUAL (strictly match the value) and 'Low back pain' (a value that our expression relies on)\n",
    "- ComparisonOperator.EQUAL (strictly match the value) and 'Type2 Diabetes Mellitus' (a value that our expression relies on)"
   ]
  },
  {
   "cell_type": "code",
   "execution_count": null,
   "metadata": {},
   "outputs": [],
   "source": [
    "exp_equal_low_backpain = Expression(ComparisonOperator.EQUAL, 'Low back pain')\n",
    "exp_equal_type2_diabetes_mellitus = Expression(ComparisonOperator.EQUAL, 'Type 2 diabetes mellitus')"
   ]
  },
  {
   "cell_type": "markdown",
   "metadata": {},
   "source": [
    "Create a low backpain condition constraint:\n",
    "- Create a Constraint object\n",
    "- Add the exp_equal_low_backpain to the constraint"
   ]
  },
  {
   "cell_type": "code",
   "execution_count": null,
   "metadata": {},
   "outputs": [],
   "source": [
    "constraint_low_back_pain = Constraint()\n",
    "constraint_low_back_pain.add(exp_equal_low_backpain)"
   ]
  },
  {
   "cell_type": "markdown",
   "metadata": {},
   "source": [
    "Create a type 2 diabetes condition constraint:\n",
    "- Create a Constraint object\n",
    "- Add the exp_equal_type2_diabetes_mellitus to the constraint"
   ]
  },
  {
   "cell_type": "code",
   "execution_count": null,
   "metadata": {},
   "outputs": [],
   "source": [
    "constraint_type2_diabetes_mellitus = Constraint()\n",
    "constraint_type2_diabetes_mellitus.add(exp_equal_type2_diabetes_mellitus)"
   ]
  },
  {
   "cell_type": "markdown",
   "metadata": {},
   "source": [
    "Use Interactions class to create a filtercard of type ConditionOccurrence with name 'Type2 Diabetes Mellitus'.\n",
    "\n",
    "NOTE: Interactions is a parent class which can help to define/instantiate any filter card that is available in the study configuration. \n",
    "\n",
    "Go to Miscellaneous to find out more on how to view all filter cards.\n",
    "\n",
    "Call add_condition_name() method to add the constraint constraint_type2_diabetes_mellitus"
   ]
  },
  {
   "cell_type": "code",
   "execution_count": null,
   "metadata": {},
   "outputs": [],
   "source": [
    "## 7.1 Create two filtercards, filtercard_diabetes_type2 and filtercard_low_backpain\n",
    "filtercard_diabetes_type2 = Interactions.ConditionOccurrence('Type2 Diabetes Mellitus')\n",
    "filtercard_diabetes_type2.add_condition_name([constraint_type2_diabetes_mellitus])"
   ]
  },
  {
   "cell_type": "markdown",
   "metadata": {},
   "source": [
    "Use Interactions class to create a filtercard of type ConditionOccurrence with name 'Low backpain'.\n",
    "\n",
    "Call add_condition_name() method to add the constraint constraint_low_back_pain."
   ]
  },
  {
   "cell_type": "code",
   "execution_count": null,
   "metadata": {},
   "outputs": [],
   "source": [
    "filtercard_low_backpain = Interactions.ConditionOccurrence('Low backpain')\n",
    "filtercard_low_backpain.add_condition_name([constraint_low_back_pain])"
   ]
  },
  {
   "cell_type": "markdown",
   "metadata": {},
   "source": [
    "Create CriteriaGroup object criteriagroup_type2_diabetes_or_low_backpain with the following values:\n",
    "- MatchCriteria.ANY condition (ANY of the filter cards' conditions added to the criteriagroup must hold true)\n",
    "- List of filter cards that the MatchCriteria condition must be applied on"
   ]
  },
  {
   "cell_type": "code",
   "execution_count": null,
   "metadata": {},
   "outputs": [],
   "source": [
    "## 7.2 create CriteriaGroup with OR condition on above filtercards\n",
    "criteriagroup_type2_diabetes_or_low_backpain = CriteriaGroup(MatchCriteria.ANY, [filtercard_diabetes_type2, filtercard_low_backpain])"
   ]
  },
  {
   "cell_type": "markdown",
   "metadata": {},
   "source": [
    "Create a gender constraint:\n",
    "- Create a Constraint object\n",
    "- Create and add an expression (that EQUALS 'Female') to the Constraint object"
   ]
  },
  {
   "cell_type": "code",
   "execution_count": null,
   "metadata": {},
   "outputs": [],
   "source": [
    "## 7.3 create Patient filtercard with female constraint\n",
    "constraint_female_gender = Constraint()\n",
    "constraint_female_gender.add(Expression(ComparisonOperator.EQUAL, 'Female'))"
   ]
  },
  {
   "cell_type": "markdown",
   "metadata": {},
   "source": [
    "Create a filter card:\n",
    "- Create a filtercard of type Patient class\n",
    "- Call add_gender() to add the constraint constraint_female_gender\n",
    "\n",
    "NOTE: Patient object has multiple methods in order to add constraints, for example, add_county(), add_race(), add_state(). \n",
    "\n",
    "Go to Miscellaneous to find out more on how to view all such methods."
   ]
  },
  {
   "cell_type": "code",
   "execution_count": null,
   "metadata": {},
   "outputs": [],
   "source": [
    "filtercard_female_patient = Person.Patient()\n",
    "filtercard_female_patient.add_gender([constraint_female_gender])"
   ]
  },
  {
   "cell_type": "markdown",
   "metadata": {},
   "source": [
    "Create CriteriaGroup object criteriagroup_female_patient with the following values:\n",
    "- MatchCriteria.ALL condition (ALL of the filter cards' conditions added to the CriteriaGroup must hold true)\n",
    "- List of filter cards that the MatchCriteria condition must be applied on"
   ]
  },
  {
   "cell_type": "markdown",
   "metadata": {},
   "source": [
    "Create a filtercard of type Death. Also add the option CardType.EXCLUDED.\n",
    "\n",
    "NOTE: During the creation of any interaction, an addition parameter may be passed to specify CardType. \n",
    "\n",
    "Default value is INCLUDED, otherwise specify CardType.EXCLUDED to exclude results that satisfies the filtercard conditions."
   ]
  },
  {
   "cell_type": "code",
   "execution_count": null,
   "metadata": {},
   "outputs": [],
   "source": [
    "## 7.4 Create Death filtercard\n",
    "filtercard_death = Interactions.Death('dead patients', CardType.EXCLUDED)"
   ]
  },
  {
   "cell_type": "markdown",
   "metadata": {},
   "source": [
    "A change in the previous example will be to create CriteriaGroup object criteriagroup_female_and_not_dead with filtercard_death and filtercard_female_patient with the MatchCriteria.ALL as shown to strictly match both conditions."
   ]
  },
  {
   "cell_type": "code",
   "execution_count": null,
   "metadata": {},
   "outputs": [],
   "source": [
    "## 7.5 using CriteriaGroup\n",
    "criteriagroup_female_and_not_dead = CriteriaGroup(MatchCriteria.ALL, [filtercard_female_patient, filtercard_death])\n"
   ]
  },
  {
   "cell_type": "markdown",
   "metadata": {},
   "source": [
    "Similar to the previous script, add criteriagroup_type2_diabetes_or_low_backpain CriteriaGroup object to criteriagroup object criteriagroup_female_and_not_dead as shown."
   ]
  },
  {
   "cell_type": "code",
   "execution_count": null,
   "metadata": {},
   "outputs": [],
   "source": [
    "criteriagroup_type2_diabetes_or_low_backpain = CriteriaGroup(MatchCriteria.ANY, [filtercard_diabetes_type2, filtercard_low_backpain])\n",
    "criteriagroup_female_and_not_dead.add_exclusive_group(criteriagroup_type2_diabetes_or_low_backpain)\n"
   ]
  },
  {
   "cell_type": "markdown",
   "metadata": {},
   "source": [
    "Similar to the previous script, add the criteriagroup object criteriagroup_female_and_not_dead to the query as shown."
   ]
  },
  {
   "cell_type": "code",
   "execution_count": null,
   "metadata": {},
   "outputs": [],
   "source": [
    "query_female_patients_with_low_backpain_or_type2_diabetes_mellitus_and_alive.add_criteria_group(criteriagroup_female_and_not_dead)"
   ]
  },
  {
   "cell_type": "markdown",
   "metadata": {},
   "source": [
    "Fetch the dataframe cohort"
   ]
  },
  {
   "cell_type": "code",
   "execution_count": null,
   "metadata": {},
   "outputs": [],
   "source": [
    "query_female_patients_with_low_backpain_or_type2_diabetes_mellitus_and_alive_cohort = query_female_patients_with_low_backpain_or_type2_diabetes_mellitus_and_alive.get_dataframe_cohort()\n",
    "query_female_patients_with_low_backpain_or_type2_diabetes_mellitus_and_alive_df = Result().download_dataframe(query_female_patients_with_low_backpain_or_type2_diabetes_mellitus_and_alive_cohort)\n",
    "print(f'\\n Number of records : {len(query_female_patients_with_low_backpain_or_type2_diabetes_mellitus_and_alive_df)}')\n",
    "print(f'\\n Participants: {query_female_patients_with_low_backpain_or_type2_diabetes_mellitus_and_alive_df.head(10)}')"
   ]
  }
 ],
 "metadata": {
  "kernelspec": {
   "display_name": "Python 3 (ipykernel)",
   "language": "python",
   "name": "python3"
  },
  "language_info": {
   "codemirror_mode": {
    "name": "ipython",
    "version": 3
   },
   "file_extension": ".py",
   "mimetype": "text/x-python",
   "name": "python",
   "nbconvert_exporter": "python",
   "pygments_lexer": "ipython3",
   "version": "3.9.7"
  }
 },
 "nbformat": 4,
 "nbformat_minor": 4
}
