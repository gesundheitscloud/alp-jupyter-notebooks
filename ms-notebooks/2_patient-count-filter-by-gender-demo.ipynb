{
 "cells": [
  {
   "cell_type": "markdown",
   "metadata": {},
   "source": [
    "## Fetch total count of patients filtered by 'Male' gender"
   ]
  },
  {
   "cell_type": "markdown",
   "metadata": {},
   "source": [
    "Setup the imports."
   ]
  },
  {
   "cell_type": "code",
   "execution_count": null,
   "metadata": {},
   "outputs": [],
   "source": [
    "from pyqe import *"
   ]
  },
  {
   "cell_type": "markdown",
   "metadata": {},
   "source": [
    "Always start with creating a query object. \n",
    "\n",
    "Apart from creating Query object, it does the following that are required for setting up your profile:\n",
    "- Ask for username and password for login"
   ]
  },
  {
   "cell_type": "code",
   "execution_count": null,
   "metadata": {},
   "outputs": [],
   "source": [
    "# Always begin your script by creating Query object\n",
    "query_total_male_patients = Query('Total_Participants_By_Gender_Male')"
   ]
  },
  {
   "cell_type": "markdown",
   "metadata": {},
   "source": [
    "Use get_study_list() method to fetch all available studies that you have access to.\n",
    "\n",
    "Use set_study() method to select a study that you are interested in (by passing the study ID)."
   ]
  },
  {
   "cell_type": "code",
   "execution_count": null,
   "metadata": {},
   "outputs": [],
   "source": [
    "query_total_male_patients.get_study_list()\n",
    "\n",
    "# any STUDY_ID from above list\n",
    "query_total_male_patients.set_study('703c5d8a-a1d9-4d42-a314-5b9aad513390') "
   ]
  },
  {
   "cell_type": "markdown",
   "metadata": {},
   "source": [
    "Similar to above step, use get_config_list() method to fetch all available configurations corresponding to the study.\n",
    "\n",
    "Use set_study_config() method to select a config (by passing the config ID)."
   ]
  },
  {
   "cell_type": "code",
   "execution_count": null,
   "metadata": {},
   "outputs": [],
   "source": [
    "query_total_male_patients.get_config_list()\n",
    "\n",
    "# any CONFIG_ID from above list\n",
    "query_total_male_patients.set_study_config('088791fd-cac7-4281-9d61-6f4efd92d2f5') "
   ]
  },
  {
   "cell_type": "markdown",
   "metadata": {},
   "source": [
    "Create an Expression object with the following inputs in the same order:\n",
    "- ComparisonOperator.EQUAL (strictly match the value)\n",
    "- 'Male' (a value that our expression relies on)"
   ]
  },
  {
   "cell_type": "code",
   "execution_count": null,
   "metadata": {},
   "outputs": [],
   "source": [
    "exp_equals_male = Expression(ComparisonOperator.EQUAL, 'Male')"
   ]
  },
  {
   "cell_type": "markdown",
   "metadata": {},
   "source": [
    "Create a gender constraint:\n",
    "- Create a Constraint object\n",
    "- Add the exp_equals_male to the constraint\n",
    "\n",
    "NOTE: Constraint may have multiple expressions. Remember that multiple expressions in a constraint will perform AND operation on them. It means when such a constraint (with multiple expressions) is added to a filtercard, the result will strictly MATCH ALL expressions defined."
   ]
  },
  {
   "cell_type": "code",
   "execution_count": null,
   "metadata": {},
   "outputs": [],
   "source": [
    "## 2.1 Create Gender Constraint\n",
    "constraint_male = Constraint()\n",
    "constraint_male.add(exp_equals_male)"
   ]
  },
  {
   "cell_type": "markdown",
   "metadata": {},
   "source": [
    "Create filtercard:\n",
    "- Create a filtercard of type Patient class\n",
    "- Call add_gender() to add the constraint constraint_male\n",
    "\n",
    "NOTE: Patient object has multiple methods in order to add constraints, for example, add_county(), add_race(), add_state(). \n",
    "\n",
    "Go to Miscellaneous to find out more on how to view all such methods."
   ]
  },
  {
   "cell_type": "code",
   "execution_count": null,
   "metadata": {},
   "outputs": [],
   "source": [
    "## 2.2 Create Patient object and add the constraint\n",
    "filtercard_patient = Person.Patient()\n",
    "filtercard_patient.add_gender([constraint_male])"
   ]
  },
  {
   "cell_type": "markdown",
   "metadata": {},
   "source": [
    "Add the filter filtercard_patient to the query object created in step 1"
   ]
  },
  {
   "cell_type": "code",
   "execution_count": null,
   "metadata": {},
   "outputs": [],
   "source": [
    "## 2.3 Add Patient filter to the query\n",
    "query_total_male_patients.add_filters([filtercard_patient])"
   ]
  },
  {
   "cell_type": "markdown",
   "metadata": {},
   "source": [
    "Use the query object, call the method get_patient_count_filter() to create a request object"
   ]
  },
  {
   "cell_type": "code",
   "execution_count": null,
   "metadata": {},
   "outputs": [],
   "source": [
    "## 2.4 Create Result and Get Total Patient Count\n",
    "total_male_patients_req = query_total_male_patients.get_patient_count_filter()"
   ]
  },
  {
   "cell_type": "markdown",
   "metadata": {},
   "source": [
    "Further create a Result class object (that does magic).\n",
    "\n",
    "In our case, get_patient_count() method is called by passing the request object created above.\n",
    "\n",
    "Returned result will be the patient count as integer value."
   ]
  },
  {
   "cell_type": "code",
   "execution_count": null,
   "metadata": {},
   "outputs": [],
   "source": [
    "total_male_patients = Result().get_patient_count(total_male_patients_req)\n",
    "print(f'\\nTotal participants: {total_male_patients}')"
   ]
  }
 ],
 "metadata": {
  "kernelspec": {
   "display_name": "Python 3 (ipykernel)",
   "language": "python",
   "name": "python3"
  },
  "language_info": {
   "codemirror_mode": {
    "name": "ipython",
    "version": 3
   },
   "file_extension": ".py",
   "mimetype": "text/x-python",
   "name": "python",
   "nbconvert_exporter": "python",
   "pygments_lexer": "ipython3",
   "version": "3.9.7"
  }
 },
 "nbformat": 4,
 "nbformat_minor": 4
}
