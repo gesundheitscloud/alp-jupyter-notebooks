{
 "cells": [
  {
   "cell_type": "markdown",
   "metadata": {},
   "source": [
    "## CriteriaGroup is another (preferred) way to specify AND and OR conditions in the query: Fetch the female patient cohort with Low back pain OR Type 2 diabetes mellitus"
   ]
  },
  {
   "cell_type": "markdown",
   "metadata": {},
   "source": [
    "Setup the imports."
   ]
  },
  {
   "cell_type": "code",
   "execution_count": null,
   "metadata": {},
   "outputs": [],
   "source": [
    "from pyqe import *"
   ]
  },
  {
   "cell_type": "markdown",
   "metadata": {},
   "source": [
    "Always start with creating a query object. \n",
    "\n",
    "Apart from creating Query object, it does the following that are required for setting up your profile:\n",
    "- Ask for username and password for login"
   ]
  },
  {
   "cell_type": "code",
   "execution_count": null,
   "metadata": {},
   "outputs": [],
   "source": [
    "# Always begin your script by creating Query object\n",
    "query_female_patients = Query(\"female_patients_with_low_backpain_or_type2_diabetes_mellitus\")"
   ]
  },
  {
   "cell_type": "markdown",
   "metadata": {},
   "source": [
    "Use get_study_list() method to fetch all available studies that you have access to.\n",
    "\n",
    "Use set_study() method to select a study that you are interested in (by passing the study ID)."
   ]
  },
  {
   "cell_type": "code",
   "execution_count": null,
   "metadata": {},
   "outputs": [],
   "source": [
    "query_female_patients.get_study_list()\n",
    "\n",
    "# any STUDY_ID from above list\n",
    "query_female_patients.set_study('703c5d8a-a1d9-4d42-a314-5b9aad513390') "
   ]
  },
  {
   "cell_type": "markdown",
   "metadata": {},
   "source": [
    "Similar to above step, use get_config_list() method to fetch all available configurations corresponding to the study.\n",
    "\n",
    "Use set_study_config() method to select a config (by passing the config ID)."
   ]
  },
  {
   "cell_type": "code",
   "execution_count": null,
   "metadata": {},
   "outputs": [],
   "source": [
    "query_female_patients.get_config_list()\n",
    "\n",
    "# any CONFIG_ID from above list\n",
    "query_female_patients.set_study_config('088791fd-cac7-4281-9d61-6f4efd92d2f5') "
   ]
  },
  {
   "cell_type": "markdown",
   "metadata": {},
   "source": [
    "Create two Expression objects as described below:\n",
    "- ComparisonOperator.EQUAL (strictly match the value) and 'Low back pain' (a value that our expression relies on)\n",
    "- ComparisonOperator.EQUAL (strictly match the value) and 'Type2 Diabetes Mellitus' (a value that our expression relies on)"
   ]
  },
  {
   "cell_type": "code",
   "execution_count": null,
   "metadata": {},
   "outputs": [],
   "source": [
    "exp_equal_low_backpain = Expression(ComparisonOperator.EQUAL, 'Low back pain')\n",
    "exp_equal_type2_diabetes_mellitus = Expression(ComparisonOperator.EQUAL, 'Type 2 diabetes mellitus')"
   ]
  },
  {
   "cell_type": "markdown",
   "metadata": {},
   "source": [
    "Create a low backpain condition constraint:\n",
    "- Create a Constraint object\n",
    "- Add the exp_equal_low_backpain to the constraint"
   ]
  },
  {
   "cell_type": "code",
   "execution_count": null,
   "metadata": {},
   "outputs": [],
   "source": [
    "constraint_low_back_pain = Constraint()\n",
    "constraint_low_back_pain.add(exp_equal_low_backpain)"
   ]
  },
  {
   "cell_type": "markdown",
   "metadata": {},
   "source": [
    "Create a type 2 diabetes condition constraint:\n",
    "- Create a Constraint object\n",
    "- Add the exp_equal_type2_diabetes_mellitus to the constraint"
   ]
  },
  {
   "cell_type": "code",
   "execution_count": null,
   "metadata": {},
   "outputs": [],
   "source": [
    "constraint_type2_diabetes_mellitus = Constraint()\n",
    "constraint_type2_diabetes_mellitus.add(exp_equal_type2_diabetes_mellitus)"
   ]
  },
  {
   "cell_type": "markdown",
   "metadata": {},
   "source": [
    "Use Interactions class to create a filtercard of type ConditionOccurrence with name 'Type2 Diabetes Mellitus'.\n",
    "\n",
    "NOTE: Interactions is a parent class which can help to define/instantiate any filter card that is available in the study configuration. \n",
    "\n",
    "Go to Miscellaneous to find out more on how to view all filter cards.\n",
    "\n",
    "Call add_condition_name() method to add the constraint constraint_type2_diabetes_mellitus"
   ]
  },
  {
   "cell_type": "code",
   "execution_count": null,
   "metadata": {},
   "outputs": [],
   "source": [
    "## 6.1 Create two filtercards, filtercard_diabetes_type2 and filtercard_low_backpain\n",
    "filtercard_diabetes_type2 = Interactions.ConditionOccurrence('Type2 Diabetes Mellitus')\n",
    "filtercard_diabetes_type2.add_condition_name([constraint_type2_diabetes_mellitus])"
   ]
  },
  {
   "cell_type": "markdown",
   "metadata": {},
   "source": [
    "Use Interactions class to create a filtercard of type ConditionOccurrence with name 'Low backpain'.\n",
    "\n",
    "Call add_condition_name() method to add the constraint constraint_low_back_pain."
   ]
  },
  {
   "cell_type": "code",
   "execution_count": null,
   "metadata": {},
   "outputs": [],
   "source": [
    "filtercard_low_backpain = Interactions.ConditionOccurrence('Low backpain')\n",
    "filtercard_low_backpain.add_condition_name([constraint_low_back_pain])"
   ]
  },
  {
   "cell_type": "markdown",
   "metadata": {},
   "source": [
    "Create CriteriaGroup object criteriagroup_type2_diabetes_or_low_backpain with the following values:\n",
    "- MatchCriteria.ANY condition (ANY of the filter cards' conditions added to the criteriagroup must hold true)\n",
    "- List of filter cards that the MatchCriteria condition must be applied on"
   ]
  },
  {
   "cell_type": "code",
   "execution_count": null,
   "metadata": {},
   "outputs": [],
   "source": [
    "## 6.2 create CriteriaGroup with OR condition on above filtercards\n",
    "criteriagroup_type2_diabetes_or_low_backpain = CriteriaGroup(MatchCriteria.ANY, [filtercard_diabetes_type2, filtercard_low_backpain])\n"
   ]
  },
  {
   "cell_type": "markdown",
   "metadata": {},
   "source": [
    "Create a gender constraint:\n",
    "- Create a Constraint object\n",
    "- Create and add an expression (that EQUALS 'Female') to the Constraint object"
   ]
  },
  {
   "cell_type": "code",
   "execution_count": null,
   "metadata": {},
   "outputs": [],
   "source": [
    "## 6.3 create Patient filtercard with female constraint\n",
    "constraint_female_gender = Constraint()\n",
    "constraint_female_gender.add(Expression(ComparisonOperator.EQUAL, 'Female'))"
   ]
  },
  {
   "cell_type": "markdown",
   "metadata": {},
   "source": [
    "Create a filter card:\n",
    "- Create a filtercard of type Patient class\n",
    "- Call add_gender() to add the constraint constraint_female_gender\n",
    "\n",
    "NOTE: Patient object has multiple methods in order to add constraints, for example, add_county(), add_race(), add_state(). \n",
    "\n",
    "Go to Miscellaneous to find out more on how to view all such methods."
   ]
  },
  {
   "cell_type": "code",
   "execution_count": null,
   "metadata": {},
   "outputs": [],
   "source": [
    "filtercard_female_patient = Person.Patient()\n",
    "filtercard_female_patient.add_gender([constraint_female_gender])"
   ]
  },
  {
   "cell_type": "markdown",
   "metadata": {},
   "source": [
    "Create CriteriaGroup object criteriagroup_female_patient with the following values:\n",
    "- MatchCriteria.ALL condition (ALL of the filter cards' conditions added to the CriteriaGroup must hold true)\n",
    "- List of filter cards that the MatchCriteria condition must be applied on"
   ]
  },
  {
   "cell_type": "code",
   "execution_count": null,
   "metadata": {},
   "outputs": [],
   "source": [
    "criteriagroup_female_patient = CriteriaGroup(MatchCriteria.ALL, [filtercard_female_patient])"
   ]
  },
  {
   "cell_type": "markdown",
   "metadata": {},
   "source": [
    "Add criteriagroup_type2_diabetes_or_low_backpain to the object criteriagroup_female_patient.\n",
    "\n",
    "NOTE: It means all filter cards that exist in criteriagroup_type2_diabetes_or_low_backpain will also be applied to the Result."
   ]
  },
  {
   "cell_type": "code",
   "execution_count": null,
   "metadata": {
    "tags": []
   },
   "outputs": [],
   "source": [
    "## 6.4 perform AND operation between two CriteriaGroups\n",
    "criteriagroup_female_patient.add_exclusive_group(criteriagroup_type2_diabetes_or_low_backpain)"
   ]
  },
  {
   "cell_type": "markdown",
   "metadata": {
    "tags": []
   },
   "source": [
    "Add criteriagroup_female_patient to the query created in step 1."
   ]
  },
  {
   "cell_type": "code",
   "execution_count": null,
   "metadata": {},
   "outputs": [],
   "source": [
    "# 6.5 add CriteriaGroup to the query object and fetch the cohort\n",
    "query_female_patients.add_criteria_group(criteriagroup_female_patient)"
   ]
  },
  {
   "cell_type": "markdown",
   "metadata": {},
   "source": [
    "Use the query object, call the method get_cohort() to create a cohort object preparing for fetching dataframe. Please select the required entity when asked and rerun this step to select a different entity for a dataframe."
   ]
  },
  {
   "cell_type": "code",
   "execution_count": null,
   "metadata": {},
   "outputs": [],
   "source": [
    "request_female_patients_with_type2_diabetes_or_low_backpain = query.get_dataframe_cohort()"
   ]
  },
  {
   "cell_type": "markdown",
   "metadata": {},
   "source": [
    "Further create a Result class object (that does magic).\n",
    "\n",
    "In our case, download_dataframe() method is called by passing the cohort object created above. \n",
    "\n",
    "Returned result will be a list of patients matching (strictly) both filter cards created above"
   ]
  },
  {
   "cell_type": "code",
   "execution_count": null,
   "metadata": {},
   "outputs": [],
   "source": [
    "female_patients_with_low_backpain_or_type2_diabetes_mellitus = Result().download_dataframe(request_female_patients_with_type2_diabetes_or_low_backpain)\n",
    "print(f'\\n Participants: {female_patients_with_low_backpain_or_type2_diabetes_mellitus.head(10)}')"
   ]
  }
 ],
 "metadata": {
  "kernelspec": {
   "display_name": "Python 3 (ipykernel)",
   "language": "python",
   "name": "python3"
  },
  "language_info": {
   "codemirror_mode": {
    "name": "ipython",
    "version": 3
   },
   "file_extension": ".py",
   "mimetype": "text/x-python",
   "name": "python",
   "nbconvert_exporter": "python",
   "pygments_lexer": "ipython3",
   "version": "3.9.7"
  }
 },
 "nbformat": 4,
 "nbformat_minor": 4
}
