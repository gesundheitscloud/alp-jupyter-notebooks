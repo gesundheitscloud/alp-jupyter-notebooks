{
 "cells": [
  {
   "cell_type": "code",
   "execution_count": null,
   "id": "adapted-lindsay",
   "metadata": {},
   "outputs": [],
   "source": [
    "from pyqe import *\n",
    "\n",
    "total_patients_query = Query('ADHD Phenotype') # Always begin your script by creating Query object\n",
    "\n",
    "total_patients_query.get_study_list()\n",
    "total_patients_query.set_study('62ce796d-f38a-4dab-95b9-00d202ece4fe') # any STUDY_ID from above list\n",
    "total_patients_query.set_study_config('14356623-1766-4acb-9e16-9285d47bb71c') # any config id from above list"
   ]
  },
  {
   "cell_type": "code",
   "execution_count": null,
   "id": "58675f2d-b03a-4288-8cae-9c6551138c67",
   "metadata": {},
   "outputs": [],
   "source": [
    "from pyqe import *\n",
    "\n",
    "# Patients who are 4 years old and above\n",
    "patient_data = Person.Patient()\n",
    "constraint_age_greater_than_4_years = Constraint()\n",
    "constraint_age_greater_than_4_years.add(Expression(ComparisonOperator.MORE_THAN_EQUAL, 4))\n",
    "patient_data.add_age([constraint_age_greater_than_4_years])"
   ]
  },
  {
   "cell_type": "code",
   "execution_count": null,
   "id": "d7da784a-722e-4d52-bc5d-7a41fd26aa8e",
   "metadata": {},
   "outputs": [],
   "source": [
    "# Patients who are diagnosed with ADHD conditions\n",
    "adhd_conditionOcc = Interactions.ConditionOccurrence(\"ADHD conditions Interaction\")\n",
    "adhd_condition_concepts = ConceptSet(\n",
    "                           'Conditions',\n",
    "                            Domain.CONDITION, \n",
    "                           ['406506008', '192132008', '192131001']) \n",
    "adhd_conditionOcc.add_concept_set(adhd_condition_concepts)\n",
    "\n",
    "# Add Patients who are prescribed with ADHD medications\n",
    "adhd_drug_concepts  = ConceptSet('ADHD Medications',\n",
    "                            Domain.DRUG, \n",
    "                           ['1091497', '2599', '725', '40114', '308979', '308976', '308973', \n",
    "                            '2598', '4493', '36437', '35636', '32937', '10737',\n",
    "                            '310384', '313990','310385', '313989', '312938', \n",
    "                            '312940', '312941', '374185'])\n",
    "\n",
    "adhd_drugExposure = Interactions.DrugExposure(\"ADHD Medications Interaction\")\n",
    "adhd_drugExposure.add_concept_set(adhd_drug_concepts)\n",
    "\n",
    "\n",
    "# Exclusion of Certain Conditions like Dementia\n",
    "exclude_other_conditionOcc = Interactions.ConditionOccurrence(\"Other Disorders\", CardType.EXCLUDED)\n",
    "exclude_condition_concepts = ConceptSet('Conditions',\n",
    "                            Domain.CONDITION, \n",
    "                           ['191449005', '397923000', '31297008', '18393005', \n",
    "                            '50705009', '5507002', '86765009', '110359009', \n",
    "                            '40700009', '31216003', '61152003'])\n",
    "exclude_other_conditionOcc.add_concept_set(exclude_condition_concepts)"
   ]
  },
  {
   "cell_type": "code",
   "execution_count": null,
   "id": "4d0cfd52-9454-4127-ae5e-db65051ad1ab",
   "metadata": {},
   "outputs": [],
   "source": [
    "# Combine the criteria for demographic data, ADHD conditions & medications\n",
    "ADHD_group = CriteriaGroup(\n",
    "    MatchCriteria.ALL, [patient_data, adhd_conditionOcc, exclude_other_conditionOcc])\n",
    "\n",
    "# Add Exclusive to the final Criteria Group\n",
    "exclusive_group = CriteriaGroup(\n",
    "    MatchCriteria.ANY, [adhd_drugExposure])\n",
    "\n",
    "ADHD_group.add_exclusive_group(exclusive_group)\n",
    "\n",
    "# Add criteria group into query\n",
    "total_patients_query.add_criteria_group(ADHD_group)"
   ]
  },
  {
   "cell_type": "code",
   "execution_count": null,
   "id": "0a6209e9-372b-4a23-a920-95ca91d762c3",
   "metadata": {},
   "outputs": [],
   "source": [
    "# Generate the request\n",
    "request = total_patients_query.get_patient_count_filter()\n",
    "\n",
    "# Get the result from the request\n",
    "patient_count = Result().get_patient_count(request)\n",
    "print(f'\\nTotal number of patients for ADHD Phenotype: {patient_count}')"
   ]
  },
  {
   "cell_type": "code",
   "execution_count": null,
   "id": "dca1b737-dd77-4773-8fac-290e3b728b3a",
   "metadata": {},
   "outputs": [],
   "source": [
    "# Generate Request for Condition Occurrence Dataframe cohort\n",
    "request_co_df = total_patients_query.get_dataframe_cohort()\n",
    "\n",
    "# Get Condition Occurrence Dataframe\n",
    "condition_occurrence_dataframe = Result().download_dataframe(request_co_df)"
   ]
  },
  {
   "cell_type": "code",
   "execution_count": null,
   "id": "0b8a405c-8c0c-4e9e-99f5-ac398e4235a6",
   "metadata": {},
   "outputs": [],
   "source": [
    "# Peek Into the Conditions Data\n",
    "condition_occurrence_dataframe_simple = condition_occurrence_dataframe[['pid', 'conditionname', 'condconceptcode', 'conditionstatus', 'startdate', 'enddate']]\n",
    "condition_occurrence_dataframe_simple.head(15)"
   ]
  },
  {
   "cell_type": "code",
   "execution_count": null,
   "id": "cd688fd3-7f07-42c5-9e70-97c4855b1c7a",
   "metadata": {},
   "outputs": [],
   "source": [
    "import matplotlib.pyplot as plt\n",
    "\n",
    "# Group Data by Conditions\n",
    "co_mini_df = condition_occurrence_dataframe_simple[['conditionname', 'pid']]\n",
    "co_group_df = co_mini_df.groupby(['conditionname']).count()\n",
    "co_group_df.rename(columns = {'pid':'count'}, inplace = True)\n",
    "\n",
    "# Sort & Pick the top 10 conditions\n",
    "co_group_df.sort_values(by=['count'], inplace=True, ascending=False)\n",
    "co_group_df_top10 = co_group_df.head(10)\n",
    "plt.figure(figsize=(16,8))\n",
    "\n",
    "# plot pie chart\n",
    "ax1 = plt.subplot(121, aspect='equal')\n",
    "co_group_df_top10.plot(kind='pie', y = 'count', ax=ax1, autopct='%1.1f%%', \n",
    " startangle=90, shadow=False, legend = False, fontsize=14)\n",
    "\n",
    "plt.title('ADHD & Other Comorbidities', fontdict={'fontsize':20})\n",
    "plt.axis('off')\n",
    "plt.show()"
   ]
  },
  {
   "cell_type": "code",
   "execution_count": null,
   "id": "9ee95c3b-719e-4d1c-9e40-c14ba1ab15a9",
   "metadata": {},
   "outputs": [],
   "source": [
    "# Generate Request for Dataframe cohort\n",
    "request_df = total_patients_query.get_dataframe_cohort()\n",
    "\n",
    "# Get Patient Dataframe\n",
    "patient_dataframe = Result().download_dataframe(request_df)"
   ]
  },
  {
   "cell_type": "code",
   "execution_count": null,
   "id": "2c4ff7ad-f0d2-4e81-b3ae-26b4ecd8c0af",
   "metadata": {},
   "outputs": [],
   "source": [
    "# Peek Into the Patient Demographics Data\n",
    "df1 = patient_dataframe[['pid', 'age', 'gender', 'ethnicity', 'race', 'state']]\n",
    "df1.head(20)"
   ]
  },
  {
   "cell_type": "code",
   "execution_count": null,
   "id": "89ac47ee-89c0-45cf-b6dd-da8954bfa1d2",
   "metadata": {},
   "outputs": [],
   "source": [
    "# Plot bar chart based on Gender & Race\n",
    "barh_table = pd.crosstab(patient_dataframe.race, patient_dataframe.gender)\n",
    "ax = barh_table.plot.barh(figsize=(15,15), title='Group by Gender & Race Categories')\n",
    "ax.yaxis.set_tick_params(labelsize='xx-large')\n",
    "ax.title.set_size(25)"
   ]
  },
  {
   "cell_type": "code",
   "execution_count": null,
   "id": "2451512c-dd60-48fb-b231-5de518ac44ac",
   "metadata": {},
   "outputs": [],
   "source": [
    "import pandas as pd\n",
    "\n",
    "# Null Hypotheses: Gender & Race are independent of each other regarding ADHD condition\n",
    "significance = 0.05\n",
    "\n",
    "# Two Way Table Observed Values\n",
    "observed_table = pd.crosstab(patient_dataframe.race, patient_dataframe.gender, margins=True, margins_name=\"Total\")\n",
    "observed_table.rename(columns = {'Total':'Row Total'}, inplace = True)\n",
    "observed_table.rename(index = {'Total':'Col Total'}, inplace = True)\n",
    "observed_table"
   ]
  },
  {
   "cell_type": "code",
   "execution_count": null,
   "id": "5bf2eb03-170d-4a0e-88a4-8ce00c42aa96",
   "metadata": {},
   "outputs": [],
   "source": [
    "from scipy.stats import chi2_contingency \n",
    "import numpy as np\n",
    "chisqt = pd.crosstab(patient_dataframe.race, patient_dataframe.gender, margins=True)\n",
    "value = np.array([chisqt.iloc[[0,1,2,3,4,5,6,7,8,9,10,11],[0, 1]].values,\n",
    "                 ])\n",
    "stat, p, dof = chi2_contingency(value)[0:3]\n",
    "print('Chi-square Analysis:')\n",
    "print('p-value=%.3f, degrees of freedom=%i, statistics=%.3f' % (p, dof, stat))"
   ]
  },
  {
   "cell_type": "code",
   "execution_count": null,
   "id": "d92689ef-9d31-4a1e-8e72-e24e63840cc8",
   "metadata": {},
   "outputs": [],
   "source": [
    "# Check p-value\n",
    "print('significance=%.3f, p-value=%.3f' % (significance, p))\n",
    "if p <= significance:\n",
    "\tprint('Result: Dependent - Reject Null Hypothesis (Race and Gender are dependent)')\n",
    "else:\n",
    "\tprint('Result: Independent - Accept Null Hypothesis (Race and Gender are independent)')"
   ]
  },
  {
   "cell_type": "code",
   "execution_count": null,
   "id": "c714ff4b-120c-4365-b74e-b8143c47006b",
   "metadata": {},
   "outputs": [],
   "source": [
    "# Check test-statistic\n",
    "prob = 0.95\n",
    "critical = chi2.ppf(prob, dof)\n",
    "print('probability=%.3f, critical=%.3f, stat=%.3f' % (prob, critical, stat))\n",
    "if abs(stat) >= critical:\n",
    "\tprint('Result: Dependent - Reject Null Hypothesis (Race and Gender are dependent)')\n",
    "else:\n",
    "\tprint('Result: Independent - Accept Null Hypothesis (Race and Gender are independent)')"
   ]
  },
  {
   "cell_type": "code",
   "execution_count": null,
   "id": "8f5fdbcc-4ef2-4dd5-b9e4-6ac0ceecdf0f",
   "metadata": {},
   "outputs": [],
   "source": []
  }
 ],
 "metadata": {
  "kernelspec": {
   "display_name": "Python 3 (ipykernel)",
   "language": "python",
   "name": "python3"
  },
  "language_info": {
   "codemirror_mode": {
    "name": "ipython",
    "version": 3
   },
   "file_extension": ".py",
   "mimetype": "text/x-python",
   "name": "python",
   "nbconvert_exporter": "python",
   "pygments_lexer": "ipython3",
   "version": "3.9.6"
  }
 },
 "nbformat": 4,
 "nbformat_minor": 5
}
