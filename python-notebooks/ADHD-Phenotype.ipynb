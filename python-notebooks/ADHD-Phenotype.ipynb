{
 "cells": [
  {
   "cell_type": "markdown",
   "id": "49c01cda-dd95-434b-8528-c74af347fd32",
   "metadata": {},
   "source": [
    "## Analyze ADHD Phenotype"
   ]
  },
  {
   "cell_type": "code",
   "execution_count": null,
   "id": "5f44c4c6-4fc1-4c86-9cff-eab9f1b0c5ac",
   "metadata": {},
   "outputs": [],
   "source": [
    "from pyqe import *\n",
    "\n",
    "total_patients_query = Query('ADHD Phenotype') # Always begin your script by creating Query object\n",
    "\n",
    "total_patients_query.get_study_list()\n",
    "total_patients_query.set_study('<STUDY_ID>') # any STUDY_ID from above list\n",
    "total_patients_query.get_config_list()\n",
    "total_patients_query.set_study_config('<STUDY_CONFIG_ID>') # any config id from above list"
   ]
  },
  {
   "cell_type": "code",
   "execution_count": null,
   "id": "58675f2d-b03a-4288-8cae-9c6551138c67",
   "metadata": {},
   "outputs": [],
   "source": [
    "from pyqe import *\n",
    "\n",
    "# Patients who are 4 years old and above\n",
    "patient_data = Person.Patient()\n",
    "constraint_age_greater_than_4_years = Constraint()\n",
    "constraint_age_greater_than_4_years.add(Expression(ComparisonOperator.MORE_THAN_EQUAL, 4))\n",
    "patient_data.add_age([constraint_age_greater_than_4_years])"
   ]
  },
  {
   "cell_type": "code",
   "execution_count": null,
   "id": "d7da784a-722e-4d52-bc5d-7a41fd26aa8e",
   "metadata": {},
   "outputs": [],
   "source": [
    "# Patients who are diagnosed with ADHD conditions\n",
    "adhd_conditionOcc = Interactions.ConditionOccurrence(\"ADHD conditions Interaction\")\n",
    "adhd_condition_concepts = ConceptSet(\n",
    "                           'Conditions',\n",
    "                            Domain.CONDITION, \n",
    "                           ['406506008', '192132008', '192131001']) \n",
    "adhd_conditionOcc.add_concept_set(adhd_condition_concepts)\n",
    "\n",
    "# Add Patients who are prescribed with ADHD medications\n",
    "adhd_drug_concepts  = ConceptSet('ADHD Medications',\n",
    "                            Domain.DRUG, \n",
    "                           ['1091497', '2599', '725', '40114', '308979', '308976', '308973', \n",
    "                            '2598', '4493', '36437', '35636', '32937', '10737',\n",
    "                            '310384', '313990','310385', '313989', '312938', \n",
    "                            '312940', '312941', '374185'])\n",
    "\n",
    "adhd_drugExposure = Interactions.DrugExposure(\"ADHD Medications Interaction\")\n",
    "adhd_drugExposure.add_concept_set(adhd_drug_concepts)\n",
    "\n",
    "\n",
    "# Exclusion of Certain Conditions like Dementia\n",
    "exclude_other_conditionOcc = Interactions.ConditionOccurrence(\"Other Disorders\", CardType.EXCLUDED)\n",
    "exclude_condition_concepts = ConceptSet('Conditions',\n",
    "                            Domain.CONDITION, \n",
    "                           ['191449005', '397923000', '31297008', '18393005', \n",
    "                            '50705009', '5507002', '86765009', '110359009', \n",
    "                            '40700009', '31216003', '61152003'])\n",
    "exclude_other_conditionOcc.add_concept_set(exclude_condition_concepts)"
   ]
  },
  {
   "cell_type": "code",
   "execution_count": null,
   "id": "4d0cfd52-9454-4127-ae5e-db65051ad1ab",
   "metadata": {},
   "outputs": [],
   "source": [
    "# Combine the criteria for demographic data, ADHD conditions & medications\n",
    "ADHD_group = CriteriaGroup(\n",
    "    MatchCriteria.ALL, [patient_data, adhd_conditionOcc, exclude_other_conditionOcc])\n",
    "\n",
    "# Add Exclusive to the final Criteria Group\n",
    "exclusive_group = CriteriaGroup(\n",
    "    MatchCriteria.ANY, [adhd_drugExposure])\n",
    "\n",
    "ADHD_group.add_exclusive_group(exclusive_group)\n",
    "\n",
    "# Add criteria group into query\n",
    "total_patients_query.add_criteria_group(ADHD_group)"
   ]
  },
  {
   "cell_type": "code",
   "execution_count": null,
   "id": "0a6209e9-372b-4a23-a920-95ca91d762c3",
   "metadata": {},
   "outputs": [],
   "source": [
    "# Generate the request\n",
    "request = total_patients_query.get_patient_count_filter()\n",
    "\n",
    "# Get the result from the request\n",
    "patient_count = Result().get_patient_count(request)\n",
    "print(f'\\nTotal number of patients for ADHD Phenotype: {patient_count}')"
   ]
  },
  {
   "cell_type": "code",
   "execution_count": null,
   "id": "3e44a288-0a18-4ed0-8bd2-db4218a3c88d",
   "metadata": {},
   "outputs": [],
   "source": [
    "# Generate Request for Dataframe cohort\n",
    "request_df = total_patients_query.get_dataframe_cohort()\n",
    "\n",
    "# Get Patient Dataframe. Select (1) Patient\n",
    "patient_dataframe = Result().download_dataframe(request_df)"
   ]
  },
  {
   "cell_type": "code",
   "execution_count": null,
   "id": "6911b9d5-2225-44d6-9460-b1361338dd54",
   "metadata": {},
   "outputs": [],
   "source": [
    "# Peek Into the Patient Demographics Data\n",
    "df1 = patient_dataframe[['pid', 'age', 'gender', 'ethnicity', 'race', 'state']]\n",
    "df1.head(15)"
   ]
  },
  {
   "cell_type": "markdown",
   "id": "43bd6249-06ad-4cdf-9eeb-5cac131c2afe",
   "metadata": {},
   "source": [
    "### Find the count of Gender & Race Categorized"
   ]
  },
  {
   "cell_type": "code",
   "execution_count": null,
   "id": "4db6ffbb-4ea3-488f-b46f-4bd8994f65f1",
   "metadata": {},
   "outputs": [],
   "source": [
    "# Plot bar chart based on Gender & Race\n",
    "barh_table = pd.crosstab(patient_dataframe.race, patient_dataframe.gender)\n",
    "ax = barh_table.plot.barh(figsize=(12,12), title='Group by Gender & Race Categories')\n",
    "ax.yaxis.set_tick_params(labelsize='xx-large')\n",
    "ax.title.set_size(25)"
   ]
  },
  {
   "cell_type": "markdown",
   "id": "9ea36be5-4170-4691-9d26-26cd515532b9",
   "metadata": {},
   "source": [
    "### Analyze Comorbidities of ADHD"
   ]
  },
  {
   "cell_type": "code",
   "execution_count": null,
   "id": "dca1b737-dd77-4773-8fac-290e3b728b3a",
   "metadata": {},
   "outputs": [],
   "source": [
    "# Generate Request for Condition Occurrence Dataframe cohort\n",
    "request_co_df = total_patients_query.get_dataframe_cohort()\n",
    "\n",
    "# Get Condition Occurrence Dataframe. Select (2) ConditionOccurrence\n",
    "condition_occurrence_dataframe = Result().download_dataframe(request_co_df)"
   ]
  },
  {
   "cell_type": "code",
   "execution_count": null,
   "id": "0b8a405c-8c0c-4e9e-99f5-ac398e4235a6",
   "metadata": {},
   "outputs": [],
   "source": [
    "# Peek Into the Conditions Data\n",
    "condition_occurrence_dataframe_simple = condition_occurrence_dataframe[['pid', 'conditionname', 'condconceptcode', 'conditionstatus', 'startdate', 'enddate']]\n",
    "condition_occurrence_dataframe_simple.head(15)"
   ]
  },
  {
   "cell_type": "code",
   "execution_count": null,
   "id": "cd688fd3-7f07-42c5-9e70-97c4855b1c7a",
   "metadata": {},
   "outputs": [],
   "source": [
    "import matplotlib.pyplot as plt\n",
    "\n",
    "# Group Data by Conditions\n",
    "co_mini_df = condition_occurrence_dataframe_simple[['conditionname', 'pid']]\n",
    "co_group_df = co_mini_df.groupby(['conditionname']).count()\n",
    "co_group_df.rename(columns = {'pid':'count'}, inplace = True)\n",
    "\n",
    "# Sort & Pick the top 10 conditions\n",
    "co_group_df.sort_values(by=['count'], inplace=True, ascending=False)\n",
    "co_group_df_top10 = co_group_df.head(10)\n",
    "plt.figure(figsize=(16,8))\n",
    "\n",
    "# plot pie chart\n",
    "ax1 = plt.subplot(121, aspect='equal')\n",
    "co_group_df_top10.plot(kind='pie', y = 'count', ax=ax1, autopct='%1.1f%%', \n",
    " startangle=90, shadow=False, legend = False, fontsize=14)\n",
    "\n",
    "plt.title('ADHD & Other Comorbidities', fontdict={'fontsize':20})\n",
    "plt.axis('off')\n",
    "plt.show()"
   ]
  },
  {
   "cell_type": "markdown",
   "id": "70e5d0d7-7df6-4850-a5b8-de74e29c8bd5",
   "metadata": {},
   "source": [
    "## Null Hypothesis: \n",
    "### Gender and Stress / Anxiety Disorders are independent of each other."
   ]
  },
  {
   "cell_type": "code",
   "execution_count": null,
   "id": "4435d814-f6d9-461f-9a95-6315200ce3a2",
   "metadata": {},
   "outputs": [],
   "source": [
    "import pandas as pd\n",
    "import numpy as np\n",
    "\n",
    "# Filter for patients with Stress, Anxiety & Depressive Disorders\n",
    "mini_condition_occurrence_dataframe = condition_occurrence_dataframe_simple[['pid', 'conditionname']]\n",
    "stressAndAnxietyConditions_df = mini_condition_occurrence_dataframe[mini_condition_occurrence_dataframe['conditionname'].isin(['Acute stress disorder','Anxiety disorder','Generalized anxiety disorder', 'Depressive disorder', 'Atypical depressive disorder'])]\n",
    "stressAndAnxietyConditions_pid_df = stressAndAnxietyConditions_df[['pid']]\n",
    "stressAndAnxietyConditions_pid_unique_df = stressAndAnxietyConditions_pid_df.drop_duplicates(subset=['pid']).copy(deep=True)\n",
    "stressAndAnxietyConditions_pid_unique_df['Has Stress & Anxiety'] = True\n",
    "\n",
    "# Strip the condition occurrence data to only patient ID\n",
    "condition_occurrence_pid_dataframe = mini_condition_occurrence_dataframe[['pid']]\n",
    "condition_occurrence_pid_unique_dataframe = condition_occurrence_pid_dataframe.drop_duplicates(subset=['pid']).copy(deep=True)\n",
    "\n",
    "#Pick pid and gender\n",
    "patient_df2 = patient_dataframe[['pid','gender']]\n",
    "patient_df2 = patient_df2.drop_duplicates(subset=['pid'])\n",
    "\n",
    "# # Join between All patients & patients having Stress & Anxiety\n",
    "joined_df = pd.merge(condition_occurrence_pid_unique_dataframe, stressAndAnxietyConditions_pid_unique_df, on='pid', how='left')\n",
    "joined_df2 = pd.merge(joined_df, patient_df2, on='pid', how='inner')\n",
    "\n",
    "# # Cleanup dataframes\n",
    "condition_occurrence_pid_unique_dataframe, stressAndAnxietyConditions_pid_unique_df = pd.DataFrame(), pd.DataFrame()\n",
    "lst = [condition_occurrence_pid_unique_dataframe, stressAndAnxietyConditions_pid_unique_df]\n",
    "del condition_occurrence_pid_unique_dataframe, stressAndAnxietyConditions_pid_unique_df # dfs still in list\n",
    "del lst\n",
    "\n",
    "joined_df2['Has Stress & Anxiety'] = np.where(joined_df2['Has Stress & Anxiety'] != True, False, joined_df2['Has Stress & Anxiety'])\n",
    "joined_df2.head(15)"
   ]
  },
  {
   "cell_type": "markdown",
   "id": "2892622c-dd63-45cd-b179-d33ef7102bed",
   "metadata": {
    "tags": []
   },
   "source": [
    "#### Test Null Hypothesis"
   ]
  },
  {
   "cell_type": "code",
   "execution_count": null,
   "id": "5de952c4-2dbf-4957-a342-ee0000e45350",
   "metadata": {},
   "outputs": [],
   "source": [
    "from scipy.stats import chi2_contingency \n",
    "import numpy as np\n",
    "\n",
    "# Test Null Hypothesis\n",
    "co_chisqt = pd.crosstab(joined_df2['Has Stress & Anxiety'], joined_df2['gender'], margins=True)\n",
    "co_value = np.array([co_chisqt.iloc[[0,1],[0,1]].values,\n",
    "                 ])\n",
    "\n",
    "co_stat, co_p, co_dof = chi2_contingency(co_value)[0:3]\n",
    "print('Chi-square Analysis:')\n",
    "print('p-value=%.10f, degrees of freedom=%i, statistics=%.3f' % (co_p, co_dof, co_stat))      "
   ]
  },
  {
   "cell_type": "code",
   "execution_count": null,
   "id": "7a76e56c-c04a-47db-8b75-3402239cb7c6",
   "metadata": {},
   "outputs": [],
   "source": [
    "significance = 0.05\n",
    "\n",
    "if co_p <= significance:\n",
    "\tprint('Result: Dependent - Reject Null Hypothesis (Stress & Anxiety Disorders and Gender are dependent)')\n",
    "else:\n",
    "\tprint('Result: Independent - Accept Null Hypothesis (Stress & Anxiety Disorders and Gender are independent)')"
   ]
  },
  {
   "cell_type": "code",
   "execution_count": null,
   "id": "9996a335-b6b2-4b48-9ab4-df2682517906",
   "metadata": {},
   "outputs": [],
   "source": [
    "from scipy.stats import chi2\n",
    "\n",
    "# Check test-statistic\n",
    "prob = 0.95\n",
    "co_critical = chi2.ppf(prob, co_dof)\n",
    "print('probability=%.3f, critical=%.3f, stat=%.3f' % (prob, co_critical, co_stat))\n",
    "if abs(co_stat) >= co_critical:\n",
    "\tprint('Result: Dependent - Reject Null Hypothesis (Stress & Anxiety Disorders and Gender are dependent)')\n",
    "else:\n",
    "\tprint('Result: Independent - Accept Null Hypothesis (Stress & Anxiety Disorders and Gender are independent)')"
   ]
  },
  {
   "cell_type": "code",
   "execution_count": null,
   "id": "f5fe4ba4-c846-4be9-b0aa-a94d58e5884a",
   "metadata": {},
   "outputs": [],
   "source": []
  }
 ],
 "metadata": {
  "kernelspec": {
   "display_name": "Python 3 (ipykernel)",
   "language": "python",
   "name": "python3"
  },
  "language_info": {
   "codemirror_mode": {
    "name": "ipython",
    "version": 3
   },
   "file_extension": ".py",
   "mimetype": "text/x-python",
   "name": "python",
   "nbconvert_exporter": "python",
   "pygments_lexer": "ipython3",
   "version": "3.9.6"
  }
 },
 "nbformat": 4,
 "nbformat_minor": 5
}
