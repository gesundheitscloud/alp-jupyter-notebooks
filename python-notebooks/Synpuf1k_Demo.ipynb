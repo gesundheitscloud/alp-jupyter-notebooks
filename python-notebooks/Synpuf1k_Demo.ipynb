{
 "cells": [
  {
   "cell_type": "markdown",
   "metadata": {},
   "source": [
    "## Analyze Type 1 & Type 2 Diabetes Patients"
   ]
  },
  {
   "cell_type": "markdown",
   "metadata": {},
   "source": [
    "Setup the imports."
   ]
  },
  {
   "cell_type": "code",
   "execution_count": 1,
   "metadata": {},
   "outputs": [],
   "source": [
    "from pyqe import *"
   ]
  },
  {
   "cell_type": "markdown",
   "metadata": {},
   "source": [
    "Always start with creating a query object. \n",
    "\n",
    "Apart from creating Query object, it does the following that are required for setting up your profile:\n",
    "- Ask for username and password for login"
   ]
  },
  {
   "cell_type": "code",
   "execution_count": 2,
   "metadata": {},
   "outputs": [],
   "source": [
    "# Always begin your script by creating Query object\n",
    "total_patients_query = Query('Total_Participants')"
   ]
  },
  {
   "cell_type": "markdown",
   "metadata": {},
   "source": [
    "Use get_study_list() method to fetch all available studies that you have access to.\n",
    "\n",
    "Use set_study() method to select a study that you are interested in (by passing the study ID)."
   ]
  },
  {
   "cell_type": "code",
   "execution_count": 3,
   "metadata": {},
   "outputs": [
    {
     "name": "stderr",
     "output_type": "stream",
     "text": [
      "07-Apr-2022 06:26:00 - INFO - Token is expired. Refreshing token...\n",
      "07-Apr-2022 06:26:03 - INFO - Refresh token successful\n"
     ]
    },
    {
     "name": "stdout",
     "output_type": "stream",
     "text": [
      "Study Name - Study Id\n",
      "(1) ALP TEST STUDY (staging) - 52144b69-5525-4a3a-85dd-0857bd1f23c1\n",
      "(2) Accept - a0cd02ce-6d1b-49f3-bc0e-14590c0249b3\n",
      "(3) Broad consent - 1b29380e-dfd2-4ada-b7cc-a6d8575a631d\n",
      "(4) ECOV - 686d3b9b-b8fd-46ba-9e25-af48c027bb55\n",
      "(5) FeMFit - 3506d0d0-0c67-4983-b9ce-b4d0ea8daeac\n",
      "(6) Smart4Health (Data Donation) - c834c651-a886-470f-b73b-9d8766845c07\n",
      "(7) Synpuf1k - b34f1da5-d9a8-442d-9589-f147ac0db194\n",
      "(8) VaccineEffectiveness - e2ff06fc-18da-49b7-826e-d198c239ac6a\n"
     ]
    }
   ],
   "source": [
    "total_patients_query.get_study_list()\n",
    "\n",
    "# any STUDY_ID from above list\n",
    "total_patients_query.set_study('b34f1da5-d9a8-442d-9589-f147ac0db194') "
   ]
  },
  {
   "cell_type": "markdown",
   "metadata": {},
   "source": [
    "Similar to above step, use get_config_list() method to fetch all available configurations corresponding to the study.\n",
    "\n",
    "Use set_study_config() method to select a config (by passing the config ID)."
   ]
  },
  {
   "cell_type": "code",
   "execution_count": 4,
   "metadata": {},
   "outputs": [
    {
     "name": "stdout",
     "output_type": "stream",
     "text": [
      "Assignment Name, Config Name - Config Id\n",
      "(1) DEFAULT-ASSIGNMENT, OMOP_GDM_PA_CONF - 92d7c6f8-3118-4256-ab22-f2f7fd19d4e7\n",
      "(2) GDM_DM_Config, GDM_PA_CONF - 903012b3-7c7b-4c96-a5b9-af38914b04b7\n",
      "(3) OMOP GDM Config, MRI_TEST_PA_CONF - 4cd7f5ba-5405-437a-90c2-3165dc53f484\n"
     ]
    }
   ],
   "source": [
    "total_patients_query.get_config_list()\n",
    "\n",
    "# any CONFIG_ID from above list\n",
    "total_patients_query.set_study_config('92d7c6f8-3118-4256-ab22-f2f7fd19d4e7') "
   ]
  },
  {
   "cell_type": "code",
   "execution_count": 5,
   "metadata": {},
   "outputs": [
    {
     "data": {
      "text/plain": [
       "<pyqe.ql.person.Patient at 0x7f57eb4cccd0>"
      ]
     },
     "execution_count": 5,
     "metadata": {},
     "output_type": "execute_result"
    }
   ],
   "source": [
    "patients = Person.Patient()\n",
    "\n",
    "constraint_age_greater_than_60_years = Constraint()\n",
    "constraint_age_greater_than_60_years.add(Expression(ComparisonOperator.MORE_THAN_EQUAL, 60))\n",
    "\n",
    "constraint_age_lesser_than_90_years = Constraint()\n",
    "constraint_age_lesser_than_90_years.add(Expression(ComparisonOperator.LESS_THAN_EQUAL, 90))\n",
    "\n",
    "patients.add_age([constraint_age_greater_than_60_years])\n",
    "patients.add_age([constraint_age_lesser_than_90_years])"
   ]
  },
  {
   "cell_type": "code",
   "execution_count": 6,
   "metadata": {},
   "outputs": [],
   "source": [
    "exclude_Death = Interactions.Death(\"Death\", CardType.EXCLUDED)"
   ]
  },
  {
   "cell_type": "code",
   "execution_count": 7,
   "metadata": {},
   "outputs": [],
   "source": [
    "# Condition Concept IDs for Diabetes Mellitus 2\n",
    "\n",
    "diabetes2_conditionOcc = Interactions.ConditionOccurrence(\"Type 2 Diabetes condition\")\n",
    "diabetes2_condition_concepts = ConceptSet(\n",
    "                           'Conditions',\n",
    "                            Domain.CONDITION, \n",
    "                           ['44054006', '8801005', '190331003', '421326000', '443694000', '422014003', '421326000']) \n",
    "\n",
    "diabetes2_conditionOcc.add_concept_set(diabetes2_condition_concepts)"
   ]
  },
  {
   "cell_type": "code",
   "execution_count": 8,
   "metadata": {},
   "outputs": [],
   "source": [
    "# Diabetes type 1\n",
    "\n",
    "diabetes1_conditionOcc = Interactions.ConditionOccurrence(\"Type 1 Diabetes condition\")\n",
    "diabetes1_condition_concepts = ConceptSet(\n",
    "                           'Conditions',\n",
    "                            Domain.CONDITION, \n",
    "                           ['201254', '318712', '435216', '40484648', '200687', '377821']) \n",
    "diabetes1_conditionOcc.add_concept_set(diabetes1_condition_concepts)"
   ]
  },
  {
   "cell_type": "code",
   "execution_count": 9,
   "metadata": {},
   "outputs": [],
   "source": [
    "patient_criteriagroup = CriteriaGroup(MatchCriteria.ALL, [patients, exclude_Death])\n",
    "\n",
    "diabetes_criteriagroup = CriteriaGroup(\n",
    "                        MatchCriteria.ANY, [diabetes1_conditionOcc, diabetes2_conditionOcc])\n",
    "\n",
    "patient_criteriagroup.add_exclusive_group(diabetes_criteriagroup)\n",
    "total_patients_query.add_criteria_group(patient_criteriagroup)"
   ]
  },
  {
   "cell_type": "markdown",
   "metadata": {},
   "source": [
    "With the query object created in the previous step, call the method get_patient_count_filter() to create a request object."
   ]
  },
  {
   "cell_type": "code",
   "execution_count": 10,
   "metadata": {},
   "outputs": [],
   "source": [
    "# create Result object and fetch the patient count\n",
    "total_patients_req = total_patients_query.get_patient_count_filter()"
   ]
  },
  {
   "cell_type": "markdown",
   "metadata": {},
   "source": [
    "Further create a Result class object (that does magic).\n",
    "\n",
    "In our case, get_patient_count() method is called by passing the request object created above.\n",
    "\n",
    "Returned result will be the patient count as integer value."
   ]
  },
  {
   "cell_type": "code",
   "execution_count": 11,
   "metadata": {},
   "outputs": [
    {
     "name": "stdout",
     "output_type": "stream",
     "text": [
      "\n",
      "Total participants: 440\n"
     ]
    }
   ],
   "source": [
    "total_patients = Result().get_patient_count(total_patients_req)\n",
    "print(f'\\nTotal participants: {total_patients}')"
   ]
  },
  {
   "cell_type": "code",
   "execution_count": 12,
   "metadata": {},
   "outputs": [],
   "source": [
    "# Generate Request for Dataframe cohort\n",
    "request_df = total_patients_query.get_dataframe_cohort([],'Patient')\n",
    "\n",
    "# Get Patient Dataframe. Select (1) Patient\n",
    "patient_df = Result().download_dataframe(request_df)"
   ]
  },
  {
   "cell_type": "code",
   "execution_count": 13,
   "metadata": {},
   "outputs": [
    {
     "data": {
      "text/html": [
       "<div>\n",
       "<style scoped>\n",
       "    .dataframe tbody tr th:only-of-type {\n",
       "        vertical-align: middle;\n",
       "    }\n",
       "\n",
       "    .dataframe tbody tr th {\n",
       "        vertical-align: top;\n",
       "    }\n",
       "\n",
       "    .dataframe thead th {\n",
       "        text-align: right;\n",
       "    }\n",
       "</style>\n",
       "<table border=\"1\" class=\"dataframe\">\n",
       "  <thead>\n",
       "    <tr style=\"text-align: right;\">\n",
       "      <th></th>\n",
       "      <th>pid</th>\n",
       "      <th>gender</th>\n",
       "      <th>dateofbirth</th>\n",
       "      <th>ethnicity</th>\n",
       "      <th>race</th>\n",
       "      <th>state</th>\n",
       "    </tr>\n",
       "  </thead>\n",
       "  <tbody>\n",
       "    <tr>\n",
       "      <th>0</th>\n",
       "      <td>2</td>\n",
       "      <td>MALE</td>\n",
       "      <td>1943-01-01</td>\n",
       "      <td>Not Hispanic or Latino</td>\n",
       "      <td>White</td>\n",
       "      <td>PA</td>\n",
       "    </tr>\n",
       "    <tr>\n",
       "      <th>1</th>\n",
       "      <td>3</td>\n",
       "      <td>FEMALE</td>\n",
       "      <td>1936-09-01</td>\n",
       "      <td>Not Hispanic or Latino</td>\n",
       "      <td>White</td>\n",
       "      <td>PA</td>\n",
       "    </tr>\n",
       "    <tr>\n",
       "      <th>2</th>\n",
       "      <td>4</td>\n",
       "      <td>MALE</td>\n",
       "      <td>1941-06-01</td>\n",
       "      <td>Hispanic or Latino</td>\n",
       "      <td>No matching concept</td>\n",
       "      <td>CO</td>\n",
       "    </tr>\n",
       "    <tr>\n",
       "      <th>3</th>\n",
       "      <td>5</td>\n",
       "      <td>MALE</td>\n",
       "      <td>1936-08-01</td>\n",
       "      <td>Not Hispanic or Latino</td>\n",
       "      <td>White</td>\n",
       "      <td>WI</td>\n",
       "    </tr>\n",
       "    <tr>\n",
       "      <th>4</th>\n",
       "      <td>6</td>\n",
       "      <td>MALE</td>\n",
       "      <td>1943-10-01</td>\n",
       "      <td>Not Hispanic or Latino</td>\n",
       "      <td>Black or African American</td>\n",
       "      <td>NY</td>\n",
       "    </tr>\n",
       "    <tr>\n",
       "      <th>5</th>\n",
       "      <td>8</td>\n",
       "      <td>MALE</td>\n",
       "      <td>1935-09-01</td>\n",
       "      <td>Not Hispanic or Latino</td>\n",
       "      <td>White</td>\n",
       "      <td>MN</td>\n",
       "    </tr>\n",
       "    <tr>\n",
       "      <th>6</th>\n",
       "      <td>11</td>\n",
       "      <td>FEMALE</td>\n",
       "      <td>1934-02-01</td>\n",
       "      <td>Not Hispanic or Latino</td>\n",
       "      <td>White</td>\n",
       "      <td>IN</td>\n",
       "    </tr>\n",
       "    <tr>\n",
       "      <th>7</th>\n",
       "      <td>13</td>\n",
       "      <td>FEMALE</td>\n",
       "      <td>1936-07-01</td>\n",
       "      <td>Not Hispanic or Latino</td>\n",
       "      <td>White</td>\n",
       "      <td>RI</td>\n",
       "    </tr>\n",
       "    <tr>\n",
       "      <th>8</th>\n",
       "      <td>14</td>\n",
       "      <td>MALE</td>\n",
       "      <td>1934-05-01</td>\n",
       "      <td>Not Hispanic or Latino</td>\n",
       "      <td>White</td>\n",
       "      <td>IL</td>\n",
       "    </tr>\n",
       "    <tr>\n",
       "      <th>9</th>\n",
       "      <td>15</td>\n",
       "      <td>FEMALE</td>\n",
       "      <td>1936-03-01</td>\n",
       "      <td>Not Hispanic or Latino</td>\n",
       "      <td>White</td>\n",
       "      <td>ID</td>\n",
       "    </tr>\n",
       "  </tbody>\n",
       "</table>\n",
       "</div>"
      ],
      "text/plain": [
       "   pid  gender dateofbirth               ethnicity                       race  \\\n",
       "0    2    MALE  1943-01-01  Not Hispanic or Latino                      White   \n",
       "1    3  FEMALE  1936-09-01  Not Hispanic or Latino                      White   \n",
       "2    4    MALE  1941-06-01      Hispanic or Latino        No matching concept   \n",
       "3    5    MALE  1936-08-01  Not Hispanic or Latino                      White   \n",
       "4    6    MALE  1943-10-01  Not Hispanic or Latino  Black or African American   \n",
       "5    8    MALE  1935-09-01  Not Hispanic or Latino                      White   \n",
       "6   11  FEMALE  1934-02-01  Not Hispanic or Latino                      White   \n",
       "7   13  FEMALE  1936-07-01  Not Hispanic or Latino                      White   \n",
       "8   14    MALE  1934-05-01  Not Hispanic or Latino                      White   \n",
       "9   15  FEMALE  1936-03-01  Not Hispanic or Latino                      White   \n",
       "\n",
       "  state  \n",
       "0    PA  \n",
       "1    PA  \n",
       "2    CO  \n",
       "3    WI  \n",
       "4    NY  \n",
       "5    MN  \n",
       "6    IN  \n",
       "7    RI  \n",
       "8    IL  \n",
       "9    ID  "
      ]
     },
     "execution_count": 13,
     "metadata": {},
     "output_type": "execute_result"
    }
   ],
   "source": [
    "# Peek Into the Patient Demographics Data\n",
    "selective_patient_df = patient_df[['pid', 'gender', 'dateofbirth', 'ethnicity', 'race', 'state']]\n",
    "\n",
    "selective_patient_df.head(10)"
   ]
  },
  {
   "cell_type": "code",
   "execution_count": 14,
   "metadata": {},
   "outputs": [],
   "source": [
    "# Generate Request for Dataframe cohort\n",
    "condOcc_request_df = total_patients_query.get_dataframe_cohort([],'ConditionOccurrence')\n",
    "\n",
    "# Get Patient Dataframe. Select (1) Patient\n",
    "condOcc_df = Result().download_dataframe(condOcc_request_df)"
   ]
  },
  {
   "cell_type": "code",
   "execution_count": 15,
   "metadata": {},
   "outputs": [
    {
     "data": {
      "text/html": [
       "<div>\n",
       "<style scoped>\n",
       "    .dataframe tbody tr th:only-of-type {\n",
       "        vertical-align: middle;\n",
       "    }\n",
       "\n",
       "    .dataframe tbody tr th {\n",
       "        vertical-align: top;\n",
       "    }\n",
       "\n",
       "    .dataframe thead th {\n",
       "        text-align: right;\n",
       "    }\n",
       "</style>\n",
       "<table border=\"1\" class=\"dataframe\">\n",
       "  <thead>\n",
       "    <tr style=\"text-align: right;\">\n",
       "      <th></th>\n",
       "      <th>conditionoccurrenceid</th>\n",
       "      <th>pid</th>\n",
       "      <th>conditionname</th>\n",
       "      <th>conditiontype</th>\n",
       "      <th>startdate</th>\n",
       "      <th>enddate</th>\n",
       "      <th>condconceptcode</th>\n",
       "      <th>conditionconceptid</th>\n",
       "    </tr>\n",
       "  </thead>\n",
       "  <tbody>\n",
       "    <tr>\n",
       "      <th>0</th>\n",
       "      <td>133755</td>\n",
       "      <td>1001</td>\n",
       "      <td>Fever</td>\n",
       "      <td>Outpatient header - 1st position</td>\n",
       "      <td>2010-03-05</td>\n",
       "      <td>2010-03-05</td>\n",
       "      <td>386661006</td>\n",
       "      <td>437663</td>\n",
       "    </tr>\n",
       "    <tr>\n",
       "      <th>1</th>\n",
       "      <td>133756</td>\n",
       "      <td>1001</td>\n",
       "      <td>Fever</td>\n",
       "      <td>Outpatient header - 1st position</td>\n",
       "      <td>2010-03-05</td>\n",
       "      <td>2010-03-05</td>\n",
       "      <td>386661006</td>\n",
       "      <td>437663</td>\n",
       "    </tr>\n",
       "    <tr>\n",
       "      <th>2</th>\n",
       "      <td>133742</td>\n",
       "      <td>1001</td>\n",
       "      <td>Osteoporosis</td>\n",
       "      <td>Outpatient header - 1st position</td>\n",
       "      <td>2010-02-11</td>\n",
       "      <td>2010-02-11</td>\n",
       "      <td>64859006</td>\n",
       "      <td>80502</td>\n",
       "    </tr>\n",
       "    <tr>\n",
       "      <th>3</th>\n",
       "      <td>133741</td>\n",
       "      <td>1001</td>\n",
       "      <td>Osteoporosis</td>\n",
       "      <td>Outpatient header - 1st position</td>\n",
       "      <td>2010-02-11</td>\n",
       "      <td>2010-02-11</td>\n",
       "      <td>64859006</td>\n",
       "      <td>80502</td>\n",
       "    </tr>\n",
       "    <tr>\n",
       "      <th>4</th>\n",
       "      <td>133731</td>\n",
       "      <td>1001</td>\n",
       "      <td>Disorder of nervous system due to type 2 diabe...</td>\n",
       "      <td>Outpatient header - 1st position</td>\n",
       "      <td>2009-10-10</td>\n",
       "      <td>2009-10-10</td>\n",
       "      <td>421326000</td>\n",
       "      <td>376065</td>\n",
       "    </tr>\n",
       "    <tr>\n",
       "      <th>5</th>\n",
       "      <td>133729</td>\n",
       "      <td>1001</td>\n",
       "      <td>Electroencephalogram abnormal</td>\n",
       "      <td>Outpatient header - 1st position</td>\n",
       "      <td>2009-10-10</td>\n",
       "      <td>2009-10-10</td>\n",
       "      <td>274521009</td>\n",
       "      <td>4168553</td>\n",
       "    </tr>\n",
       "    <tr>\n",
       "      <th>6</th>\n",
       "      <td>133732</td>\n",
       "      <td>1001</td>\n",
       "      <td>Plantar nerve lesion</td>\n",
       "      <td>Outpatient header - 1st position</td>\n",
       "      <td>2009-10-10</td>\n",
       "      <td>2009-10-10</td>\n",
       "      <td>193148004</td>\n",
       "      <td>138148</td>\n",
       "    </tr>\n",
       "    <tr>\n",
       "      <th>7</th>\n",
       "      <td>133734</td>\n",
       "      <td>1001</td>\n",
       "      <td>Plantar nerve lesion</td>\n",
       "      <td>Outpatient header - 1st position</td>\n",
       "      <td>2009-10-10</td>\n",
       "      <td>2009-10-10</td>\n",
       "      <td>193148004</td>\n",
       "      <td>138148</td>\n",
       "    </tr>\n",
       "    <tr>\n",
       "      <th>8</th>\n",
       "      <td>133730</td>\n",
       "      <td>1001</td>\n",
       "      <td>Pain in limb</td>\n",
       "      <td>Outpatient header - 1st position</td>\n",
       "      <td>2009-10-10</td>\n",
       "      <td>2009-10-10</td>\n",
       "      <td>90834002</td>\n",
       "      <td>138525</td>\n",
       "    </tr>\n",
       "    <tr>\n",
       "      <th>9</th>\n",
       "      <td>133733</td>\n",
       "      <td>1001</td>\n",
       "      <td>Plantar nerve lesion</td>\n",
       "      <td>Outpatient header - 1st position</td>\n",
       "      <td>2009-10-10</td>\n",
       "      <td>2009-10-10</td>\n",
       "      <td>193148004</td>\n",
       "      <td>138148</td>\n",
       "    </tr>\n",
       "  </tbody>\n",
       "</table>\n",
       "</div>"
      ],
      "text/plain": [
       "   conditionoccurrenceid   pid  \\\n",
       "0                 133755  1001   \n",
       "1                 133756  1001   \n",
       "2                 133742  1001   \n",
       "3                 133741  1001   \n",
       "4                 133731  1001   \n",
       "5                 133729  1001   \n",
       "6                 133732  1001   \n",
       "7                 133734  1001   \n",
       "8                 133730  1001   \n",
       "9                 133733  1001   \n",
       "\n",
       "                                       conditionname  \\\n",
       "0                                              Fever   \n",
       "1                                              Fever   \n",
       "2                                       Osteoporosis   \n",
       "3                                       Osteoporosis   \n",
       "4  Disorder of nervous system due to type 2 diabe...   \n",
       "5                      Electroencephalogram abnormal   \n",
       "6                               Plantar nerve lesion   \n",
       "7                               Plantar nerve lesion   \n",
       "8                                       Pain in limb   \n",
       "9                               Plantar nerve lesion   \n",
       "\n",
       "                      conditiontype   startdate     enddate condconceptcode  \\\n",
       "0  Outpatient header - 1st position  2010-03-05  2010-03-05       386661006   \n",
       "1  Outpatient header - 1st position  2010-03-05  2010-03-05       386661006   \n",
       "2  Outpatient header - 1st position  2010-02-11  2010-02-11        64859006   \n",
       "3  Outpatient header - 1st position  2010-02-11  2010-02-11        64859006   \n",
       "4  Outpatient header - 1st position  2009-10-10  2009-10-10       421326000   \n",
       "5  Outpatient header - 1st position  2009-10-10  2009-10-10       274521009   \n",
       "6  Outpatient header - 1st position  2009-10-10  2009-10-10       193148004   \n",
       "7  Outpatient header - 1st position  2009-10-10  2009-10-10       193148004   \n",
       "8  Outpatient header - 1st position  2009-10-10  2009-10-10        90834002   \n",
       "9  Outpatient header - 1st position  2009-10-10  2009-10-10       193148004   \n",
       "\n",
       "   conditionconceptid  \n",
       "0              437663  \n",
       "1              437663  \n",
       "2               80502  \n",
       "3               80502  \n",
       "4              376065  \n",
       "5             4168553  \n",
       "6              138148  \n",
       "7              138148  \n",
       "8              138525  \n",
       "9              138148  "
      ]
     },
     "execution_count": 15,
     "metadata": {},
     "output_type": "execute_result"
    }
   ],
   "source": [
    "selective_condOcc_df = condOcc_df[['conditionoccurrenceid', 'pid', 'conditionname','conditiontype','startdate','enddate','condconceptcode', 'conditionconceptid']]\n",
    "selective_condOcc_df.head(10)"
   ]
  },
  {
   "cell_type": "code",
   "execution_count": 16,
   "metadata": {},
   "outputs": [],
   "source": [
    "specific_columns = total_patients_query.get_entities_dataframe_cohort(['patient.attributes.pid','patient.attributes.Gender', \n",
    "                                                                       'patient.attributes.dateOfBirth',\n",
    "                                                                       'patient.interactions.conditionoccurrence.attributes.conditionname', \n",
    "                                                                       'patient.interactions.conditionoccurrence.attributes.conditiontype',\n",
    "                                                                       'patient.interactions.visit.attributes.visitname',\n",
    "                                                                       'patient.interactions.proc.attributes.procname'])"
   ]
  },
  {
   "cell_type": "code",
   "execution_count": 17,
   "metadata": {},
   "outputs": [],
   "source": [
    "from IPython.display import display, HTML\n",
    "\n",
    "def printer2(title: str = \"\", d: dict = {}):\n",
    "    print(f\"Entities with {title}\\n\")\n",
    "    r = Result().download_all_entities_dataframe(d)\n",
    "    for entity_name in r.keys():\n",
    "        print(f\"{entity_name}: {len(r[entity_name])} rows\\n\")\n",
    "        display(HTML(r[entity_name][:10].to_html()))"
   ]
  },
  {
   "cell_type": "code",
   "execution_count": 18,
   "metadata": {},
   "outputs": [
    {
     "name": "stdout",
     "output_type": "stream",
     "text": [
      "Entities with Specific columns\n",
      "\n",
      "Patient: 440 rows\n",
      "\n"
     ]
    },
    {
     "data": {
      "text/html": [
       "<table border=\"1\" class=\"dataframe\">\n",
       "  <thead>\n",
       "    <tr style=\"text-align: right;\">\n",
       "      <th></th>\n",
       "      <th>gender</th>\n",
       "      <th>dateofbirth</th>\n",
       "      <th>pid</th>\n",
       "    </tr>\n",
       "  </thead>\n",
       "  <tbody>\n",
       "    <tr>\n",
       "      <th>0</th>\n",
       "      <td>MALE</td>\n",
       "      <td>1943-01-01</td>\n",
       "      <td>2</td>\n",
       "    </tr>\n",
       "    <tr>\n",
       "      <th>1</th>\n",
       "      <td>FEMALE</td>\n",
       "      <td>1936-09-01</td>\n",
       "      <td>3</td>\n",
       "    </tr>\n",
       "    <tr>\n",
       "      <th>2</th>\n",
       "      <td>MALE</td>\n",
       "      <td>1941-06-01</td>\n",
       "      <td>4</td>\n",
       "    </tr>\n",
       "    <tr>\n",
       "      <th>3</th>\n",
       "      <td>MALE</td>\n",
       "      <td>1936-08-01</td>\n",
       "      <td>5</td>\n",
       "    </tr>\n",
       "    <tr>\n",
       "      <th>4</th>\n",
       "      <td>MALE</td>\n",
       "      <td>1943-10-01</td>\n",
       "      <td>6</td>\n",
       "    </tr>\n",
       "    <tr>\n",
       "      <th>5</th>\n",
       "      <td>MALE</td>\n",
       "      <td>1935-09-01</td>\n",
       "      <td>8</td>\n",
       "    </tr>\n",
       "    <tr>\n",
       "      <th>6</th>\n",
       "      <td>FEMALE</td>\n",
       "      <td>1934-02-01</td>\n",
       "      <td>11</td>\n",
       "    </tr>\n",
       "    <tr>\n",
       "      <th>7</th>\n",
       "      <td>FEMALE</td>\n",
       "      <td>1936-07-01</td>\n",
       "      <td>13</td>\n",
       "    </tr>\n",
       "    <tr>\n",
       "      <th>8</th>\n",
       "      <td>MALE</td>\n",
       "      <td>1934-05-01</td>\n",
       "      <td>14</td>\n",
       "    </tr>\n",
       "    <tr>\n",
       "      <th>9</th>\n",
       "      <td>FEMALE</td>\n",
       "      <td>1936-03-01</td>\n",
       "      <td>15</td>\n",
       "    </tr>\n",
       "  </tbody>\n",
       "</table>"
      ],
      "text/plain": [
       "<IPython.core.display.HTML object>"
      ]
     },
     "metadata": {},
     "output_type": "display_data"
    },
    {
     "name": "stdout",
     "output_type": "stream",
     "text": [
      "Death: 0 rows\n",
      "\n"
     ]
    },
    {
     "data": {
      "text/html": [
       "<table border=\"1\" class=\"dataframe\">\n",
       "  <thead>\n",
       "    <tr style=\"text-align: right;\">\n",
       "      <th></th>\n",
       "    </tr>\n",
       "  </thead>\n",
       "  <tbody>\n",
       "  </tbody>\n",
       "</table>"
      ],
      "text/plain": [
       "<IPython.core.display.HTML object>"
      ]
     },
     "metadata": {},
     "output_type": "display_data"
    },
    {
     "name": "stdout",
     "output_type": "stream",
     "text": [
      "ConditionOccurrence: 48908 rows\n",
      "\n"
     ]
    },
    {
     "data": {
      "text/html": [
       "<table border=\"1\" class=\"dataframe\">\n",
       "  <thead>\n",
       "    <tr style=\"text-align: right;\">\n",
       "      <th></th>\n",
       "      <th>pid</th>\n",
       "      <th>conditionname</th>\n",
       "      <th>conditiontype</th>\n",
       "    </tr>\n",
       "  </thead>\n",
       "  <tbody>\n",
       "    <tr>\n",
       "      <th>0</th>\n",
       "      <td>1001</td>\n",
       "      <td>Fever</td>\n",
       "      <td>Outpatient header - 1st position</td>\n",
       "    </tr>\n",
       "    <tr>\n",
       "      <th>1</th>\n",
       "      <td>1001</td>\n",
       "      <td>Osteoporosis</td>\n",
       "      <td>Outpatient header - 1st position</td>\n",
       "    </tr>\n",
       "    <tr>\n",
       "      <th>2</th>\n",
       "      <td>1001</td>\n",
       "      <td>Disorder of nervous system due to type 2 diabetes mellitus</td>\n",
       "      <td>Outpatient header - 1st position</td>\n",
       "    </tr>\n",
       "    <tr>\n",
       "      <th>3</th>\n",
       "      <td>1001</td>\n",
       "      <td>Electroencephalogram abnormal</td>\n",
       "      <td>Outpatient header - 1st position</td>\n",
       "    </tr>\n",
       "    <tr>\n",
       "      <th>4</th>\n",
       "      <td>1001</td>\n",
       "      <td>Plantar nerve lesion</td>\n",
       "      <td>Outpatient header - 1st position</td>\n",
       "    </tr>\n",
       "    <tr>\n",
       "      <th>5</th>\n",
       "      <td>1001</td>\n",
       "      <td>Pain in limb</td>\n",
       "      <td>Outpatient header - 1st position</td>\n",
       "    </tr>\n",
       "    <tr>\n",
       "      <th>6</th>\n",
       "      <td>1001</td>\n",
       "      <td>Retinal vascular occlusion</td>\n",
       "      <td>Outpatient header - 1st position</td>\n",
       "    </tr>\n",
       "    <tr>\n",
       "      <th>7</th>\n",
       "      <td>1001</td>\n",
       "      <td>Urinary tract infectious disease</td>\n",
       "      <td>Outpatient header - 1st position</td>\n",
       "    </tr>\n",
       "    <tr>\n",
       "      <th>8</th>\n",
       "      <td>1001</td>\n",
       "      <td>Urethral syndrome</td>\n",
       "      <td>Outpatient header - 1st position</td>\n",
       "    </tr>\n",
       "    <tr>\n",
       "      <th>9</th>\n",
       "      <td>1001</td>\n",
       "      <td>Allergic rhinitis</td>\n",
       "      <td>Outpatient header - 1st position</td>\n",
       "    </tr>\n",
       "  </tbody>\n",
       "</table>"
      ],
      "text/plain": [
       "<IPython.core.display.HTML object>"
      ]
     },
     "metadata": {},
     "output_type": "display_data"
    },
    {
     "name": "stdout",
     "output_type": "stream",
     "text": [
      "visit: 1046 rows\n",
      "\n"
     ]
    },
    {
     "data": {
      "text/html": [
       "<table border=\"1\" class=\"dataframe\">\n",
       "  <thead>\n",
       "    <tr style=\"text-align: right;\">\n",
       "      <th></th>\n",
       "      <th>pid</th>\n",
       "      <th>visitname</th>\n",
       "    </tr>\n",
       "  </thead>\n",
       "  <tbody>\n",
       "    <tr>\n",
       "      <th>0</th>\n",
       "      <td>1001</td>\n",
       "      <td>No matching concept</td>\n",
       "    </tr>\n",
       "    <tr>\n",
       "      <th>1</th>\n",
       "      <td>1002</td>\n",
       "      <td>No matching concept</td>\n",
       "    </tr>\n",
       "    <tr>\n",
       "      <th>2</th>\n",
       "      <td>1002</td>\n",
       "      <td>Outpatient Visit</td>\n",
       "    </tr>\n",
       "    <tr>\n",
       "      <th>3</th>\n",
       "      <td>1002</td>\n",
       "      <td>Inpatient Visit</td>\n",
       "    </tr>\n",
       "    <tr>\n",
       "      <th>4</th>\n",
       "      <td>1004</td>\n",
       "      <td>No matching concept</td>\n",
       "    </tr>\n",
       "    <tr>\n",
       "      <th>5</th>\n",
       "      <td>1004</td>\n",
       "      <td>Outpatient Visit</td>\n",
       "    </tr>\n",
       "    <tr>\n",
       "      <th>6</th>\n",
       "      <td>1007</td>\n",
       "      <td>No matching concept</td>\n",
       "    </tr>\n",
       "    <tr>\n",
       "      <th>7</th>\n",
       "      <td>1007</td>\n",
       "      <td>Outpatient Visit</td>\n",
       "    </tr>\n",
       "    <tr>\n",
       "      <th>8</th>\n",
       "      <td>1007</td>\n",
       "      <td>Inpatient Visit</td>\n",
       "    </tr>\n",
       "    <tr>\n",
       "      <th>9</th>\n",
       "      <td>101</td>\n",
       "      <td>Outpatient Visit</td>\n",
       "    </tr>\n",
       "  </tbody>\n",
       "</table>"
      ],
      "text/plain": [
       "<IPython.core.display.HTML object>"
      ]
     },
     "metadata": {},
     "output_type": "display_data"
    },
    {
     "name": "stdout",
     "output_type": "stream",
     "text": [
      "proc: 18915 rows\n",
      "\n"
     ]
    },
    {
     "data": {
      "text/html": [
       "<table border=\"1\" class=\"dataframe\">\n",
       "  <thead>\n",
       "    <tr style=\"text-align: right;\">\n",
       "      <th></th>\n",
       "      <th>pid</th>\n",
       "      <th>procname</th>\n",
       "    </tr>\n",
       "  </thead>\n",
       "  <tbody>\n",
       "    <tr>\n",
       "      <th>0</th>\n",
       "      <td>1001</td>\n",
       "      <td>NaN</td>\n",
       "    </tr>\n",
       "    <tr>\n",
       "      <th>1</th>\n",
       "      <td>1001</td>\n",
       "      <td>Removal of implanted devices from bone, humerus</td>\n",
       "    </tr>\n",
       "    <tr>\n",
       "      <th>2</th>\n",
       "      <td>1001</td>\n",
       "      <td>Incision of chest wall and pleura</td>\n",
       "    </tr>\n",
       "    <tr>\n",
       "      <th>3</th>\n",
       "      <td>1001</td>\n",
       "      <td>Preoperative cardiovascular examination</td>\n",
       "    </tr>\n",
       "    <tr>\n",
       "      <th>4</th>\n",
       "      <td>1001</td>\n",
       "      <td>Other repair of urethra</td>\n",
       "    </tr>\n",
       "    <tr>\n",
       "      <th>5</th>\n",
       "      <td>1001</td>\n",
       "      <td>Bone graft, patella</td>\n",
       "    </tr>\n",
       "    <tr>\n",
       "      <th>6</th>\n",
       "      <td>1001</td>\n",
       "      <td>Other intrathoracic esophagoenterostomy</td>\n",
       "    </tr>\n",
       "    <tr>\n",
       "      <th>7</th>\n",
       "      <td>1001</td>\n",
       "      <td>Pre-surgery evaluation</td>\n",
       "    </tr>\n",
       "    <tr>\n",
       "      <th>8</th>\n",
       "      <td>1001</td>\n",
       "      <td>Administration of influenza virus vaccine</td>\n",
       "    </tr>\n",
       "    <tr>\n",
       "      <th>9</th>\n",
       "      <td>1002</td>\n",
       "      <td>Other repair of urethra</td>\n",
       "    </tr>\n",
       "  </tbody>\n",
       "</table>"
      ],
      "text/plain": [
       "<IPython.core.display.HTML object>"
      ]
     },
     "metadata": {},
     "output_type": "display_data"
    }
   ],
   "source": [
    "printer2(\"Specific columns\", specific_columns)"
   ]
  },
  {
   "cell_type": "code",
   "execution_count": 19,
   "metadata": {},
   "outputs": [
    {
     "data": {
      "image/png": "[encoded data removed]",
      "text/plain": [
       "<Figure size 1800x1584 with 1 Axes>"
      ]
     },
     "metadata": {
      "needs_background": "light"
     },
     "output_type": "display_data"
    }
   ],
   "source": [
    "import pandas as pd\n",
    "\n",
    "barh_table = pd.crosstab(selective_patient_df.state, selective_patient_df.gender)\n",
    "ax = barh_table.plot.barh(figsize=(25,22), title='Group by Gender & State Categories')\n",
    "ax.yaxis.set_tick_params(labelsize='large')\n",
    "ax.title.set_size(25)"
   ]
  },
  {
   "cell_type": "code",
   "execution_count": 20,
   "metadata": {},
   "outputs": [
    {
     "data": {
      "image/png": "[encoded data removed]",
      "text/plain": [
       "<Figure size 1152x576 with 1 Axes>"
      ]
     },
     "metadata": {},
     "output_type": "display_data"
    }
   ],
   "source": [
    "import matplotlib.pyplot as plt\n",
    "\n",
    "# Group Data by Conditions\n",
    "co_mini_df = condOcc_df[['conditionname', 'pid']]\n",
    "co_group_df = co_mini_df.groupby(['conditionname']).count()\n",
    "co_group_df.rename(columns = {'pid':'count'}, inplace = True)\n",
    "\n",
    "# Sort & Pick the top 10 conditions\n",
    "co_group_df.sort_values(by=['count'], inplace=True, ascending=False)\n",
    "co_group_df_top10 = co_group_df.head(10)\n",
    "plt.figure(figsize=(16,8))\n",
    "\n",
    "# plot pie chart\n",
    "ax1 = plt.subplot(121, aspect='equal')\n",
    "co_group_df_top10.plot(kind='pie', y = 'count', ax=ax1, autopct='%1.1f%%', \n",
    " startangle=90, shadow=False, legend = False, fontsize=14)\n",
    "\n",
    "plt.title('Diabetes & Other Comorbidities', fontdict={'fontsize':20})\n",
    "plt.axis('off')\n",
    "plt.show()"
   ]
  },
  {
   "cell_type": "markdown",
   "metadata": {},
   "source": [
    "## Null Hypothesis:\n",
    "    \n",
    "### Coronary Disorders and Gender are independent of each other."
   ]
  },
  {
   "cell_type": "code",
   "execution_count": 21,
   "metadata": {},
   "outputs": [
    {
     "data": {
      "text/html": [
       "<div>\n",
       "<style scoped>\n",
       "    .dataframe tbody tr th:only-of-type {\n",
       "        vertical-align: middle;\n",
       "    }\n",
       "\n",
       "    .dataframe tbody tr th {\n",
       "        vertical-align: top;\n",
       "    }\n",
       "\n",
       "    .dataframe thead th {\n",
       "        text-align: right;\n",
       "    }\n",
       "</style>\n",
       "<table border=\"1\" class=\"dataframe\">\n",
       "  <thead>\n",
       "    <tr style=\"text-align: right;\">\n",
       "      <th></th>\n",
       "      <th>pid</th>\n",
       "      <th>Have Coronary Issues</th>\n",
       "      <th>gender</th>\n",
       "    </tr>\n",
       "  </thead>\n",
       "  <tbody>\n",
       "    <tr>\n",
       "      <th>0</th>\n",
       "      <td>1001</td>\n",
       "      <td>True</td>\n",
       "      <td>MALE</td>\n",
       "    </tr>\n",
       "    <tr>\n",
       "      <th>1</th>\n",
       "      <td>1002</td>\n",
       "      <td>True</td>\n",
       "      <td>MALE</td>\n",
       "    </tr>\n",
       "    <tr>\n",
       "      <th>2</th>\n",
       "      <td>1004</td>\n",
       "      <td>True</td>\n",
       "      <td>FEMALE</td>\n",
       "    </tr>\n",
       "    <tr>\n",
       "      <th>3</th>\n",
       "      <td>1007</td>\n",
       "      <td>True</td>\n",
       "      <td>MALE</td>\n",
       "    </tr>\n",
       "    <tr>\n",
       "      <th>4</th>\n",
       "      <td>101</td>\n",
       "      <td>True</td>\n",
       "      <td>MALE</td>\n",
       "    </tr>\n",
       "    <tr>\n",
       "      <th>5</th>\n",
       "      <td>1010</td>\n",
       "      <td>True</td>\n",
       "      <td>MALE</td>\n",
       "    </tr>\n",
       "    <tr>\n",
       "      <th>6</th>\n",
       "      <td>1012</td>\n",
       "      <td>True</td>\n",
       "      <td>MALE</td>\n",
       "    </tr>\n",
       "    <tr>\n",
       "      <th>7</th>\n",
       "      <td>1016</td>\n",
       "      <td>True</td>\n",
       "      <td>FEMALE</td>\n",
       "    </tr>\n",
       "    <tr>\n",
       "      <th>8</th>\n",
       "      <td>1017</td>\n",
       "      <td>True</td>\n",
       "      <td>FEMALE</td>\n",
       "    </tr>\n",
       "    <tr>\n",
       "      <th>9</th>\n",
       "      <td>1020</td>\n",
       "      <td>True</td>\n",
       "      <td>FEMALE</td>\n",
       "    </tr>\n",
       "  </tbody>\n",
       "</table>\n",
       "</div>"
      ],
      "text/plain": [
       "    pid Have Coronary Issues  gender\n",
       "0  1001                 True    MALE\n",
       "1  1002                 True    MALE\n",
       "2  1004                 True  FEMALE\n",
       "3  1007                 True    MALE\n",
       "4   101                 True    MALE\n",
       "5  1010                 True    MALE\n",
       "6  1012                 True    MALE\n",
       "7  1016                 True  FEMALE\n",
       "8  1017                 True  FEMALE\n",
       "9  1020                 True  FEMALE"
      ]
     },
     "execution_count": 21,
     "metadata": {},
     "output_type": "execute_result"
    }
   ],
   "source": [
    "import pandas as pd\n",
    "import numpy as np\n",
    "\n",
    "# Filter for patients with Stress, Anxiety & Depressive Disorders\n",
    "mini_condition_occurrence_dataframe = condOcc_df[['pid', 'conditionname']]\n",
    "coronaryConditions_df = mini_condition_occurrence_dataframe[mini_condition_occurrence_dataframe['conditionname'].isin(['Atrial fibrillation','Congestive heart failure','Coronary arteriosclerosis in native artery'])]\n",
    "coronaryConditions_pid_df = coronaryConditions_df[['pid']]\n",
    "coronaryConditions_pid_unique_df = coronaryConditions_pid_df.drop_duplicates(subset=['pid']).copy(deep=True)\n",
    "coronaryConditions_pid_unique_df['Have Coronary Issues'] = True\n",
    "\n",
    "# Strip the condition occurrence data to only patient ID\n",
    "condition_occurrence_pid_dataframe = mini_condition_occurrence_dataframe[['pid']]\n",
    "condition_occurrence_pid_unique_dataframe = condition_occurrence_pid_dataframe.drop_duplicates(subset=['pid']).copy(deep=True)\n",
    "\n",
    "#Pick pid and gender\n",
    "patient_df2 = patient_df[['pid','gender']]\n",
    "patient_df2 = patient_df2.drop_duplicates(subset=['pid'])\n",
    "\n",
    "# # Join between All patients & patients having Stress & Anxiety\n",
    "joined_df = pd.merge(condition_occurrence_pid_unique_dataframe, coronaryConditions_pid_unique_df, on='pid', how='left')\n",
    "joined_df2 = pd.merge(joined_df, patient_df2, on='pid', how='inner')\n",
    "\n",
    "# # Cleanup dataframes\n",
    "condition_occurrence_pid_unique_dataframe, coronaryConditions_pid_unique_df = pd.DataFrame(), pd.DataFrame()\n",
    "lst = [condition_occurrence_pid_unique_dataframe, coronaryConditions_pid_unique_df]\n",
    "del condition_occurrence_pid_unique_dataframe, coronaryConditions_pid_unique_df # dfs still in list\n",
    "del lst\n",
    "\n",
    "joined_df2['Have Coronary Issues'] = np.where(joined_df2['Have Coronary Issues'] != True, False, joined_df2['Have Coronary Issues'])\n",
    "joined_df2.head(10)"
   ]
  },
  {
   "cell_type": "code",
   "execution_count": 22,
   "metadata": {},
   "outputs": [
    {
     "name": "stdout",
     "output_type": "stream",
     "text": [
      "Chi-square Analysis:\n",
      "p-value=0.9635191592, degrees of freedom=1, statistics=0.002\n"
     ]
    }
   ],
   "source": [
    "from scipy.stats import chi2_contingency \n",
    "import numpy as np\n",
    "\n",
    "# Test Null Hypothesis\n",
    "co_chisqt = pd.crosstab(joined_df2['Have Coronary Issues'], joined_df2['gender'], margins=True)\n",
    "co_value = np.array([co_chisqt.iloc[[0,1],[0,1]].values,\n",
    "                 ])\n",
    "\n",
    "co_stat, co_p, co_dof = chi2_contingency(co_value)[0:3]\n",
    "print('Chi-square Analysis:')\n",
    "print('p-value=%.10f, degrees of freedom=%i, statistics=%.3f' % (co_p, co_dof, co_stat))      "
   ]
  },
  {
   "cell_type": "markdown",
   "metadata": {},
   "source": [
    "### Test Null Hypothesis"
   ]
  },
  {
   "cell_type": "code",
   "execution_count": 23,
   "metadata": {},
   "outputs": [
    {
     "name": "stdout",
     "output_type": "stream",
     "text": [
      "Result: Independent - Accept Null Hypothesis (Coronary Disorders and Gender are independent)\n"
     ]
    }
   ],
   "source": [
    "significance = 0.05\n",
    "\n",
    "if co_p <= significance:\n",
    "\tprint('Result: Dependent - Reject Null Hypothesis (Coronary Disorders and Gender are dependent)')\n",
    "else:\n",
    "\tprint('Result: Independent - Accept Null Hypothesis (Coronary Disorders and Gender are independent)')\n"
   ]
  },
  {
   "cell_type": "code",
   "execution_count": null,
   "metadata": {},
   "outputs": [],
   "source": []
  }
 ],
 "metadata": {
  "kernelspec": {
   "display_name": "Python 3 (ipykernel)",
   "language": "python",
   "name": "python3"
  },
  "language_info": {
   "codemirror_mode": {
    "name": "ipython",
    "version": 3
   },
   "file_extension": ".py",
   "mimetype": "text/x-python",
   "name": "python",
   "nbconvert_exporter": "python",
   "pygments_lexer": "ipython3",
   "version": "3.9.7"
  }
 },
 "nbformat": 4,
 "nbformat_minor": 4
}
