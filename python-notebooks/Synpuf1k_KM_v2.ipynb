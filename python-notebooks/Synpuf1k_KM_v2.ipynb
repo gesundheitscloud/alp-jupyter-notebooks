{
 "cells": [
  {
   "cell_type": "markdown",
   "metadata": {},
   "source": [
    "## Analyze Type 1 & Type 2 Diabetes Patients"
   ]
  },
  {
   "cell_type": "markdown",
   "metadata": {},
   "source": [
    "##### Setup the imports."
   ]
  },
  {
   "cell_type": "code",
   "execution_count": 149,
   "metadata": {},
   "outputs": [],
   "source": [
    "import site, sys\n",
    "sys.path.insert(0,site.USER_SITE)\n",
    "\n",
    "from pyqe import *"
   ]
  },
  {
   "cell_type": "markdown",
   "metadata": {},
   "source": [
    "##### Always start with creating a query object. \n",
    "\n",
    "Apart from creating Query object, it does the following that are required for setting up your profile:\n",
    "- Ask for username and password for login"
   ]
  },
  {
   "cell_type": "code",
   "execution_count": 147,
   "metadata": {},
   "outputs": [],
   "source": [
    "# Always begin your script by creating Query object\n",
    "total_patients_query = Query('Total_Participants')"
   ]
  },
  {
   "cell_type": "markdown",
   "metadata": {},
   "source": [
    "##### Configure by selecting Study and Study config.\n",
    "\n",
    "Use get_study_list() method to fetch all available studies that you have access to.\n",
    "\n",
    "Use set_study() method to select a study that you are interested in (by passing the study ID)."
   ]
  },
  {
   "cell_type": "code",
   "execution_count": 150,
   "metadata": {},
   "outputs": [
    {
     "name": "stdout",
     "output_type": "stream",
     "text": [
      "Study Name - Study Id\n",
      "(1) Accept - fb4269d3-f6ac-4f81-85da-b80ce277793e\n",
      "(2) CRONOS by DGPM - 38ce29c0-eb76-45cc-ba4f-56395f8c49e0\n",
      "(3) DE-SynPUF [Demo Dataset] - 0368b0c9-fe26-4a64-b6ba-5378914fe107\n",
      "(4) Demo Study: COVID-19 symptom study - 121ec9da-3706-4e20-885d-101a7e421ed2\n",
      "(5) ECOV - f875fdc4-c180-45f3-bdbb-a68fb1476338\n",
      "(6) FeMFit - 69990b1e-3b4c-4e7f-9d06-84cc2cdf88d0\n",
      "(7) S4H HPIMS - 62ce796d-f38a-4dab-95b9-00d202ece4fe\n",
      "(8) Univie Demo-Study - 0b7e9885-ed8e-456f-89e1-0a1d3b0f615c\n"
     ]
    }
   ],
   "source": [
    "total_patients_query.get_study_list()\n",
    "\n",
    "# any STUDY_ID from above list\n",
    "total_patients_query.set_study('0368b0c9-fe26-4a64-b6ba-5378914fe107') "
   ]
  },
  {
   "cell_type": "markdown",
   "metadata": {},
   "source": [
    "Similar to above step, use get_config_list() method to fetch all available configurations corresponding to the study.\n",
    "\n",
    "Use set_study_config() method to select a config (by passing the config ID)."
   ]
  },
  {
   "cell_type": "code",
   "execution_count": 105,
   "metadata": {},
   "outputs": [
    {
     "name": "stdout",
     "output_type": "stream",
     "text": [
      "Assignment Name, Config Name - Config Id\n",
      "(1) Default_assignment_OMOP_GDM_PA_CONF, OMOP_GDM_PA_CONF - 522bcd53-1dde-456d-9cff-266b4280ad59\n",
      "(2) GDM-PA, DemoGDMPAConfig - daac6e40-9fdc-48f8-bd9b-181571102d91\n",
      "(3) RKI-SYNPUF1K-PA, SYNPUF1K-PA - 695f3b81-2289-4b78-9527-7a610c0ce948\n",
      "(4) S4H-HPIMS-Study, S4H-MS-PA-Config - 14356623-1766-4acb-9e16-9285d47bb71c\n",
      "(5) Univie-Demo-Study, S4H-DemoData-PA-Config - 960abc83-cbef-4ace-9627-c60852d7a723\n"
     ]
    }
   ],
   "source": [
    "total_patients_query.get_config_list()\n",
    "\n",
    "# any CONFIG_ID from above list\n",
    "total_patients_query.set_study_config('522bcd53-1dde-456d-9cff-266b4280ad59') "
   ]
  },
  {
   "cell_type": "markdown",
   "metadata": {},
   "source": [
    "##### Initialize Patient object and add filter criteria"
   ]
  },
  {
   "cell_type": "code",
   "execution_count": 152,
   "metadata": {},
   "outputs": [
    {
     "data": {
      "text/plain": [
       "<pyqe.ql.person.Patient at 0x7f638f6c71f0>"
      ]
     },
     "execution_count": 152,
     "metadata": {},
     "output_type": "execute_result"
    }
   ],
   "source": [
    "patients = Person.Patient()\n",
    "\n",
    "constraint_age_greater_than_50_years = Constraint()\n",
    "constraint_age_greater_than_50_years.add(Expression(ComparisonOperator.MORE_THAN_EQUAL, 50))\n",
    "\n",
    "constraint_age_lesser_than_90_years = Constraint()\n",
    "constraint_age_lesser_than_90_years.add(Expression(ComparisonOperator.LESS_THAN_EQUAL, 90))\n",
    "\n",
    "patients.add_age([constraint_age_greater_than_50_years])\n",
    "patients.add_age([constraint_age_lesser_than_90_years])"
   ]
  },
  {
   "cell_type": "markdown",
   "metadata": {},
   "source": [
    "##### Define criteria for Type 2 Diabetes"
   ]
  },
  {
   "cell_type": "code",
   "execution_count": 109,
   "metadata": {},
   "outputs": [],
   "source": [
    "# Condition Concept IDs for Diabetes Mellitus 2\n",
    "\n",
    "diabetes2_conditionOcc = Interactions.ConditionOccurrence(\"Type 2 Diabetes condition\")\n",
    "diabetes2_condition_concepts = ConceptSet(\n",
    "                           'Conditions',\n",
    "                            Domain.CONDITION, \n",
    "                           ['44054006', '8801005', '190331003', '421326000', '443694000', '422014003', '421326000']) \n",
    "\n",
    "diabetes2_conditionOcc.add_concept_set(diabetes2_condition_concepts)"
   ]
  },
  {
   "cell_type": "markdown",
   "metadata": {},
   "source": [
    "##### Define criteria for Type 1 Diabetes"
   ]
  },
  {
   "cell_type": "code",
   "execution_count": 110,
   "metadata": {},
   "outputs": [],
   "source": [
    "# Diabetes type 1\n",
    "\n",
    "diabetes1_conditionOcc = Interactions.ConditionOccurrence(\"Type 1 Diabetes condition\")\n",
    "diabetes1_condition_concepts = ConceptSet(\n",
    "                           'Conditions',\n",
    "                            Domain.CONDITION, \n",
    "                           ['201254', '318712', '435216', '40484648', '200687', '377821']) \n",
    "diabetes1_conditionOcc.add_concept_set(diabetes1_condition_concepts)"
   ]
  },
  {
   "cell_type": "markdown",
   "metadata": {},
   "source": [
    "##### Combine Patient and Diabetes filter criteria"
   ]
  },
  {
   "cell_type": "code",
   "execution_count": 153,
   "metadata": {},
   "outputs": [],
   "source": [
    "# patient_criteriagroup = CriteriaGroup(MatchCriteria.ALL, [patients, exclude_Death])\n",
    "patient_criteriagroup = CriteriaGroup(MatchCriteria.ALL, [patients])\n",
    "\n",
    "\n",
    "diabetes_criteriagroup = CriteriaGroup(\n",
    "                        MatchCriteria.ANY, [diabetes1_conditionOcc, diabetes2_conditionOcc])\n",
    "\n",
    "patient_criteriagroup.add_exclusive_group(diabetes_criteriagroup)\n",
    "total_patients_query.add_criteria_group(patient_criteriagroup)"
   ]
  },
  {
   "cell_type": "markdown",
   "metadata": {},
   "source": [
    "##### Get Patient count for the defined cohort"
   ]
  },
  {
   "cell_type": "code",
   "execution_count": 154,
   "metadata": {},
   "outputs": [
    {
     "name": "stdout",
     "output_type": "stream",
     "text": [
      "\n",
      "Total participants: 474\n"
     ]
    }
   ],
   "source": [
    "# create Result object and fetch the patient count\n",
    "total_patients_req = total_patients_query.get_patient_count_filter()\n",
    "total_patients = Result().get_patient_count(total_patients_req)\n",
    "print(f'\\nTotal participants: {total_patients}')"
   ]
  },
  {
   "cell_type": "markdown",
   "metadata": {},
   "source": [
    "##### Get Dataframe for Patient entity alone"
   ]
  },
  {
   "cell_type": "code",
   "execution_count": 156,
   "metadata": {},
   "outputs": [
    {
     "data": {
      "text/html": [
       "<div>\n",
       "<style scoped>\n",
       "    .dataframe tbody tr th:only-of-type {\n",
       "        vertical-align: middle;\n",
       "    }\n",
       "\n",
       "    .dataframe tbody tr th {\n",
       "        vertical-align: top;\n",
       "    }\n",
       "\n",
       "    .dataframe thead th {\n",
       "        text-align: right;\n",
       "    }\n",
       "</style>\n",
       "<table border=\"1\" class=\"dataframe\">\n",
       "  <thead>\n",
       "    <tr style=\"text-align: right;\">\n",
       "      <th></th>\n",
       "      <th>pid</th>\n",
       "      <th>gender</th>\n",
       "      <th>dateofbirth</th>\n",
       "      <th>ethnicity</th>\n",
       "      <th>race</th>\n",
       "      <th>state</th>\n",
       "    </tr>\n",
       "  </thead>\n",
       "  <tbody>\n",
       "    <tr>\n",
       "      <th>0</th>\n",
       "      <td>2</td>\n",
       "      <td>MALE</td>\n",
       "      <td>1943-01-01</td>\n",
       "      <td>Not Hispanic or Latino</td>\n",
       "      <td>White</td>\n",
       "      <td>PA</td>\n",
       "    </tr>\n",
       "    <tr>\n",
       "      <th>1</th>\n",
       "      <td>3</td>\n",
       "      <td>FEMALE</td>\n",
       "      <td>1936-09-01</td>\n",
       "      <td>Not Hispanic or Latino</td>\n",
       "      <td>White</td>\n",
       "      <td>PA</td>\n",
       "    </tr>\n",
       "    <tr>\n",
       "      <th>2</th>\n",
       "      <td>4</td>\n",
       "      <td>MALE</td>\n",
       "      <td>1941-06-01</td>\n",
       "      <td>Hispanic or Latino</td>\n",
       "      <td>No matching concept</td>\n",
       "      <td>CO</td>\n",
       "    </tr>\n",
       "    <tr>\n",
       "      <th>3</th>\n",
       "      <td>5</td>\n",
       "      <td>MALE</td>\n",
       "      <td>1936-08-01</td>\n",
       "      <td>Not Hispanic or Latino</td>\n",
       "      <td>White</td>\n",
       "      <td>WI</td>\n",
       "    </tr>\n",
       "    <tr>\n",
       "      <th>4</th>\n",
       "      <td>6</td>\n",
       "      <td>MALE</td>\n",
       "      <td>1943-10-01</td>\n",
       "      <td>Not Hispanic or Latino</td>\n",
       "      <td>Black or African American</td>\n",
       "      <td>NY</td>\n",
       "    </tr>\n",
       "    <tr>\n",
       "      <th>5</th>\n",
       "      <td>8</td>\n",
       "      <td>MALE</td>\n",
       "      <td>1935-09-01</td>\n",
       "      <td>Not Hispanic or Latino</td>\n",
       "      <td>White</td>\n",
       "      <td>MN</td>\n",
       "    </tr>\n",
       "    <tr>\n",
       "      <th>6</th>\n",
       "      <td>11</td>\n",
       "      <td>FEMALE</td>\n",
       "      <td>1934-02-01</td>\n",
       "      <td>Not Hispanic or Latino</td>\n",
       "      <td>White</td>\n",
       "      <td>IN</td>\n",
       "    </tr>\n",
       "    <tr>\n",
       "      <th>7</th>\n",
       "      <td>13</td>\n",
       "      <td>FEMALE</td>\n",
       "      <td>1936-07-01</td>\n",
       "      <td>Not Hispanic or Latino</td>\n",
       "      <td>White</td>\n",
       "      <td>RI</td>\n",
       "    </tr>\n",
       "    <tr>\n",
       "      <th>8</th>\n",
       "      <td>14</td>\n",
       "      <td>MALE</td>\n",
       "      <td>1934-05-01</td>\n",
       "      <td>Not Hispanic or Latino</td>\n",
       "      <td>White</td>\n",
       "      <td>IL</td>\n",
       "    </tr>\n",
       "    <tr>\n",
       "      <th>9</th>\n",
       "      <td>15</td>\n",
       "      <td>FEMALE</td>\n",
       "      <td>1936-03-01</td>\n",
       "      <td>Not Hispanic or Latino</td>\n",
       "      <td>White</td>\n",
       "      <td>ID</td>\n",
       "    </tr>\n",
       "  </tbody>\n",
       "</table>\n",
       "</div>"
      ],
      "text/plain": [
       "   pid  gender dateofbirth               ethnicity                       race  \\\n",
       "0    2    MALE  1943-01-01  Not Hispanic or Latino                      White   \n",
       "1    3  FEMALE  1936-09-01  Not Hispanic or Latino                      White   \n",
       "2    4    MALE  1941-06-01      Hispanic or Latino        No matching concept   \n",
       "3    5    MALE  1936-08-01  Not Hispanic or Latino                      White   \n",
       "4    6    MALE  1943-10-01  Not Hispanic or Latino  Black or African American   \n",
       "5    8    MALE  1935-09-01  Not Hispanic or Latino                      White   \n",
       "6   11  FEMALE  1934-02-01  Not Hispanic or Latino                      White   \n",
       "7   13  FEMALE  1936-07-01  Not Hispanic or Latino                      White   \n",
       "8   14    MALE  1934-05-01  Not Hispanic or Latino                      White   \n",
       "9   15  FEMALE  1936-03-01  Not Hispanic or Latino                      White   \n",
       "\n",
       "  state  \n",
       "0    PA  \n",
       "1    PA  \n",
       "2    CO  \n",
       "3    WI  \n",
       "4    NY  \n",
       "5    MN  \n",
       "6    IN  \n",
       "7    RI  \n",
       "8    IL  \n",
       "9    ID  "
      ]
     },
     "execution_count": 156,
     "metadata": {},
     "output_type": "execute_result"
    }
   ],
   "source": [
    "# Generate Request for Dataframe cohort\n",
    "request_df = total_patients_query.get_dataframe_cohort([],'Patient')\n",
    "\n",
    "# Get Patient Dataframe. Select (1) Patient\n",
    "patient_df = Result().download_dataframe(request_df)\n",
    "\n",
    "# Peek Into the Patient Demographics Data\n",
    "selective_patient_df = patient_df[['pid', 'gender', 'dateofbirth', 'ethnicity', 'race', 'state']]\n",
    "\n",
    "selective_patient_df.head(10)"
   ]
  },
  {
   "cell_type": "markdown",
   "metadata": {},
   "source": [
    "##### Define the Necessary columns required for our analysis and get their data. Patient ID, Interactions End date, Date of death are some of the below ones."
   ]
  },
  {
   "cell_type": "code",
   "execution_count": 158,
   "metadata": {},
   "outputs": [],
   "source": [
    "specific_columns = total_patients_query.get_entities_dataframe_cohort(['patient.attributes.pid','patient.attributes.Gender', \n",
    "                                                                       'patient.attributes.dateOfBirth',\n",
    "                                                                       'patient.interactions.conditionoccurrence.attributes.conditionname', \n",
    "                                                                       'patient.interactions.conditionoccurrence.attributes.startdate',\n",
    "                                                                       'patient.interactions.conditionoccurrence.attributes.enddate',\n",
    "                                                                       'patient.interactions.visit.attributes.enddate',\n",
    "                                                                       'patient.interactions.proc.attributes.procdate',\n",
    "                                                                       'patient.interactions.observation.attributes.obsdate',\n",
    "                                                                       'patient.interactions.measurement.attributes.measurementdate',\n",
    "                                                                       'patient.interactions.drugexposure.attributes.enddate',\n",
    "                                                                       'patient.interactions.deviceexposure.attributes.enddate',\n",
    "                                                                       'patient.interactions.death.attributes.deathdate'])\n",
    "\n",
    "specified_dfs = Result().download_all_entities_dataframe(specific_columns)"
   ]
  },
  {
   "cell_type": "markdown",
   "metadata": {},
   "source": [
    "##### Combine data from different Interaction entities for end date and choose patient's last interaction end date / Max End Date."
   ]
  },
  {
   "cell_type": "code",
   "execution_count": 119,
   "metadata": {},
   "outputs": [
    {
     "data": {
      "text/html": [
       "<div>\n",
       "<style scoped>\n",
       "    .dataframe tbody tr th:only-of-type {\n",
       "        vertical-align: middle;\n",
       "    }\n",
       "\n",
       "    .dataframe tbody tr th {\n",
       "        vertical-align: top;\n",
       "    }\n",
       "\n",
       "    .dataframe thead th {\n",
       "        text-align: right;\n",
       "    }\n",
       "</style>\n",
       "<table border=\"1\" class=\"dataframe\">\n",
       "  <thead>\n",
       "    <tr style=\"text-align: right;\">\n",
       "      <th></th>\n",
       "      <th>pid</th>\n",
       "      <th>enddate</th>\n",
       "    </tr>\n",
       "  </thead>\n",
       "  <tbody>\n",
       "    <tr>\n",
       "      <th>0</th>\n",
       "      <td>2</td>\n",
       "      <td>2010-09-08</td>\n",
       "    </tr>\n",
       "    <tr>\n",
       "      <th>1</th>\n",
       "      <td>3</td>\n",
       "      <td>2009-11-17</td>\n",
       "    </tr>\n",
       "    <tr>\n",
       "      <th>2</th>\n",
       "      <td>4</td>\n",
       "      <td>2009-11-25</td>\n",
       "    </tr>\n",
       "    <tr>\n",
       "      <th>3</th>\n",
       "      <td>5</td>\n",
       "      <td>2010-05-26</td>\n",
       "    </tr>\n",
       "    <tr>\n",
       "      <th>4</th>\n",
       "      <td>6</td>\n",
       "      <td>2010-09-26</td>\n",
       "    </tr>\n",
       "    <tr>\n",
       "      <th>5</th>\n",
       "      <td>8</td>\n",
       "      <td>2010-03-02</td>\n",
       "    </tr>\n",
       "    <tr>\n",
       "      <th>6</th>\n",
       "      <td>11</td>\n",
       "      <td>2010-12-12</td>\n",
       "    </tr>\n",
       "    <tr>\n",
       "      <th>7</th>\n",
       "      <td>13</td>\n",
       "      <td>2010-09-22</td>\n",
       "    </tr>\n",
       "    <tr>\n",
       "      <th>8</th>\n",
       "      <td>14</td>\n",
       "      <td>2010-05-09</td>\n",
       "    </tr>\n",
       "    <tr>\n",
       "      <th>9</th>\n",
       "      <td>15</td>\n",
       "      <td>2010-12-01</td>\n",
       "    </tr>\n",
       "  </tbody>\n",
       "</table>\n",
       "</div>"
      ],
      "text/plain": [
       "   pid     enddate\n",
       "0    2  2010-09-08\n",
       "1    3  2009-11-17\n",
       "2    4  2009-11-25\n",
       "3    5  2010-05-26\n",
       "4    6  2010-09-26\n",
       "5    8  2010-03-02\n",
       "6   11  2010-12-12\n",
       "7   13  2010-09-22\n",
       "8   14  2010-05-09\n",
       "9   15  2010-12-01"
      ]
     },
     "execution_count": 119,
     "metadata": {},
     "output_type": "execute_result"
    }
   ],
   "source": [
    "import pandas as pd\n",
    "\n",
    "concatenated_dfs = pd.concat([\n",
    "                                specified_dfs['measurement'].rename(columns={'measurementdate': 'enddate'}), \n",
    "                                specified_dfs['deviceexposure'],\n",
    "                                specified_dfs['visit'],\n",
    "                                specified_dfs['proc'].rename(columns={'procdate': 'enddate'}),\n",
    "                                specified_dfs['observation'].rename(columns={'obsdate': 'enddate'}),\n",
    "                                specified_dfs['ConditionOccurrence'],\n",
    "                                specified_dfs['drugexposure']\n",
    "\n",
    "])\n",
    "concatenated_dfs_max_enddate = concatenated_dfs.groupby(['pid'],as_index=False)['enddate'].max().reindex(columns=['pid', 'enddate'])\n",
    "concatenated_dfs_max_enddate.head(10)"
   ]
  },
  {
   "cell_type": "markdown",
   "metadata": {},
   "source": [
    "##### Filter the Diabetes condition and choose the patients earliest date of diagnosis / Minimum start date"
   ]
  },
  {
   "cell_type": "code",
   "execution_count": 120,
   "metadata": {},
   "outputs": [
    {
     "data": {
      "text/html": [
       "<div>\n",
       "<style scoped>\n",
       "    .dataframe tbody tr th:only-of-type {\n",
       "        vertical-align: middle;\n",
       "    }\n",
       "\n",
       "    .dataframe tbody tr th {\n",
       "        vertical-align: top;\n",
       "    }\n",
       "\n",
       "    .dataframe thead th {\n",
       "        text-align: right;\n",
       "    }\n",
       "</style>\n",
       "<table border=\"1\" class=\"dataframe\">\n",
       "  <thead>\n",
       "    <tr style=\"text-align: right;\">\n",
       "      <th></th>\n",
       "      <th>pid</th>\n",
       "      <th>startdate</th>\n",
       "    </tr>\n",
       "  </thead>\n",
       "  <tbody>\n",
       "    <tr>\n",
       "      <th>0</th>\n",
       "      <td>2</td>\n",
       "      <td>2009-05-11</td>\n",
       "    </tr>\n",
       "    <tr>\n",
       "      <th>1</th>\n",
       "      <td>3</td>\n",
       "      <td>2009-11-17</td>\n",
       "    </tr>\n",
       "    <tr>\n",
       "      <th>2</th>\n",
       "      <td>4</td>\n",
       "      <td>2009-11-25</td>\n",
       "    </tr>\n",
       "    <tr>\n",
       "      <th>3</th>\n",
       "      <td>5</td>\n",
       "      <td>2009-06-28</td>\n",
       "    </tr>\n",
       "    <tr>\n",
       "      <th>4</th>\n",
       "      <td>6</td>\n",
       "      <td>2009-12-21</td>\n",
       "    </tr>\n",
       "    <tr>\n",
       "      <th>5</th>\n",
       "      <td>8</td>\n",
       "      <td>2008-10-17</td>\n",
       "    </tr>\n",
       "    <tr>\n",
       "      <th>6</th>\n",
       "      <td>11</td>\n",
       "      <td>2008-06-17</td>\n",
       "    </tr>\n",
       "    <tr>\n",
       "      <th>7</th>\n",
       "      <td>13</td>\n",
       "      <td>2008-03-05</td>\n",
       "    </tr>\n",
       "    <tr>\n",
       "      <th>8</th>\n",
       "      <td>14</td>\n",
       "      <td>2008-05-24</td>\n",
       "    </tr>\n",
       "    <tr>\n",
       "      <th>9</th>\n",
       "      <td>15</td>\n",
       "      <td>2008-09-24</td>\n",
       "    </tr>\n",
       "  </tbody>\n",
       "</table>\n",
       "</div>"
      ],
      "text/plain": [
       "   pid   startdate\n",
       "0    2  2009-05-11\n",
       "1    3  2009-11-17\n",
       "2    4  2009-11-25\n",
       "3    5  2009-06-28\n",
       "4    6  2009-12-21\n",
       "5    8  2008-10-17\n",
       "6   11  2008-06-17\n",
       "7   13  2008-03-05\n",
       "8   14  2008-05-24\n",
       "9   15  2008-09-24"
      ]
     },
     "execution_count": 120,
     "metadata": {},
     "output_type": "execute_result"
    }
   ],
   "source": [
    "condOcc_df = specified_dfs['ConditionOccurrence']\n",
    "condOcc_diabetes_df = condOcc_df[condOcc_df['conditionname'].str.contains(\"diabetes\")]\n",
    "co_pid_start_date_df = condOcc_diabetes_df[['pid', 'startdate']]\n",
    "co_pid_groupby_start_date_min_df = co_pid_start_date_df.groupby(['pid'],as_index=False)['startdate'].min().reindex(columns=['pid', 'startdate'])\n",
    "co_pid_groupby_start_date_min_df.head(10)"
   ]
  },
  {
   "cell_type": "markdown",
   "metadata": {},
   "source": [
    "##### Form the table with surival period and binary values for dead or alive for the cohort for Kaplan Meier Analysis"
   ]
  },
  {
   "cell_type": "code",
   "execution_count": 159,
   "metadata": {},
   "outputs": [
    {
     "data": {
      "text/html": [
       "<div>\n",
       "<style scoped>\n",
       "    .dataframe tbody tr th:only-of-type {\n",
       "        vertical-align: middle;\n",
       "    }\n",
       "\n",
       "    .dataframe tbody tr th {\n",
       "        vertical-align: top;\n",
       "    }\n",
       "\n",
       "    .dataframe thead th {\n",
       "        text-align: right;\n",
       "    }\n",
       "</style>\n",
       "<table border=\"1\" class=\"dataframe\">\n",
       "  <thead>\n",
       "    <tr style=\"text-align: right;\">\n",
       "      <th></th>\n",
       "      <th>pid</th>\n",
       "      <th>startdate</th>\n",
       "      <th>deathdate</th>\n",
       "      <th>enddate</th>\n",
       "      <th>Dead</th>\n",
       "      <th>Survival_days</th>\n",
       "    </tr>\n",
       "  </thead>\n",
       "  <tbody>\n",
       "    <tr>\n",
       "      <th>1</th>\n",
       "      <td>3</td>\n",
       "      <td>2009-11-17</td>\n",
       "      <td>NaN</td>\n",
       "      <td>2009-11-17</td>\n",
       "      <td>0</td>\n",
       "      <td>0</td>\n",
       "    </tr>\n",
       "    <tr>\n",
       "      <th>2</th>\n",
       "      <td>4</td>\n",
       "      <td>2009-11-25</td>\n",
       "      <td>NaN</td>\n",
       "      <td>2009-11-25</td>\n",
       "      <td>0</td>\n",
       "      <td>0</td>\n",
       "    </tr>\n",
       "    <tr>\n",
       "      <th>315</th>\n",
       "      <td>755</td>\n",
       "      <td>2010-08-31</td>\n",
       "      <td>NaN</td>\n",
       "      <td>2010-08-31</td>\n",
       "      <td>0</td>\n",
       "      <td>0</td>\n",
       "    </tr>\n",
       "    <tr>\n",
       "      <th>163</th>\n",
       "      <td>385</td>\n",
       "      <td>2010-02-12</td>\n",
       "      <td>NaN</td>\n",
       "      <td>2010-02-12</td>\n",
       "      <td>0</td>\n",
       "      <td>0</td>\n",
       "    </tr>\n",
       "    <tr>\n",
       "      <th>394</th>\n",
       "      <td>924</td>\n",
       "      <td>2010-12-21</td>\n",
       "      <td>NaN</td>\n",
       "      <td>2010-12-30</td>\n",
       "      <td>0</td>\n",
       "      <td>9</td>\n",
       "    </tr>\n",
       "    <tr>\n",
       "      <th>72</th>\n",
       "      <td>166</td>\n",
       "      <td>2008-06-17</td>\n",
       "      <td>2008-07-01</td>\n",
       "      <td>2008-06-17</td>\n",
       "      <td>1</td>\n",
       "      <td>14</td>\n",
       "    </tr>\n",
       "    <tr>\n",
       "      <th>369</th>\n",
       "      <td>867</td>\n",
       "      <td>2010-04-26</td>\n",
       "      <td>NaN</td>\n",
       "      <td>2010-05-30</td>\n",
       "      <td>0</td>\n",
       "      <td>34</td>\n",
       "    </tr>\n",
       "    <tr>\n",
       "      <th>186</th>\n",
       "      <td>451</td>\n",
       "      <td>2010-01-16</td>\n",
       "      <td>NaN</td>\n",
       "      <td>2010-02-23</td>\n",
       "      <td>0</td>\n",
       "      <td>38</td>\n",
       "    </tr>\n",
       "    <tr>\n",
       "      <th>303</th>\n",
       "      <td>728</td>\n",
       "      <td>2010-06-30</td>\n",
       "      <td>NaN</td>\n",
       "      <td>2010-08-14</td>\n",
       "      <td>0</td>\n",
       "      <td>45</td>\n",
       "    </tr>\n",
       "    <tr>\n",
       "      <th>397</th>\n",
       "      <td>931</td>\n",
       "      <td>2010-10-15</td>\n",
       "      <td>NaN</td>\n",
       "      <td>2010-12-04</td>\n",
       "      <td>0</td>\n",
       "      <td>50</td>\n",
       "    </tr>\n",
       "  </tbody>\n",
       "</table>\n",
       "</div>"
      ],
      "text/plain": [
       "     pid   startdate   deathdate     enddate  Dead  Survival_days\n",
       "1      3  2009-11-17         NaN  2009-11-17     0              0\n",
       "2      4  2009-11-25         NaN  2009-11-25     0              0\n",
       "315  755  2010-08-31         NaN  2010-08-31     0              0\n",
       "163  385  2010-02-12         NaN  2010-02-12     0              0\n",
       "394  924  2010-12-21         NaN  2010-12-30     0              9\n",
       "72   166  2008-06-17  2008-07-01  2008-06-17     1             14\n",
       "369  867  2010-04-26         NaN  2010-05-30     0             34\n",
       "186  451  2010-01-16         NaN  2010-02-23     0             38\n",
       "303  728  2010-06-30         NaN  2010-08-14     0             45\n",
       "397  931  2010-10-15         NaN  2010-12-04     0             50"
      ]
     },
     "execution_count": 159,
     "metadata": {},
     "output_type": "execute_result"
    }
   ],
   "source": [
    "import pandas as pd\n",
    "death_df = specified_dfs['death']\n",
    "joined_death_condOcc_df = pd.merge(co_pid_groupby_start_date_min_df, death_df, on='pid', how='left')\n",
    "joined_death_start_end_df = pd.merge(joined_death_condOcc_df, concatenated_dfs_max_enddate, on='pid', how='inner')\n",
    "joined_death_start_end_df['Dead'] =  joined_death_start_end_df.apply(lambda row: 0 if pd.isnull(row['deathdate']) else 1, axis=1)\n",
    "joined_death_start_end_df['Survival_days'] = joined_death_start_end_df.apply(lambda row: (pd.to_datetime(row['enddate']) - pd.to_datetime(row['startdate'])).days if pd.isnull(row['deathdate']) else (pd.to_datetime(row['deathdate']) - pd.to_datetime(row['startdate'])).days, axis=1)\n",
    "\n",
    "joined_death_start_end_df = joined_death_start_end_df.sort_values(by=['Survival_days'], ascending=True)\n",
    "joined_death_start_end_df.head(10)"
   ]
  },
  {
   "cell_type": "markdown",
   "metadata": {},
   "source": [
    "### Kapalan Meier \n",
    "\n",
    "##### With the above dataframe and using the lifelines library, Kapalan Meier Survival curve is plotted along with censor ticks on display. \n",
    "##### With Date of diagnosis for Diabetes as start event and date of death as the end event.\n",
    "\n",
    "##### From the below curve, the survival looks quite good after diagnosis of Diabetes."
   ]
  },
  {
   "cell_type": "code",
   "execution_count": 160,
   "metadata": {},
   "outputs": [
    {
     "data": {
      "image/png": "[encoded data removed]",
      "text/plain": [
       "<Figure size 1944x576 with 1 Axes>"
      ]
     },
     "metadata": {
      "needs_background": "light"
     },
     "output_type": "display_data"
    }
   ],
   "source": [
    "from lifelines import KaplanMeierFitter\n",
    "import matplotlib.pyplot as plt\n",
    "\n",
    "kmf = KaplanMeierFitter()\n",
    "T = joined_death_start_end_df['Survival_days']\n",
    "E = joined_death_start_end_df['Dead']\n",
    "kmf.fit(T, event_observed=E)  # or, more succinctly, kmf.fit(T, E)\n",
    "plt.figure(figsize=(27,8))\n",
    "ax1 = plt.subplot(121)\n",
    "\n",
    "kmf.plot_survival_function(show_censors=True, ax=ax1, censor_styles={'ms': 1, 'marker': 's'})\n",
    "\n",
    "plt.title(\"Kaplan Meier estimates\", fontdict={'fontsize':20})\n",
    "plt.xlabel(\"Days after Type 1 / Type 2 Diabetes Diagnosis\")\n",
    "plt.ylabel(\"Survival\")\n",
    "plt.show()"
   ]
  },
  {
   "cell_type": "code",
   "execution_count": 161,
   "metadata": {},
   "outputs": [
    {
     "data": {
      "image/png": "[encoded data removed]",
      "text/plain": [
       "<Figure size 1800x1584 with 1 Axes>"
      ]
     },
     "metadata": {
      "needs_background": "light"
     },
     "output_type": "display_data"
    }
   ],
   "source": [
    "import pandas as pd\n",
    "\n",
    "barh_table = pd.crosstab(selective_patient_df.state, selective_patient_df.gender)\n",
    "ax = barh_table.plot.barh(figsize=(25,22), title='Group by Gender & State Categories')\n",
    "ax.yaxis.set_tick_params(labelsize='large')\n",
    "ax.title.set_size(25)"
   ]
  },
  {
   "cell_type": "code",
   "execution_count": 162,
   "metadata": {},
   "outputs": [
    {
     "data": {
      "image/png": "[encoded data removed]",
      "text/plain": [
       "<Figure size 1152x576 with 1 Axes>"
      ]
     },
     "metadata": {},
     "output_type": "display_data"
    }
   ],
   "source": [
    "import matplotlib.pyplot as plt\n",
    "\n",
    "# Group Data by Conditions\n",
    "co_mini_df = condOcc_df[['conditionname', 'pid']]\n",
    "co_group_df = co_mini_df.groupby(['conditionname']).count()\n",
    "co_group_df.rename(columns = {'pid':'count'}, inplace = True)\n",
    "\n",
    "# Sort & Pick the top 10 conditions\n",
    "co_group_df.sort_values(by=['count'], inplace=True, ascending=False)\n",
    "co_group_df_top10 = co_group_df.head(10)\n",
    "plt.figure(figsize=(16,8))\n",
    "\n",
    "# plot pie chart\n",
    "ax1 = plt.subplot(121)\n",
    "co_group_df_top10.plot(kind='pie', y = 'count', ax=ax1, autopct='%1.1f%%', \n",
    " startangle=90, shadow=False, legend = False, fontsize=14)\n",
    "\n",
    "plt.title('Diabetes & Other Comorbidities', fontdict={'fontsize':20})\n",
    "plt.axis('off')\n",
    "plt.show()"
   ]
  }
 ],
 "metadata": {
  "kernelspec": {
   "display_name": "Python 3 (ipykernel)",
   "language": "python",
   "name": "python3"
  },
  "language_info": {
   "codemirror_mode": {
    "name": "ipython",
    "version": 3
   },
   "file_extension": ".py",
   "mimetype": "text/x-python",
   "name": "python",
   "nbconvert_exporter": "python",
   "pygments_lexer": "ipython3",
   "version": "3.9.7"
  }
 },
 "nbformat": 4,
 "nbformat_minor": 4
}
