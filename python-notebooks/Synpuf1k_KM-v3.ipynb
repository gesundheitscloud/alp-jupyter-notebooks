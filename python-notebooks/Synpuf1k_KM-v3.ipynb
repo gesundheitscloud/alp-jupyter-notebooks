{
 "cells": [
  {
   "cell_type": "markdown",
   "metadata": {},
   "source": [
    "## Analyze Type 1 & Type 2 Diabetes Patients"
   ]
  },
  {
   "cell_type": "markdown",
   "metadata": {},
   "source": [
    "##### Setup the imports."
   ]
  },
  {
   "cell_type": "code",
   "execution_count": 80,
   "metadata": {},
   "outputs": [],
   "source": [
    "import site, sys\n",
    "sys.path.insert(0,site.USER_SITE)\n",
    "\n",
    "from pyqe import *"
   ]
  },
  {
   "cell_type": "markdown",
   "metadata": {},
   "source": [
    "##### Always start with creating a query object. \n",
    "\n",
    "Apart from creating Query object, it does the following that are required for setting up your profile:\n",
    "- Ask for username and password for login"
   ]
  },
  {
   "cell_type": "code",
   "execution_count": 81,
   "metadata": {},
   "outputs": [],
   "source": [
    "# Always begin your script by creating Query object\n",
    "total_patients_query = Query('Total_Participants')"
   ]
  },
  {
   "cell_type": "markdown",
   "metadata": {},
   "source": [
    "##### Configure by selecting Study and Study config.\n",
    "\n",
    "Use get_study_list() method to fetch all available studies that you have access to.\n",
    "\n",
    "Use set_study() method to select a study that you are interested in (by passing the study ID)."
   ]
  },
  {
   "cell_type": "code",
   "execution_count": 82,
   "metadata": {},
   "outputs": [
    {
     "name": "stdout",
     "output_type": "stream",
     "text": [
      "Study Name - Study Id\n",
      "(1) Accept - fb4269d3-f6ac-4f81-85da-b80ce277793e\n",
      "(2) Accept archive - ee451513-3daa-426a-9cfd-b5690a93a3ac\n",
      "(3) CRONOS by DGPM - 38ce29c0-eb76-45cc-ba4f-56395f8c49e0\n",
      "(4) DE-SynPUF 100 percent - eccf4aeb-2617-4708-a145-69e02b9a0279\n",
      "(5) DE-SynPUF 5 percent - 194c627c-5098-4e6d-b849-f0e83d905e1f\n",
      "(6) DE-SynPUF [Demo Dataset] - 0368b0c9-fe26-4a64-b6ba-5378914fe107\n",
      "(7) Demo Study: COVID-19 symptom study - 121ec9da-3706-4e20-885d-101a7e421ed2\n",
      "(8) ECOV - f875fdc4-c180-45f3-bdbb-a68fb1476338\n",
      "(9) FeMFit - 69990b1e-3b4c-4e7f-9d06-84cc2cdf88d0\n",
      "(10) Univie Demo-Study - 0b7e9885-ed8e-456f-89e1-0a1d3b0f615c\n"
     ]
    }
   ],
   "source": [
    "total_patients_query.get_study_list()\n",
    "\n",
    "# any STUDY_ID from above list\n",
    "total_patients_query.set_study('0368b0c9-fe26-4a64-b6ba-5378914fe107') "
   ]
  },
  {
   "cell_type": "markdown",
   "metadata": {},
   "source": [
    "Similar to above step, use get_config_list() method to fetch all available configurations corresponding to the study.\n",
    "\n",
    "Use set_study_config() method to select a config (by passing the config ID)."
   ]
  },
  {
   "cell_type": "code",
   "execution_count": 83,
   "metadata": {},
   "outputs": [
    {
     "name": "stdout",
     "output_type": "stream",
     "text": [
      "Assignment Name, Config Name - Config Id\n",
      "(1) DEFAULT-ASSIGNMENT, OMOP_GDM_PA_CONF_OLD - 92d7c6f8-3118-4256-ab22-f2f7fd19d4e7\n",
      "(2) Default_assignment_OMOP_GDM_PA_CONF, OMOP_GDM_PA_CONF - 522bcd53-1dde-456d-9cff-266b4280ad59\n",
      "(3) GDM-PA Default, DemoGDMPAConfig - daac6e40-9fdc-48f8-bd9b-181571102d91\n",
      "(4) PUBLIC-CHART_DEFAULT-ASSIGNMENT, OMOP_GDM_PA_CONF - 522bcd53-1dde-456d-9cff-266b4280ad59\n"
     ]
    }
   ],
   "source": [
    "total_patients_query.get_config_list()\n",
    "\n",
    "# any CONFIG_ID from above list\n",
    "total_patients_query.set_study_config('522bcd53-1dde-456d-9cff-266b4280ad59') "
   ]
  },
  {
   "cell_type": "markdown",
   "metadata": {},
   "source": [
    "##### Initialize Patient object and add filter criteria"
   ]
  },
  {
   "cell_type": "code",
   "execution_count": 84,
   "metadata": {},
   "outputs": [
    {
     "data": {
      "text/plain": [
       "<pyqe.ql.person.Patient at 0x7f48abf19cf0>"
      ]
     },
     "execution_count": 84,
     "metadata": {},
     "output_type": "execute_result"
    }
   ],
   "source": [
    "patients = Person.Patient()\n",
    "constraint_age_lesser_than_85_years = Constraint()\n",
    "constraint_age_lesser_than_85_years.add(Expression(ComparisonOperator.LESS_THAN_EQUAL, 85))\n",
    "\n",
    "patients.add_age([constraint_age_lesser_than_85_years])"
   ]
  },
  {
   "cell_type": "markdown",
   "metadata": {},
   "source": [
    "##### Define criteria for Type 2 Diabetes"
   ]
  },
  {
   "cell_type": "code",
   "execution_count": 85,
   "metadata": {},
   "outputs": [],
   "source": [
    "# Condition Concept IDs for Diabetes Mellitus 2\n",
    "\n",
    "diabetes2_conditionOcc = Interactions.ConditionOccurrence(\"Type 2 Diabetes condition\")\n",
    "# diabetes2_condition_concepts = ConceptSet(\n",
    "#                            'Conditions',\n",
    "#                             Domain.CONDITION, \n",
    "#                            ['44054006', '8801005', '190331003', '421326000', '443694000', '422014003', '421326000']) \n",
    "\n",
    "\n",
    "diabetes2_condition_concepts = ConceptSet(\n",
    "                           'Conditions',\n",
    "                            Domain.CONDITION, \n",
    "                           ['3329005', '195771', '201530', '376065', '40482801', '443732']) \n",
    "\n",
    "diabetes2_conditionOcc.add_concept_set(diabetes2_condition_concepts)"
   ]
  },
  {
   "cell_type": "markdown",
   "metadata": {},
   "source": [
    "##### Define criteria for Type 1 Diabetes"
   ]
  },
  {
   "cell_type": "code",
   "execution_count": 86,
   "metadata": {},
   "outputs": [],
   "source": [
    "# Diabetes type 1\n",
    "\n",
    "diabetes1_conditionOcc = Interactions.ConditionOccurrence(\"Type 1 Diabetes condition\")\n",
    "diabetes1_condition_concepts = ConceptSet(\n",
    "                           'Conditions',\n",
    "                            Domain.CONDITION, \n",
    "                           ['201254', '318712', '435216', '40484648', '200687', '377821']) \n",
    "diabetes1_conditionOcc.add_concept_set(diabetes1_condition_concepts)"
   ]
  },
  {
   "cell_type": "markdown",
   "metadata": {},
   "source": [
    "##### Combine Patient and Diabetes filter criteria"
   ]
  },
  {
   "cell_type": "code",
   "execution_count": 87,
   "metadata": {},
   "outputs": [],
   "source": [
    "# patient_criteriagroup = CriteriaGroup(MatchCriteria.ALL, [patients, exclude_Death])\n",
    "\n",
    "diabetes_criteriagroup = CriteriaGroup(\n",
    "                        MatchCriteria.ANY, [diabetes1_conditionOcc, diabetes2_conditionOcc])\n",
    "\n",
    "patient_criteriagroup = CriteriaGroup(MatchCriteria.ALL, [patients])\n",
    "\n",
    "patient_criteriagroup.add_exclusive_group(diabetes_criteriagroup)\n",
    "\n",
    "\n",
    "total_patients_query.add_criteria_group(patient_criteriagroup)"
   ]
  },
  {
   "cell_type": "markdown",
   "metadata": {},
   "source": [
    "##### Get Patient count for the defined cohort"
   ]
  },
  {
   "cell_type": "code",
   "execution_count": 88,
   "metadata": {},
   "outputs": [
    {
     "name": "stdout",
     "output_type": "stream",
     "text": [
      "Domain.CONDITION\n",
      "Domain.CONDITION\n",
      "\n",
      "Total participants: 228\n"
     ]
    }
   ],
   "source": [
    "# create Result object and fetch the patient count\n",
    "total_patients_req = total_patients_query.get_patient_count_filter()\n",
    "total_patients = Result().get_patient_count(total_patients_req)\n",
    "print(f'\\nTotal participants: {total_patients}')"
   ]
  },
  {
   "cell_type": "markdown",
   "metadata": {},
   "source": [
    "##### Get Dataframe for Patient entity alone"
   ]
  },
  {
   "cell_type": "code",
   "execution_count": 89,
   "metadata": {},
   "outputs": [
    {
     "name": "stdout",
     "output_type": "stream",
     "text": [
      "Domain.CONDITION\n",
      "Domain.CONDITION\n",
      "{'mriquery': b'eJzdl99P2zAQx/+VKs+kip2fnbaHQtnEC0wM8YL24NhOayl1MsdBVIj/feekBcbqxWUsm/aWxOfP+e6+Psf3Hq1WldILXggptKik925y71GiWNM/VVJzqeH55sWL3tQcnryPotRcncAM72jiCUmoFrdmpCBlw+GTJOvO8Jg0gk4WRBNjCKxCLD8TvTJjNdHCkDtCo4mk/Lxd51zBYPDs49nihTXRWom81XzPcncrnO9srH6nT5jpfMk9m8c9dsBrtCJCateEnd7VijeNyTXMr2quiK5MoN77D+bLLSlbY5jFD1/hdTftuKpKTuQJIMEbZKab3MV3vvAcTS8uvYdDqCbD7Nbk4UqseV9qGJRtWR7g8chWGWftXMGECZosBMk5JH8CNNbL1VpSqAhklhqjZvpoX1HaKsUhoL1aQ9bKD+Gm6A3lOOjsmQ4fh+GB8loLZpfvcBDD5LcU/A9693CAcBy5Snmrz9/0GaIsRXhcn1EYY5SM7DOIsiiJsnG94iBIsnTkiqZphtFBPsfvnSbK1zVB/OebIH59/8D/QxPEf7MJhiGeBUE87p5BszhND9szb9AbUBwGY/eGJEhGzq3pvDgLRs5uFIVpeNi59i//QR7msO8n3U1juznh9YwZkxjjnLI49BFj3I/ihPkzWhQ+TpI8gjIRFs+eWtI1V01/J/LmfSh3XVO7MetZttCyuaFq1Zo+XRVFw029gg5QtmvZPHYEp0tHBcCumOal4d8Ma6eFXwP4HeRVkrJvT3s4yI0DDVO3jYWB3RgnVSv1xsII3RhfYB22lERuiFO9koIK60pix8zuMNsDgFbMtrDEjViSRs9bDfduzhb2MFM32icu2XYT/MzI3BjLjjEc4OwVOLsiHaV9SahtPchR1XDc8+HokKO+n9HswTnqvLYTHGVeU7PdbBBHka+hma4uimOhwMSCclT3hhM1QHJUNoO9MUBy1HdPWnBiJ7lKW1VtDf+TlgbpKGlS2uuOUXfalWItzFnSXQIeutGSU83ZF92yzanU0JGud6d9ECZZHtCZX3Cc+BFJIj9PcuLHYZrNUFRwFMAt7DtK+26G', 'cohortId': None}\n"
     ]
    },
    {
     "data": {
      "text/html": [
       "<div>\n",
       "<style scoped>\n",
       "    .dataframe tbody tr th:only-of-type {\n",
       "        vertical-align: middle;\n",
       "    }\n",
       "\n",
       "    .dataframe tbody tr th {\n",
       "        vertical-align: top;\n",
       "    }\n",
       "\n",
       "    .dataframe thead th {\n",
       "        text-align: right;\n",
       "    }\n",
       "</style>\n",
       "<table border=\"1\" class=\"dataframe\">\n",
       "  <thead>\n",
       "    <tr style=\"text-align: right;\">\n",
       "      <th></th>\n",
       "      <th>pid</th>\n",
       "      <th>gender</th>\n",
       "      <th>dateofbirth</th>\n",
       "      <th>ethnicity</th>\n",
       "      <th>race</th>\n",
       "      <th>state</th>\n",
       "    </tr>\n",
       "  </thead>\n",
       "  <tbody>\n",
       "    <tr>\n",
       "      <th>0</th>\n",
       "      <td>2</td>\n",
       "      <td>MALE</td>\n",
       "      <td>1943-01-01</td>\n",
       "      <td>Not Hispanic or Latino</td>\n",
       "      <td>White</td>\n",
       "      <td>PA</td>\n",
       "    </tr>\n",
       "    <tr>\n",
       "      <th>1</th>\n",
       "      <td>4</td>\n",
       "      <td>MALE</td>\n",
       "      <td>1941-06-01</td>\n",
       "      <td>Hispanic or Latino</td>\n",
       "      <td>No matching concept</td>\n",
       "      <td>CO</td>\n",
       "    </tr>\n",
       "    <tr>\n",
       "      <th>2</th>\n",
       "      <td>6</td>\n",
       "      <td>MALE</td>\n",
       "      <td>1943-10-01</td>\n",
       "      <td>Not Hispanic or Latino</td>\n",
       "      <td>Black or African American</td>\n",
       "      <td>NY</td>\n",
       "    </tr>\n",
       "    <tr>\n",
       "      <th>3</th>\n",
       "      <td>19</td>\n",
       "      <td>FEMALE</td>\n",
       "      <td>1942-07-01</td>\n",
       "      <td>Not Hispanic or Latino</td>\n",
       "      <td>White</td>\n",
       "      <td>UT</td>\n",
       "    </tr>\n",
       "    <tr>\n",
       "      <th>4</th>\n",
       "      <td>25</td>\n",
       "      <td>MALE</td>\n",
       "      <td>1965-04-01</td>\n",
       "      <td>Not Hispanic or Latino</td>\n",
       "      <td>White</td>\n",
       "      <td>AZ</td>\n",
       "    </tr>\n",
       "    <tr>\n",
       "      <th>5</th>\n",
       "      <td>27</td>\n",
       "      <td>FEMALE</td>\n",
       "      <td>1940-04-01</td>\n",
       "      <td>Not Hispanic or Latino</td>\n",
       "      <td>White</td>\n",
       "      <td>OR</td>\n",
       "    </tr>\n",
       "    <tr>\n",
       "      <th>6</th>\n",
       "      <td>30</td>\n",
       "      <td>FEMALE</td>\n",
       "      <td>1959-11-01</td>\n",
       "      <td>Not Hispanic or Latino</td>\n",
       "      <td>White</td>\n",
       "      <td>CA</td>\n",
       "    </tr>\n",
       "    <tr>\n",
       "      <th>7</th>\n",
       "      <td>44</td>\n",
       "      <td>FEMALE</td>\n",
       "      <td>1957-11-01</td>\n",
       "      <td>Not Hispanic or Latino</td>\n",
       "      <td>White</td>\n",
       "      <td>VA</td>\n",
       "    </tr>\n",
       "    <tr>\n",
       "      <th>8</th>\n",
       "      <td>56</td>\n",
       "      <td>MALE</td>\n",
       "      <td>1943-10-01</td>\n",
       "      <td>Not Hispanic or Latino</td>\n",
       "      <td>White</td>\n",
       "      <td>PA</td>\n",
       "    </tr>\n",
       "    <tr>\n",
       "      <th>9</th>\n",
       "      <td>63</td>\n",
       "      <td>FEMALE</td>\n",
       "      <td>1964-05-01</td>\n",
       "      <td>Not Hispanic or Latino</td>\n",
       "      <td>White</td>\n",
       "      <td>CA</td>\n",
       "    </tr>\n",
       "  </tbody>\n",
       "</table>\n",
       "</div>"
      ],
      "text/plain": [
       "   pid  gender dateofbirth               ethnicity                       race  \\\n",
       "0    2    MALE  1943-01-01  Not Hispanic or Latino                      White   \n",
       "1    4    MALE  1941-06-01      Hispanic or Latino        No matching concept   \n",
       "2    6    MALE  1943-10-01  Not Hispanic or Latino  Black or African American   \n",
       "3   19  FEMALE  1942-07-01  Not Hispanic or Latino                      White   \n",
       "4   25    MALE  1965-04-01  Not Hispanic or Latino                      White   \n",
       "5   27  FEMALE  1940-04-01  Not Hispanic or Latino                      White   \n",
       "6   30  FEMALE  1959-11-01  Not Hispanic or Latino                      White   \n",
       "7   44  FEMALE  1957-11-01  Not Hispanic or Latino                      White   \n",
       "8   56    MALE  1943-10-01  Not Hispanic or Latino                      White   \n",
       "9   63  FEMALE  1964-05-01  Not Hispanic or Latino                      White   \n",
       "\n",
       "  state  \n",
       "0    PA  \n",
       "1    CO  \n",
       "2    NY  \n",
       "3    UT  \n",
       "4    AZ  \n",
       "5    OR  \n",
       "6    CA  \n",
       "7    VA  \n",
       "8    PA  \n",
       "9    CA  "
      ]
     },
     "execution_count": 89,
     "metadata": {},
     "output_type": "execute_result"
    }
   ],
   "source": [
    "# Generate Request for Dataframe cohort\n",
    "request_df = total_patients_query.get_dataframe_cohort([],'Patient')\n",
    "\n",
    "# Get Patient Dataframe. Select (1) Patient\n",
    "patient_df = Result().download_dataframe(request_df)\n",
    "\n",
    "# Peek Into the Patient Demographics Data\n",
    "selective_patient_df = patient_df[['pid', 'gender', 'dateofbirth', 'ethnicity', 'race', 'state']]\n",
    "\n",
    "selective_patient_df.head(10)"
   ]
  },
  {
   "cell_type": "markdown",
   "metadata": {},
   "source": [
    "##### Define the Necessary columns required for our analysis and get their data. Patient ID, Interactions End date, Date of death are some of the below ones."
   ]
  },
  {
   "cell_type": "code",
   "execution_count": 90,
   "metadata": {},
   "outputs": [
    {
     "name": "stdout",
     "output_type": "stream",
     "text": [
      "Domain.CONDITION\n",
      "Domain.CONDITION\n",
      "Domain.CONDITION\n",
      "Domain.CONDITION\n",
      "Domain.CONDITION\n",
      "Domain.CONDITION\n",
      "Domain.CONDITION\n",
      "Domain.CONDITION\n",
      "Domain.CONDITION\n",
      "Domain.CONDITION\n",
      "Domain.CONDITION\n",
      "Domain.CONDITION\n",
      "Domain.CONDITION\n",
      "Domain.CONDITION\n",
      "Domain.CONDITION\n",
      "Domain.CONDITION\n",
      "Domain.CONDITION\n",
      "Domain.CONDITION\n",
      "{'mriquery': b'eJzdV99P2zAQ/leqPJPKdn522h6AsokXmDbEC9qDY1/AUup0zgWBEP/7zkkLjLW0ZSyb9mb7zt/57j5/ie8CVV/VDqdQGmvQ1DZ4N7oLlHS66Ue1RbBI44tnE7ydA42Cj6ZCcIe0I9gbBcZKhebaW0pZNUBLVs46xwPZGDWaSpTekbBKc/lZ4pW3zSUaj9whNCitgpN2VoAjI3uyeDx95i0RnSlahBXHXZ5wf+mzNu74EWa8fwnBuogr/AivQSeNxW0LdnQzd9A0vta0v56Dk1j7RIP3H/zKtaxa75gn999outx2UNcVSHtIkBSNKtNt7vI7mQZbup5+Ce53QfUV1te+DmdmBn2ryWjbqtoh4t66zmzNnTPaMOKjqZEFUPFHhKZ7uq5tKXWEKqu8UzN+8K+Vap0DSmgl1/jazm+CG/M3pOPGYE94+GCmgYI5Gr2evpuT2Iz8loT/ie+BYFwk8bZUXvDzN2NGPM+4GDZmHCWCpwPHZHEep3E+bFTBWJpnA3c0y3LBd4o5vHb6LF8nguLPi6B4vX6I/0EExd8UwSgSE8aSYe8MnyRZttudeQNt4EnEhtaGlKUD19Yrr8jZwNWN4yiLdvuu/ct/kLsF7PWke2ksLidNj7V3SYQolE6ikGsNYZykOpyosgxFmhYxtUnqZPIoSefgmv5NFOz3qdx0onbhz3PZkmSDR0XXep2uy7IB3y/WAVTtzDYPivDyo2Pey0pNgF0z/aSB7x5ryYWXAT6B1YtS/IrBt8PQEuG0PDCOPFYDia4RlZkZXH6f7jtjBQpBf8VW3x5ZNHh7viQii9K8YGoSliDSMJZpHBZpIcMkyvIJj0vgjH4QfgD0A6zZ', 'cohortId': None}\n",
      "{'mriquery': b'eJzdV99P2zAQ/leqPJPKdn4WbQ+FMokXNm2IF7QHx74US6nTORcEQvzvO6cUGCJrC1027c32ne/z3X3+nNwFqr6qHc6gNNagqW1wOLoLlHS6WY1qi2CRxpcvJni7BBoFn0yF4I5pR3AwCoyVCs21t5SyaoCWrFx0jkeyMWo0kyi9I8UqzfyLxCtvW0o0PnIXoUFpFZy1iwIcGdmzxdPZC2+J6EzRIrxy3PUJp2ufXtzxU5jxdA5BH+IrfhSvQSeNxW0LdnKzdNA0vta0v16Ck1j7RIMPH/3Ktaxa75gn999put52VNcVSHtMIQmNKtNt7vI7mwVbun7+GtzvEtVXWF/7OpybBaxaTUbbVtUOiAd9ndmaO+e0YcRHMyMLoOKPKJpe0bW3pdQRqqzyTs340b9WqnUOKKFXucZ7O78p3JjvkY4bwZ7x8NFMAwVLNLqfvpuT2Bx5n4T/he+BYFwk8bZUfuDnOzEjnmdcDIsZR4ng6cCYLM7jNM6HRRWMpXk2cEezLBd8J8zhtdNn+TYRFH9eBMXb9UP8DyIo/qYIRpGYMJYMe2f4JMmy3e7MHrSBJxEbWhtSlg5cW6+8ImcDVzeOoyza7V37l78gdwNc6Un3p/FwOWl6qr1LIkShdBKFXGsI4yTV4USVZSjStIipTVInkydJugDXrP6JgukqlZtO1C79eeYtSTb4qOhar9N1WTbg+8W6AFW7sM2jIuxL4LrHwIMRdtd3P2ngh4dd0+adWCSaDrXEPhy+Jxyw+jcoomt6ZRYG12/hfWesQCHob9jq2xOLBm8v1qRnUZoXTE3CEkQaxjKNwyItZJhEWT7hcQmc0cfIT8a92SE=', 'cohortId': None}\n",
      "{'mriquery': b'eJzdV8lu2zAQ/RVB58ggqb1oD06cArmkRRvkEvRAkSOHgEy5ImXECPzvHUqxs8CG7dRVi95IzfA9zsJH8dEX9X3d2AmUSiurau1/8B59wRtp+lGtLWiL47s3E7ucA478z6qy0FzgCv/M85XmwqqFs5S8MoCfNJ91jufcKOFNuOXOEbFKNf3K7b2zzblVDrlDMJZrAdftrIAGjeTFx6vJG29ubaOK1sKW7a53OF777OQdPcOMxlPwdzFu8UM8YxuutD00YZcP8waMcbnG9fUcGm5rF6j/8ZP7suBV6xyzePUDp+tl53VdAdcXCIlsmJlucRff9cQ/0PXLN391DKrLsFy4PNyoGfSlRqNuq+oIxrNdlTm4d25wgUe9ieIFYPI9RJN9u+4sKVYEMyuckxlt/Gsh2qYBDGhrr9Gdld8HN6InbMe9ZC/6cGPGgYC5VXJ3++4PYj/yKRv+Vb/7jFAWR4e28lN//iZnSLOUsmE5ozBmNBmYk0RZlETZsKyMkCRLB65ommaMHsU5vHa6KN8nguzPiyB7v36w/0EE2d8UwTBkOSHxsGeG5nGaHndmTqANNA7J0NqQkGTg3DrlZRkZOLtRFKbhcffav/wHeRxhryfdS+PpcOL0SjqXmLFCyDgMqJQQRHEig1yUZcCSpIiwTFzG+bMk3UJj+jeRP+5DeehE7c7tZ9qiZINDtU3rdLouSwOuXqQDqNqZNhtF2CdwC2XUq/cFaCl5r4818nQ1dhMDPx1Fl5JKzZRd3xSrzliBsCC/21YuL7VVdnm7bgkSJllBRB6UwJIg4kkUFEnBgzhMs5xGJVCCV/UvAxCIjw==', 'cohortId': None}\n",
      "{'mriquery': b'eJzdV11vmzAU/SuI5xLZ5jPV9pA2ndSXbtqqvlR7MPYltUSAGRM1qvrfdw1NmlVBCV3Gpr3Zvtfn+H74GJ5cUT6U2swhU4Uyqizcc+fJFVzLuhuVhYHC4Pj+zcSsK8CR+0nlBvQl7nDPHFcVXBi1spaM5zXgUsGXreMFr5Vw5txw64hYmVp84ebB2ipulEVuEWrDCwE3zTIFjUays3g9f+PNjdEqbQzsOe7mhLONTy/v5BVmMluA28e4xw/xaqO5KsyxCbt6rDTUtc017i8r0NyUNlD3w0e7suJ5Yx2T8Pk7TjfbLsoyB15cIiSyYWbazW18N3P3SNfPX93nIag2w3Jl83CrltCVGo1Fk+cDGM/6KnN079ziBoc6c8VTwOQ7iCa7du0tKVYEMyusUz3Z+pdCNFoDBrS312hv5Q/BTegJ2/Eg2U4fbs04EFAZJfvb93AQh5FP2fC/9LvLCGVhcGwrv/Tnb3L6NIkpG5cz8ENGo5E5SZAEUZCMy8oIiZJ45IrGccLoIM7xtdNG+T4RZH9eBNn79YP9DyLI/qYI+j6bEhKOe2foNIzjYXfmBNpAQ5+MrQ0RiUbOrVVelpCRsxsEfuwPe9f+5S/IYYSdnrR/Gi+XE6fX0rqEjKVChr5HpQQvCCPpTUWWeSyK0gDLxGU4fZWkO9B190/kzrpQHltRu7fnWTQo2WBRjW6sTpdZVoOtF2kB8mZZ1FtFOCRwlS7Fru7YueSdPpbI09bYTmr4YSnalORqqczmpXhujTkIA/KbaeT6qjDKrO82LUH8KEmJmHoZsMgLeBR4aZRyL/TjZEqDDCjBp/onAsiIkQ==', 'cohortId': None}\n",
      "{'mriquery': b'eJzdV8tu2zAQ/BVD58ggqaeD9uDEKZBLWrRBLkEPFLlyCMiSS1JGjCD/3qUUO25gwVbqqkVvJHc5w31wKD15onqotJ1BrkplVVV656MnT3AtTTuqSgulxfH9m4ldLwFH3idVWNCXuMM7G3mq5MKqlbPkvDCASyVfNI4X3CgxmnHLnSNi5Wr+hdsHZ1tyqxxyg2AsLwXc1IsMNBrJzuL17I03t1arrLaw57ibE043Pp2841eY8XQOXhfjHj/EM1ZzVdpjE3b1uNRgjMs17q+WoLmtXKDeh49uZcWL2jmm0fN3nG62XVRVAby8REhkw8w0m5v4bmbeka6fv3rPfVBdhuXK5eFWLaAtNRrLuih6MJ51Vebo3rnFDSM6mimeASZ/hGiybdfOkmJFMLPCOZnx1r8SotYaMKC9vUY7K38IbkxP2I4HyXb6cGvGgYClVbK7fQ8HcRj5lA3/S797jFAWhce28kt//iZnQNOEsmE5wyBiNB6Yk4RpGIfpsKyMkDhNBq5okqSM9uIcXjtdlO8TQfbnRZC9Xz/Y/yCC7G+KYBCwCSHRsHeGTqIk6XdnTqANNArI0NoQk3jg3DrlZSkZOLthGCRBv3ftX/6C7EfY6knzp/FyOXF6LZ1LxFgmZBT4VErwwyiW/kTkuc/iOAuxTFxGk1dJugNt2n8ib9qG8tiI2r07z7xGyQaHanXtdLrKcwOuXqQBKOpFabaKcEjgqsyAXnE32ZUfXJa8VckK2ZpKu4mBH46oSUyhFspu3ovnxliAsCC/2Vqur0qr7Ppu0xgkiNOMiImfA4v9kMehn8UZ96MgSSc0zIESfLB/Apjgixk=', 'cohortId': None}\n",
      "{'mriquery': b'eJzdV1tv2jAU/isozw2ynSvV9kBLJ/Wlm7aqL9UeHPuEWsqF2Q4qqvjvO04KZQgEdCyb9mb7HH+fzyWf4xdP1E+1thPIVaWsqivvcvDiCa6l6UZ1ZaGyOH7cmtjFDHDkfVKFBX2NO7yLgacqLqyaO0vOCwO4VPGydbziRonBhFvuHBErV9Mv3D4524xb5ZBbBGN5JeCuKTPQaCQbi7eTLW9urVZZY2HHcVcnHK989vIO32CG4yl4+xh3+CGesZqryh6bsJvnmQZjXK5xfz0DzW3tAvU+fHQrc140zjGNlt9xutp2VdcF8OoaIZENM9NubuO7m3hHun7+6i1PQXUZlnOXh3tVQldqNFZNUZzAeLGvMkf3zj1uGNDBRPEMMPkDRJNdu+4tKVYEMyuckxmu/WshGq0BA9rZa3Rv5Q/BDekZ2/Eg2UYfrs04EDCzSu5v38NBHEY+Z8P/0u8eI5RF4bGt/Nqfv8kZ0DShrF/OMIgYjXvmJGEaxmHaLysjJE6TniuaJCmjJ3H2r50uyveJIPvzIsjerx/sfxBB9jdFMAjYiJCo32+GjqIkOe2bOYM20CggfWtDTOKec+uUl6Wk5+yGYZAEp91r//If5GmEnZ60L43XjxOnt9K5RIxlQkaBT6UEP4xi6Y9EnvssjrMQy8RlNHqTpAfQpnsTeeMulOdW1B7deaYNSjY4VKsbp9N1nhtw9SItQNGUlVkrwiGBK4GbRkO59crYWJa8U8saWduKu4mBH46wTVChSmVX98ayNRYgLMhvtpGLm8oqu3hYNQgJ4jQjYuTnwGI/5HHoZ3HG/ShI0hENc6AEL+6fci2OdQ==', 'cohortId': None}\n",
      "{'mriquery': b'eJzdV8lu2zAQ/RVD58ggqdVFe3DiFMglLdogl6AHihw5BGTKJSnDRpB/71CKnQU2bKeuWvRGcobvcRY+Sg+BqO9r4yZQKq2cqnXwYfAQCG6k7Ua1dqAdju/eTNxqDjgKPqvKgbnAHcHZIFCaC6cW3lLyygIuaT5rHc+5VWIw4Y57R8Qq1fQrd/feNudOeeQWwTquBVw3swIMGsmLxavJG2/unFFF42DLcdcnHK99dvIOn2GG4ykEuxi3+CGedYYr7Q5N2OVybsBan2vcX8/BcFf7QIOPn/zKgleNd8yTxx84XW87r+sKuL5ASGTDzLSb2/iuJ8GBrl++BY/HoPoMy4XPw42aQVdqNOqmqo5gPNtVmYN75wY3DOhgongBmPwBosmuXXeWFCuCmRXeyQ43/rUQjTGAAW3tNbqz8vvghvSE7biX7EUfbsw4EDB3Su5u3/1B7Ec+ZcO/6veAEcqS+NBWfurP3+SMaJ5R1i9nHCWMpj1zkjiP0zjvl5URkuZZzxXNspzRozj7104f5ftEkP15EWTv1w/2P4gg+5siGEVsREjS752hoyTLjrszJ9AGmkSkb21ISdpzbr3yspz0nN04jrLouHftX/6CPI6w05P2T+PpcuL0SnqXhLFCyCQKqZQQxkkqw5Eoy5ClaRFjmbhMRs+SdAvGdv9EwbgLZdmK2p0/z7RByQaP6kzjdbouSwu+XqQFqJqZthtF2Cdw0jRTWM5r25hXygZaSt7JZI10ban9xMJPz9RmplIz5dYPxmNrrEA4kN9dI1eX2im3ul13BonSvCBiFJbA0jDmaRwWacHDJMryEY1LoARf7F84lIuN', 'cohortId': None}\n",
      "{'mriquery': b'eJzdV8lu2zAQ/RVD58ggqdVFe3DiFMglLdogl6AHihw5BGTKJSnDRpB/71CKnQU2bKeuWvRGcobvcRY+Sg+BqO9r4yZQKq2cqnXwYfAQCG6k7Ua1dqAdju/eTNxqDjgKPqvKgbnAHcHZIFCaC6cW3lLyygIuaT5rHc+5VWIw4Y57R8Qq1fQrd/feNudOeeQWwTquBVw3swIMGsmLxavJG2/unFFF42DLcdcnHK99dvIOn2GG4ykEuxi3+CGedYYr7Q5N2OVybsBan2vcX8/BcFf7QIOPn/zKgleNd8yTxx84XW87r+sKuL5ASGTDzLSb2/iuJ8GBrl++BY/HoPoMy4XPw42aQVdqNOqmqo5gPNtVmYN75wY3DOhgongBmPwBosmuXXeWFCuCmRXeyQ43/rUQjTGAAW3tNbqz8vvghvSE7biX7EUfbsw4EDB3Su5u3/1B7Ec+ZcO/6veAEcqS+NBWfurP3+SMaJ5R1i9nHCWMpj1zkjiP0zjvl5URkuZZzxXNspzRozj7104f5ftEkP15EWTv1w/2P4gg+5siGEVsREjS752hoyTLjrszJ9AGmkSkb21ISdpzbr3yspz0nN04jrLouHftX/6CPI6w05P2T+PpcuL0SnqXhLFCyCQKqZQQxkkqw5Eoy5ClaRFjmbhMRs+SdAvGdv9EwbgLZdmK2p0/z7RByQaP6kzjdbouSwu+XqQFqJqZthtF2CdwEhZKACzntW3MK20DLSXvhLJGwrbYfmLhp+dqc1OpmXLrJ+OxNVYgHMjvrpGrS+2UW92ue4NEaV4QMQpLYGkY8zQOi7TgYRJl+YjGJVCCb/YvYEOMSw==', 'cohortId': None}\n",
      "{'mriquery': b'eJzdV8tu2zAQ/BWB58ggqXfQHpw4BXJJizbIJeiBIlcOAVlyJcqIEeTfu5Rixw0s2EpdteiN5C5nuA8OpSciy4eyMjPIdKGNLgty7jwRKSpVd6OyMFAYHN+/mZj1EnBEPuncQHWJO8iZQ3QhpNEra8lEXgMuFWLROl6IWktnJoywjoiV6fkXYR6sbSmMtsgtQm1EIeGmWaRQoZHuLF7P3ngLYyqdNgb2HHdzwunGp5d38gozmc6B9DHu8UO82lRCF+bYhF09Liuoa5tr3F8uoRKmtIGSDx/tykrkjXWMg+fvON1suyjLHERxiZDIhplpN7fx3czIka6fv5LnIag2w2pl83CrF9CVGo1Fk+cDGM/6KnN079ziBoc5My1SwOQ7iKa6du0tKVYEMyutUz3Z+pdSNlUFGNDeXmO9lT8EN2EnbMeDZDt9uDXjQMLSaNXfvoeDOIx8yob/pd8Jp4wH/rGt/NKfv8npsThifFxO3ws4C0fmpH7sh348LiunNIyjkSsaRTFngzjH104b5ftEkP95EeTv1w/+P4gg/5si6Hk8oTQY986wJIiiYXfmBNrAAo+OrQ0hDUfOrVVeHtORs+v7XuQNe9f+5S/IYYSdnrR/Gi+XE6fXyroEnKdSBZ7LlALXD0LlJjLLXB6GqY9lEipIXiXpDqq6+yci0y6Ux1bU7u155g1KNlhUUzVWp8ssq8HWi7YAebMo6q0iHBI4BWjdFZ52QYlOIUtkaqtsJzX8sCRtUnK90GbzVjy3xhykAfXNNGp9VRht1nebpqBeGKdUJm4GPHR9EfpuGqbCDbwoTpifAaP4WP8EGFaJNQ==', 'cohortId': None}\n"
     ]
    }
   ],
   "source": [
    "specific_columns = total_patients_query.get_entities_dataframe_cohort(['patient.attributes.pid','patient.attributes.Gender', \n",
    "                                                                       'patient.attributes.dateOfBirth',\n",
    "                                                                       'patient.interactions.conditionoccurrence.attributes.conditionname', \n",
    "                                                                       'patient.interactions.conditionoccurrence.attributes.startdate',\n",
    "                                                                       'patient.interactions.conditionoccurrence.attributes.enddate',\n",
    "                                                                       'patient.interactions.visit.attributes.enddate',\n",
    "                                                                       'patient.interactions.proc.attributes.procdate',\n",
    "                                                                       'patient.interactions.observation.attributes.obsdate',\n",
    "                                                                       'patient.interactions.measurement.attributes.measurementdate',\n",
    "                                                                       'patient.interactions.drugexposure.attributes.enddate',\n",
    "                                                                       'patient.interactions.deviceexposure.attributes.enddate',\n",
    "                                                                       'patient.interactions.death.attributes.deathdate'])\n",
    "\n",
    "specified_dfs = Result().download_all_entities_dataframe(specific_columns)"
   ]
  },
  {
   "cell_type": "markdown",
   "metadata": {},
   "source": [
    "##### Combine data from different Interaction entities for end date and choose patient's last interaction end date / Max End Date."
   ]
  },
  {
   "cell_type": "code",
   "execution_count": 91,
   "metadata": {},
   "outputs": [
    {
     "data": {
      "text/html": [
       "<div>\n",
       "<style scoped>\n",
       "    .dataframe tbody tr th:only-of-type {\n",
       "        vertical-align: middle;\n",
       "    }\n",
       "\n",
       "    .dataframe tbody tr th {\n",
       "        vertical-align: top;\n",
       "    }\n",
       "\n",
       "    .dataframe thead th {\n",
       "        text-align: right;\n",
       "    }\n",
       "</style>\n",
       "<table border=\"1\" class=\"dataframe\">\n",
       "  <thead>\n",
       "    <tr style=\"text-align: right;\">\n",
       "      <th></th>\n",
       "      <th>pid</th>\n",
       "      <th>enddate</th>\n",
       "    </tr>\n",
       "  </thead>\n",
       "  <tbody>\n",
       "    <tr>\n",
       "      <th>0</th>\n",
       "      <td>2</td>\n",
       "      <td>2011-01-30</td>\n",
       "    </tr>\n",
       "    <tr>\n",
       "      <th>1</th>\n",
       "      <td>4</td>\n",
       "      <td>2010-09-23</td>\n",
       "    </tr>\n",
       "    <tr>\n",
       "      <th>2</th>\n",
       "      <td>6</td>\n",
       "      <td>2010-09-26</td>\n",
       "    </tr>\n",
       "    <tr>\n",
       "      <th>3</th>\n",
       "      <td>19</td>\n",
       "      <td>2010-05-06</td>\n",
       "    </tr>\n",
       "    <tr>\n",
       "      <th>4</th>\n",
       "      <td>25</td>\n",
       "      <td>2010-12-01</td>\n",
       "    </tr>\n",
       "    <tr>\n",
       "      <th>5</th>\n",
       "      <td>27</td>\n",
       "      <td>2010-11-18</td>\n",
       "    </tr>\n",
       "    <tr>\n",
       "      <th>6</th>\n",
       "      <td>30</td>\n",
       "      <td>2010-12-29</td>\n",
       "    </tr>\n",
       "    <tr>\n",
       "      <th>7</th>\n",
       "      <td>44</td>\n",
       "      <td>2010-11-25</td>\n",
       "    </tr>\n",
       "    <tr>\n",
       "      <th>8</th>\n",
       "      <td>56</td>\n",
       "      <td>2010-10-18</td>\n",
       "    </tr>\n",
       "    <tr>\n",
       "      <th>9</th>\n",
       "      <td>63</td>\n",
       "      <td>2010-10-17</td>\n",
       "    </tr>\n",
       "  </tbody>\n",
       "</table>\n",
       "</div>"
      ],
      "text/plain": [
       "   pid     enddate\n",
       "0    2  2011-01-30\n",
       "1    4  2010-09-23\n",
       "2    6  2010-09-26\n",
       "3   19  2010-05-06\n",
       "4   25  2010-12-01\n",
       "5   27  2010-11-18\n",
       "6   30  2010-12-29\n",
       "7   44  2010-11-25\n",
       "8   56  2010-10-18\n",
       "9   63  2010-10-17"
      ]
     },
     "execution_count": 91,
     "metadata": {},
     "output_type": "execute_result"
    }
   ],
   "source": [
    "import pandas as pd\n",
    "\n",
    "concatenated_dfs = pd.concat([\n",
    "                                specified_dfs['measurement'].rename(columns={'measurementdate': 'enddate'}), \n",
    "                                specified_dfs['deviceexposure'],\n",
    "                                specified_dfs['visit'],\n",
    "                                specified_dfs['proc'].rename(columns={'procdate': 'enddate'}),\n",
    "                                specified_dfs['observation'].rename(columns={'obsdate': 'enddate'}),\n",
    "                                specified_dfs['ConditionOccurrence'],\n",
    "                                specified_dfs['drugexposure']\n",
    "\n",
    "])\n",
    "concatenated_dfs_max_enddate = concatenated_dfs.groupby(['pid'],as_index=False)['enddate'].max().reindex(columns=['pid', 'enddate'])\n",
    "concatenated_dfs_max_enddate.head(10)"
   ]
  },
  {
   "cell_type": "markdown",
   "metadata": {},
   "source": [
    "##### Filter the Diabetes condition and choose the patients earliest date of diagnosis / Minimum start date"
   ]
  },
  {
   "cell_type": "code",
   "execution_count": 92,
   "metadata": {},
   "outputs": [
    {
     "data": {
      "text/html": [
       "<div>\n",
       "<style scoped>\n",
       "    .dataframe tbody tr th:only-of-type {\n",
       "        vertical-align: middle;\n",
       "    }\n",
       "\n",
       "    .dataframe tbody tr th {\n",
       "        vertical-align: top;\n",
       "    }\n",
       "\n",
       "    .dataframe thead th {\n",
       "        text-align: right;\n",
       "    }\n",
       "</style>\n",
       "<table border=\"1\" class=\"dataframe\">\n",
       "  <thead>\n",
       "    <tr style=\"text-align: right;\">\n",
       "      <th></th>\n",
       "      <th>pid</th>\n",
       "      <th>startdate</th>\n",
       "    </tr>\n",
       "  </thead>\n",
       "  <tbody>\n",
       "    <tr>\n",
       "      <th>0</th>\n",
       "      <td>2</td>\n",
       "      <td>2009-05-11</td>\n",
       "    </tr>\n",
       "    <tr>\n",
       "      <th>1</th>\n",
       "      <td>4</td>\n",
       "      <td>2009-11-25</td>\n",
       "    </tr>\n",
       "    <tr>\n",
       "      <th>2</th>\n",
       "      <td>6</td>\n",
       "      <td>2009-12-21</td>\n",
       "    </tr>\n",
       "    <tr>\n",
       "      <th>3</th>\n",
       "      <td>19</td>\n",
       "      <td>2008-01-03</td>\n",
       "    </tr>\n",
       "    <tr>\n",
       "      <th>4</th>\n",
       "      <td>25</td>\n",
       "      <td>2008-03-22</td>\n",
       "    </tr>\n",
       "    <tr>\n",
       "      <th>5</th>\n",
       "      <td>27</td>\n",
       "      <td>2009-05-04</td>\n",
       "    </tr>\n",
       "    <tr>\n",
       "      <th>6</th>\n",
       "      <td>30</td>\n",
       "      <td>2008-07-13</td>\n",
       "    </tr>\n",
       "    <tr>\n",
       "      <th>7</th>\n",
       "      <td>44</td>\n",
       "      <td>2008-01-10</td>\n",
       "    </tr>\n",
       "    <tr>\n",
       "      <th>8</th>\n",
       "      <td>56</td>\n",
       "      <td>2008-04-17</td>\n",
       "    </tr>\n",
       "    <tr>\n",
       "      <th>9</th>\n",
       "      <td>63</td>\n",
       "      <td>2008-03-04</td>\n",
       "    </tr>\n",
       "  </tbody>\n",
       "</table>\n",
       "</div>"
      ],
      "text/plain": [
       "   pid   startdate\n",
       "0    2  2009-05-11\n",
       "1    4  2009-11-25\n",
       "2    6  2009-12-21\n",
       "3   19  2008-01-03\n",
       "4   25  2008-03-22\n",
       "5   27  2009-05-04\n",
       "6   30  2008-07-13\n",
       "7   44  2008-01-10\n",
       "8   56  2008-04-17\n",
       "9   63  2008-03-04"
      ]
     },
     "execution_count": 92,
     "metadata": {},
     "output_type": "execute_result"
    }
   ],
   "source": [
    "condOcc_df = specified_dfs['ConditionOccurrence']\n",
    "condOcc_diabetes_df = condOcc_df[condOcc_df['conditionname'].str.contains(\"diabetes\")]\n",
    "co_pid_start_date_df = condOcc_diabetes_df[['pid', 'startdate']]\n",
    "co_pid_groupby_start_date_min_df = co_pid_start_date_df.groupby(['pid'],as_index=False)['startdate'].min().reindex(columns=['pid', 'startdate'])\n",
    "co_pid_groupby_start_date_min_df.head(10)"
   ]
  },
  {
   "cell_type": "markdown",
   "metadata": {},
   "source": [
    "##### Form the table with surival period and binary values for dead or alive for the cohort for Kaplan Meier Analysis"
   ]
  },
  {
   "cell_type": "code",
   "execution_count": 93,
   "metadata": {},
   "outputs": [
    {
     "data": {
      "text/html": [
       "<div>\n",
       "<style scoped>\n",
       "    .dataframe tbody tr th:only-of-type {\n",
       "        vertical-align: middle;\n",
       "    }\n",
       "\n",
       "    .dataframe tbody tr th {\n",
       "        vertical-align: top;\n",
       "    }\n",
       "\n",
       "    .dataframe thead th {\n",
       "        text-align: right;\n",
       "    }\n",
       "</style>\n",
       "<table border=\"1\" class=\"dataframe\">\n",
       "  <thead>\n",
       "    <tr style=\"text-align: right;\">\n",
       "      <th></th>\n",
       "      <th>pid</th>\n",
       "      <th>startdate</th>\n",
       "      <th>deathdate</th>\n",
       "      <th>enddate</th>\n",
       "      <th>Dead</th>\n",
       "      <th>Survival_days</th>\n",
       "    </tr>\n",
       "  </thead>\n",
       "  <tbody>\n",
       "    <tr>\n",
       "      <th>156</th>\n",
       "      <td>755</td>\n",
       "      <td>2010-08-31</td>\n",
       "      <td>NaN</td>\n",
       "      <td>2011-01-08</td>\n",
       "      <td>0</td>\n",
       "      <td>130</td>\n",
       "    </tr>\n",
       "    <tr>\n",
       "      <th>61</th>\n",
       "      <td>330</td>\n",
       "      <td>2010-06-24</td>\n",
       "      <td>NaN</td>\n",
       "      <td>2010-11-08</td>\n",
       "      <td>0</td>\n",
       "      <td>137</td>\n",
       "    </tr>\n",
       "    <tr>\n",
       "      <th>49</th>\n",
       "      <td>282</td>\n",
       "      <td>2010-04-04</td>\n",
       "      <td>NaN</td>\n",
       "      <td>2010-11-04</td>\n",
       "      <td>0</td>\n",
       "      <td>214</td>\n",
       "    </tr>\n",
       "    <tr>\n",
       "      <th>67</th>\n",
       "      <td>343</td>\n",
       "      <td>2010-03-01</td>\n",
       "      <td>NaN</td>\n",
       "      <td>2010-10-27</td>\n",
       "      <td>0</td>\n",
       "      <td>240</td>\n",
       "    </tr>\n",
       "    <tr>\n",
       "      <th>184</th>\n",
       "      <td>888</td>\n",
       "      <td>2010-03-07</td>\n",
       "      <td>NaN</td>\n",
       "      <td>2010-11-20</td>\n",
       "      <td>0</td>\n",
       "      <td>258</td>\n",
       "    </tr>\n",
       "    <tr>\n",
       "      <th>222</th>\n",
       "      <td>1069</td>\n",
       "      <td>2009-08-09</td>\n",
       "      <td>NaN</td>\n",
       "      <td>2010-05-06</td>\n",
       "      <td>0</td>\n",
       "      <td>270</td>\n",
       "    </tr>\n",
       "    <tr>\n",
       "      <th>2</th>\n",
       "      <td>6</td>\n",
       "      <td>2009-12-21</td>\n",
       "      <td>NaN</td>\n",
       "      <td>2010-09-26</td>\n",
       "      <td>0</td>\n",
       "      <td>279</td>\n",
       "    </tr>\n",
       "    <tr>\n",
       "      <th>198</th>\n",
       "      <td>963</td>\n",
       "      <td>2009-10-21</td>\n",
       "      <td>NaN</td>\n",
       "      <td>2010-08-05</td>\n",
       "      <td>0</td>\n",
       "      <td>288</td>\n",
       "    </tr>\n",
       "    <tr>\n",
       "      <th>1</th>\n",
       "      <td>4</td>\n",
       "      <td>2009-11-25</td>\n",
       "      <td>NaN</td>\n",
       "      <td>2010-09-23</td>\n",
       "      <td>0</td>\n",
       "      <td>302</td>\n",
       "    </tr>\n",
       "    <tr>\n",
       "      <th>173</th>\n",
       "      <td>848</td>\n",
       "      <td>2010-01-12</td>\n",
       "      <td>NaN</td>\n",
       "      <td>2010-12-24</td>\n",
       "      <td>0</td>\n",
       "      <td>346</td>\n",
       "    </tr>\n",
       "  </tbody>\n",
       "</table>\n",
       "</div>"
      ],
      "text/plain": [
       "      pid   startdate deathdate     enddate  Dead  Survival_days\n",
       "156   755  2010-08-31       NaN  2011-01-08     0            130\n",
       "61    330  2010-06-24       NaN  2010-11-08     0            137\n",
       "49    282  2010-04-04       NaN  2010-11-04     0            214\n",
       "67    343  2010-03-01       NaN  2010-10-27     0            240\n",
       "184   888  2010-03-07       NaN  2010-11-20     0            258\n",
       "222  1069  2009-08-09       NaN  2010-05-06     0            270\n",
       "2       6  2009-12-21       NaN  2010-09-26     0            279\n",
       "198   963  2009-10-21       NaN  2010-08-05     0            288\n",
       "1       4  2009-11-25       NaN  2010-09-23     0            302\n",
       "173   848  2010-01-12       NaN  2010-12-24     0            346"
      ]
     },
     "execution_count": 93,
     "metadata": {},
     "output_type": "execute_result"
    }
   ],
   "source": [
    "import pandas as pd\n",
    "death_df = specified_dfs['death']\n",
    "joined_death_condOcc_df = pd.merge(co_pid_groupby_start_date_min_df, death_df, on='pid', how='left')\n",
    "joined_death_start_end_df = pd.merge(joined_death_condOcc_df, concatenated_dfs_max_enddate, on='pid', how='inner')\n",
    "joined_death_start_end_df['Dead'] =  joined_death_start_end_df.apply(lambda row: 0 if pd.isnull(row['deathdate']) else 1, axis=1)\n",
    "joined_death_start_end_df['Survival_days'] = joined_death_start_end_df.apply(lambda row: (pd.to_datetime(row['enddate']) - pd.to_datetime(row['startdate'])).days if pd.isnull(row['deathdate']) else (pd.to_datetime(row['deathdate']) - pd.to_datetime(row['startdate'])).days, axis=1)\n",
    "\n",
    "joined_death_start_end_df = joined_death_start_end_df.sort_values(by=['Survival_days'], ascending=True)\n",
    "joined_death_start_end_df.head(10)"
   ]
  },
  {
   "cell_type": "markdown",
   "metadata": {},
   "source": [
    "### Kapalan Meier \n",
    "\n",
    "##### With the above dataframe and using the lifelines library, Kapalan Meier Survival curve is plotted along with censor ticks on display. \n",
    "##### With Date of diagnosis for Diabetes as start event and date of death as the end event.\n",
    "\n",
    "##### From the below curve, the survival looks quite good after diagnosis of Diabetes."
   ]
  },
  {
   "cell_type": "code",
   "execution_count": 94,
   "metadata": {},
   "outputs": [
    {
     "data": {
      "image/png": "[encoded data removed]",
      "text/plain": [
       "<Figure size 1944x576 with 1 Axes>"
      ]
     },
     "metadata": {
      "needs_background": "light"
     },
     "output_type": "display_data"
    }
   ],
   "source": [
    "from lifelines import KaplanMeierFitter\n",
    "import matplotlib.pyplot as plt\n",
    "\n",
    "kmf = KaplanMeierFitter()\n",
    "T = joined_death_start_end_df['Survival_days']\n",
    "E = joined_death_start_end_df['Dead']\n",
    "kmf.fit(T, event_observed=E)  # or, more succinctly, kmf.fit(T, E)\n",
    "plt.figure(figsize=(27,8))\n",
    "ax1 = plt.subplot(121)\n",
    "\n",
    "kmf.plot_survival_function(show_censors=True, ax=ax1, censor_styles={'ms': 1, 'marker': 's'})\n",
    "\n",
    "plt.title(\"Kaplan Meier estimates\", fontdict={'fontsize':20})\n",
    "plt.xlabel(\"Days after Type 1 / Type 2 Diabetes Diagnosis\")\n",
    "plt.ylabel(\"Survival\")\n",
    "plt.show()"
   ]
  },
  {
   "cell_type": "code",
   "execution_count": 25,
   "metadata": {},
   "outputs": [
    {
     "data": {
      "image/png": "[encoded data removed]",
      "text/plain": [
       "<Figure size 1800x1584 with 1 Axes>"
      ]
     },
     "metadata": {
      "needs_background": "light"
     },
     "output_type": "display_data"
    }
   ],
   "source": [
    "import pandas as pd\n",
    "\n",
    "barh_table = pd.crosstab(selective_patient_df.state, selective_patient_df.gender)\n",
    "ax = barh_table.plot.barh(figsize=(25,22), title='Group by Gender & State Categories')\n",
    "ax.yaxis.set_tick_params(labelsize='large')\n",
    "ax.title.set_size(25)"
   ]
  },
  {
   "cell_type": "code",
   "execution_count": 26,
   "metadata": {},
   "outputs": [
    {
     "data": {
      "image/png": "[encoded data removed]",
      "text/plain": [
       "<Figure size 1152x576 with 1 Axes>"
      ]
     },
     "metadata": {},
     "output_type": "display_data"
    }
   ],
   "source": [
    "import matplotlib.pyplot as plt\n",
    "\n",
    "# Group Data by Conditions\n",
    "co_mini_df = condOcc_df[['conditionname', 'pid']]\n",
    "co_group_df = co_mini_df.groupby(['conditionname']).count()\n",
    "co_group_df.rename(columns = {'pid':'count'}, inplace = True)\n",
    "\n",
    "# Sort & Pick the top 10 conditions\n",
    "co_group_df.sort_values(by=['count'], inplace=True, ascending=False)\n",
    "co_group_df_top10 = co_group_df.head(10)\n",
    "plt.figure(figsize=(16,8))\n",
    "\n",
    "# plot pie chart\n",
    "ax1 = plt.subplot(121)\n",
    "co_group_df_top10.plot(kind='pie', y = 'count', ax=ax1, autopct='%1.1f%%', \n",
    " startangle=90, shadow=False, legend = False, fontsize=14)\n",
    "\n",
    "plt.title('Diabetes & Other Comorbidities', fontdict={'fontsize':20})\n",
    "plt.axis('off')\n",
    "plt.show()"
   ]
  },
  {
   "cell_type": "code",
   "execution_count": null,
   "metadata": {},
   "outputs": [],
   "source": []
  }
 ],
 "metadata": {
  "kernelspec": {
   "display_name": "Python 3 (ipykernel)",
   "language": "python",
   "name": "python3"
  },
  "language_info": {
   "codemirror_mode": {
    "name": "ipython",
    "version": 3
   },
   "file_extension": ".py",
   "mimetype": "text/x-python",
   "name": "python",
   "nbconvert_exporter": "python",
   "pygments_lexer": "ipython3",
   "version": "3.10.4"
  }
 },
 "nbformat": 4,
 "nbformat_minor": 4
}
