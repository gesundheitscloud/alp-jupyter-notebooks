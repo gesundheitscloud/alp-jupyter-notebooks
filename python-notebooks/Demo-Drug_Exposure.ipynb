{
 "cells": [
  {
   "cell_type": "code",
   "execution_count": null,
   "id": "adapted-lindsay",
   "metadata": {},
   "outputs": [],
   "source": [
    "from pyqe import *\n",
    "\n",
    "total_patients_query = Query('Total_Participants') # Always begin your script by creating Query object\n",
    "\n",
    "total_patients_query.get_study_list()\n",
    "total_patients_query.set_study('<STUDY_ID>') # any STUDY_ID from above list\n",
    "\n",
    "total_patients_query.get_config_list()\n",
    "total_patients_query.set_study_config('<STUDY_CONFIG_ID>') # any config id from above list"
   ]
  },
  {
   "cell_type": "code",
   "execution_count": null,
   "id": "58675f2d-b03a-4288-8cae-9c6551138c67",
   "metadata": {},
   "outputs": [],
   "source": [
    "from pyqe import *\n",
    "\n",
    "total_patients_query = Query('Drug Exposure ADHD Phenotype')\n",
    "\n",
    "# Patients who are 80 years old and above\n",
    "patient_data = Person.Patient()\n",
    "constraint_age_greater_than_80_years = Constraint()\n",
    "constraint_age_greater_than_80_years.add(Expression(ComparisonOperator.MORE_THAN_EQUAL, 80))\n",
    "patient_data.add_age([constraint_age_greater_than_80_years])"
   ]
  },
  {
   "cell_type": "code",
   "execution_count": null,
   "id": "d7da784a-722e-4d52-bc5d-7a41fd26aa8e",
   "metadata": {},
   "outputs": [],
   "source": [
    "# Patients who have drug exposure Interactions for ADHD Medications intake\n",
    "adhd_drug_concepts  = ConceptSet('ADHD Medications',\n",
    "                            Domain.DRUG, \n",
    "                           ['1091497', '2599', '725', '40114', '308979', '308976', '308973', \n",
    "                            '2598', '4493', '36437', '35636', '32937', '10737',\n",
    "                            '310384', '313990','310385', '313989', '312938', \n",
    "                            '312940', '312941', '374185'])\n",
    "\n",
    "adhd_drugExposure = Interactions.DrugExposure(\"ADHD Medications Interaction\")\n",
    "adhd_drugExposure.add_concept_set(adhd_drug_concepts)\n",
    "\n",
    "# Select cohort who took medications between 2012 May & 2012 December\n",
    "constraint_start_date_time = Constraint()\n",
    "constraint_start_date_time.add(Expression(ComparisonOperator.MORE_THAN_EQUAL, '2005-05-05 00:00:00.000000000'))\n",
    "adhd_drugExposure.add_start_date([constraint_start_date_time])\n",
    "\n",
    "constraint_end_date_time = Constraint()\n",
    "constraint_end_date_time.add(Expression(ComparisonOperator.LESS_THAN_EQUAL, '2005-12-05 00:00:00.000000000'))\n",
    "adhd_drugExposure.add_end_date([constraint_end_date_time])\n"
   ]
  },
  {
   "cell_type": "code",
   "execution_count": null,
   "id": "4d0cfd52-9454-4127-ae5e-db65051ad1ab",
   "metadata": {},
   "outputs": [],
   "source": [
    "# Combine the criteria for demographic data & ADHD medications\n",
    "ADHD_group = CriteriaGroup(\n",
    "    MatchCriteria.ALL, [patient_data, adhd_drugExposure])\n",
    "\n",
    "# Add criteria group into query\n",
    "total_patients_query.add_criteria_group(ADHD_group)"
   ]
  },
  {
   "cell_type": "code",
   "execution_count": null,
   "id": "0a6209e9-372b-4a23-a920-95ca91d762c3",
   "metadata": {},
   "outputs": [],
   "source": [
    "# Generate the request\n",
    "request = total_patients_query.get_patient_count_filter()\n",
    "\n",
    "# Get the result from the request\n",
    "patient_count = Result().get_patient_count(request)\n",
    "print(f'\\nTotal number of patients for ADHD Phenotype: {patient_count}')"
   ]
  },
  {
   "cell_type": "code",
   "execution_count": null,
   "id": "1a4dae78-990a-49e2-b083-7202ebdbb553",
   "metadata": {},
   "outputs": [],
   "source": [
    "dataFrame_cohort = total_patients_query.get_dataframe_cohort([])\n",
    "drugExposure_dataFrame = Result().download_dataframe(dataFrame_cohort) # Select Drug Exposure from the list\n",
    "print('Cohort Drug Exposure dataframe first 20 records:')\n",
    "drugExposure_dataFrame.head(20)"
   ]
  },
  {
   "cell_type": "code",
   "execution_count": null,
   "id": "bd8c4515-fc15-49d8-87d5-86e4a5d51e27",
   "metadata": {},
   "outputs": [],
   "source": []
  }
 ],
 "metadata": {
  "kernelspec": {
   "display_name": "Python 3 (ipykernel)",
   "language": "python",
   "name": "python3"
  },
  "language_info": {
   "codemirror_mode": {
    "name": "ipython",
    "version": 3
   },
   "file_extension": ".py",
   "mimetype": "text/x-python",
   "name": "python",
   "nbconvert_exporter": "python",
   "pygments_lexer": "ipython3",
   "version": "3.9.6"
  }
 },
 "nbformat": 4,
 "nbformat_minor": 5
}
